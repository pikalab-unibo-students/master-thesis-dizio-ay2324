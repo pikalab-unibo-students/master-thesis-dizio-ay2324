{
  "nbformat": 4,
  "nbformat_minor": 0,
  "metadata": {
    "colab": {
      "provenance": []
    },
    "kernelspec": {
      "name": "python3",
      "display_name": "Python 3"
    },
    "language_info": {
      "name": "python"
    }
  },
  "cells": [
    {
      "cell_type": "markdown",
      "source": [
        "#1. Dataset Collection"
      ],
      "metadata": {
        "id": "fhRlrj5FKTYO"
      }
    },
    {
      "cell_type": "markdown",
      "source": [
        "$\\mathcal{D} = \\{(\\vec{x}_n, y_n)\\}_{n=1}^N \\in \\mathbb{D} \\subset \\mathbb{X} \\times \\mathbb{Y}$\n"
      ],
      "metadata": {
        "id": "N5rASpkQVNKc"
      }
    },
    {
      "cell_type": "markdown",
      "source": [
        "##1.1 Standard"
      ],
      "metadata": {
        "id": "HqsSS6gONWfk"
      }
    },
    {
      "cell_type": "markdown",
      "source": [
        "Adult, German Credit, COMPAS, etc. (e.g., from OpenML: https://www.openml.org/search?type=data&sort=runs&id=179&status=active)"
      ],
      "metadata": {
        "id": "sp2GYjl7U2Iz"
      }
    },
    {
      "cell_type": "markdown",
      "source": [],
      "metadata": {
        "id": "cqX-NbE0tHEF"
      }
    },
    {
      "cell_type": "markdown",
      "source": [
        "## 1.2 Cutom"
      ],
      "metadata": {
        "id": "Gk5KnV9ANqN-"
      }
    },
    {
      "cell_type": "markdown",
      "source": [
        "From file (e.g., .csv with pandas)"
      ],
      "metadata": {
        "id": "LfmrLl7yU4yA"
      }
    },
    {
      "cell_type": "markdown",
      "source": [
        "#2. Scenario Declaration"
      ],
      "metadata": {
        "id": "lAuLhGPpNz5Y"
      }
    },
    {
      "cell_type": "markdown",
      "source": [
        "##2.1 Task\n"
      ],
      "metadata": {
        "id": "8sct57iyN-4U"
      }
    },
    {
      "cell_type": "markdown",
      "source": [
        "$f: \\mathbb{X} \\rightarrow \\mathbb{Y}$\n",
        "\n",
        "Indicate the **target** feature $Y \\subset \\mathbb{Y}$ (e.g., \"income\" in Adult)\n",
        "\n",
        "According to $Y$, we can have:\n",
        "*   Classification\n",
        "    * Binary $\\mathbb{Y} \\in [0, 1]$\n",
        "    * Multi-class $\\mathbb{Y} \\in \\mathbb{N}$\n",
        "*   Regression $\\mathbb{Y} \\in \\mathbb{R}$"
      ],
      "metadata": {
        "id": "sqgpxtYgU8W7"
      }
    },
    {
      "cell_type": "markdown",
      "source": [
        "##2.2 Sensible Features"
      ],
      "metadata": {
        "id": "oB7_LAdlQZK1"
      }
    },
    {
      "cell_type": "markdown",
      "source": [
        "Indicate the **sensitive** features $\\mathcal{X}_s =  X_{[:, S]}$ (e.g., \"gender\" and \"race\" in Adult)\n",
        "\n",
        "Each sensitive feature can be:\n",
        "*   Categorical\n",
        "    * Binary\n",
        "    * Multi\n",
        "*   Numerical"
      ],
      "metadata": {
        "id": "7GH9rfi-VBtx"
      }
    },
    {
      "cell_type": "markdown",
      "source": [
        "##2.3 Priviliged Groups"
      ],
      "metadata": {
        "id": "-u6fzZGPSvVV"
      }
    },
    {
      "cell_type": "markdown",
      "source": [
        "Indicate the **priviliged** groups (e.g., \"gender = male\" and \"race = white\" in Adult)\n",
        "\n",
        "We have different cases according to the sensitive feature in consideration:\n",
        "* Categorical\n",
        "    * Binary: only one group is priviliged\n",
        "    * Multi-cass: we can have more than one (should we define a distribution?)\n",
        "* Numerical:\n",
        "    * we can have only one group (then, specify an interval) or\n",
        "    * we can have more than one (then, specify a distribution)?"
      ],
      "metadata": {
        "id": "F0A-Z18GVEqE"
      }
    },
    {
      "cell_type": "markdown",
      "source": [
        "#3. Preliminary Analysis"
      ],
      "metadata": {
        "id": "jGCpy0WWUu8F"
      }
    },
    {
      "cell_type": "markdown",
      "source": [
        "##3.1 Preliminary Assessment"
      ],
      "metadata": {
        "id": "-NWm87RiVwt3"
      }
    },
    {
      "cell_type": "markdown",
      "source": [
        "Choose the fairness losses $\\mathcal{L}_fair$ you are interested into:\n",
        "* Group\n",
        "    * demographic parity (diff, ratio?)\n",
        "    * equalized odds (diff, ratio?)\n",
        "    * disparate impact\n",
        "* Individual\n",
        "    * equal opportunity\n",
        "* Counter-factual??\n",
        "\n",
        "And test them atop your sensitive features $\\mathcal{X}_s$."
      ],
      "metadata": {
        "id": "yQQPvcSiV4bF"
      }
    },
    {
      "cell_type": "markdown",
      "source": [
        "##3.2 Proxy Indentification"
      ],
      "metadata": {
        "id": "P6v6lsjFW20f"
      }
    },
    {
      "cell_type": "markdown",
      "source": [
        "Try different strategies to spot **proxy** features in the dataset:\n",
        "* Correlation matrix\n",
        "* Functional dependencies\n",
        "* ...\n"
      ],
      "metadata": {
        "id": "AEv3r4LBW806"
      }
    },
    {
      "cell_type": "markdown",
      "source": [
        "#4. Evaluation Protocol"
      ],
      "metadata": {
        "id": "AlBG7UPPVYv8"
      }
    },
    {
      "cell_type": "markdown",
      "source": [
        "We have to agree on a set of supported protocols:\n",
        "* hold-out (train/test split)\n",
        "* k-fold cross-validation (k splits)\n",
        "* stratified k-fold cross-validation (each split has the same target distribution)\n",
        "* stratified k-fold cross-validation for fairness (each split has also the same distribution wrt. sensitive features)"
      ],
      "metadata": {
        "id": "6x3u902TXa5U"
      }
    },
    {
      "cell_type": "markdown",
      "source": [
        "#5. ML Pipeline Definition"
      ],
      "metadata": {
        "id": "-ZQ62WThVnm9"
      }
    },
    {
      "cell_type": "markdown",
      "source": [
        "ML pipeline \"sklearn-like\" with \"fit_predict\"\n",
        "\n",
        "$$\\frac{1}{k} \\sum_{i=1}^{k} \\mathcal{L}\\left(\\langle \\mathcal{P}, \\mathcal{A} \\rangle_{\\lambda} ( \\mathcal{D}_{\\mathit{train}}^{(i)}), \\mathcal{D}_\\mathit{valid}^{(i)} \\right) \\, .$$\n"
      ],
      "metadata": {
        "id": "EIwMdgbmZfx1"
      }
    },
    {
      "cell_type": "markdown",
      "source": [
        "##5.1 Pre-processing"
      ],
      "metadata": {
        "id": "YRJgiePpYETj"
      }
    },
    {
      "cell_type": "markdown",
      "source": [
        "##5.2 In-processing"
      ],
      "metadata": {
        "id": "lDjZc9z4YGxY"
      }
    },
    {
      "cell_type": "markdown",
      "source": [
        "##5.3 Post-processing"
      ],
      "metadata": {
        "id": "Rm5anWlXYOLf"
      }
    },
    {
      "cell_type": "markdown",
      "source": [
        "#6. Optimization"
      ],
      "metadata": {
        "id": "dTqVOFtxYhSb"
      }
    },
    {
      "cell_type": "markdown",
      "source": [
        "Find best pipelines in a multi-objective problem (i.e., provide a pareto front, pipelines are hyperparamter configurations that achieves the best trade-offs accuracy/fairness)"
      ],
      "metadata": {
        "id": "zQUz9jEXYvOd"
      }
    },
    {
      "cell_type": "markdown",
      "source": [],
      "metadata": {
        "id": "Pg-qcMoJYvNN"
      }
    }
  ]
}