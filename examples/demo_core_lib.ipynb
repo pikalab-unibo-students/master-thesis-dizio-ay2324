{
 "cells": [
  {
   "cell_type": "markdown",
   "metadata": {
    "id": "fhRlrj5FKTYO"
   },
   "source": [
    "# 1. Dataset Collection"
   ]
  },
  {
   "cell_type": "markdown",
   "metadata": {
    "id": "N5rASpkQVNKc"
   },
   "source": [
    "$\\mathcal{D} = \\{(\\vec{x}_n, y_n)\\}_{n=1}^N \\in \\mathbb{D} \\subset \\mathbb{X} \\times \\mathbb{Y}$\n"
   ]
  },
  {
   "cell_type": "markdown",
   "metadata": {
    "id": "HqsSS6gONWfk"
   },
   "source": [
    "## 1.1 OpenML"
   ]
  },
  {
   "cell_type": "markdown",
   "metadata": {},
   "source": [
    "The dataset we are going to use as an example is very common in fairness examples, namely Adult.\n",
    "To obtain it we use OpenML which allows us to get a dataset in the form of Dataframe pandas with some extra information about the content"
   ]
  },
  {
   "cell_type": "code",
   "execution_count": 1,
   "metadata": {},
   "outputs": [],
   "source": [
    "import openml"
   ]
  },
  {
   "cell_type": "code",
   "execution_count": 2,
   "metadata": {},
   "outputs": [
    {
     "data": {
      "text/plain": [
       "OpenML Dataset\n",
       "==============\n",
       "Name.........: adult\n",
       "Version......: 1\n",
       "Format.......: ARFF\n",
       "Upload Date..: 2014-04-23 13:13:24\n",
       "Licence......: Public\n",
       "Download URL.: https://api.openml.org/data/v1/download/3608/adult.arff\n",
       "OpenML URL...: https://www.openml.org/d/179\n",
       "# of features: None"
      ]
     },
     "execution_count": 2,
     "metadata": {},
     "output_type": "execute_result"
    }
   ],
   "source": [
    "adult_dataset = openml.datasets.get_dataset(179)\n",
    "adult_dataset"
   ]
  },
  {
   "cell_type": "code",
   "execution_count": 3,
   "metadata": {},
   "outputs": [],
   "source": [
    "adult_X, _, z, col_name = adult_dataset.get_data(dataset_format=\"dataframe\")"
   ]
  },
  {
   "cell_type": "code",
   "execution_count": 4,
   "metadata": {},
   "outputs": [],
   "source": [
    "adult_X.rename(columns={'class': 'income'}, inplace=True)"
   ]
  },
  {
   "cell_type": "markdown",
   "metadata": {
    "id": "lAuLhGPpNz5Y"
   },
   "source": [
    "# 2. Fairlib Setup"
   ]
  },
  {
   "cell_type": "markdown",
   "metadata": {},
   "source": [
    "Setting up the library is very simple, just importing it and “wrapping” the dataframe to add useful features for the fairness process"
   ]
  },
  {
   "cell_type": "code",
   "execution_count": 5,
   "metadata": {},
   "outputs": [
    {
     "name": "stderr",
     "output_type": "stream",
     "text": [
      "INFO:fairlib:fairlib loaded\n"
     ]
    }
   ],
   "source": [
    "import fairlib as fl"
   ]
  },
  {
   "cell_type": "code",
   "execution_count": 6,
   "metadata": {},
   "outputs": [],
   "source": [
    "adult = fl.DataFrame(adult_X)"
   ]
  },
  {
   "cell_type": "markdown",
   "metadata": {
    "id": "8sct57iyN-4U"
   },
   "source": [
    "## 2.1 Target Features\n"
   ]
  },
  {
   "cell_type": "markdown",
   "metadata": {
    "id": "sqgpxtYgU8W7"
   },
   "source": [
    "$f: \\mathbb{X} \\rightarrow \\mathbb{Y}$\n",
    "\n",
    "Indicate the **target** feature $Y \\subset \\mathbb{Y}$ (e.g., \"income\" in Adult)\n",
    "\n",
    "According to $Y$, we can have:\n",
    "*   Classification\n",
    "    * Binary $\\mathbb{Y} \\in [0, 1]$\n",
    "    * Multi-class $\\mathbb{Y} \\in \\mathbb{N}$\n",
    "*   Regression $\\mathbb{Y} \\in \\mathbb{R}$"
   ]
  },
  {
   "cell_type": "code",
   "execution_count": 7,
   "metadata": {},
   "outputs": [],
   "source": [
    "adult.targets = 'income'"
   ]
  },
  {
   "cell_type": "markdown",
   "metadata": {
    "id": "oB7_LAdlQZK1"
   },
   "source": [
    "## 2.2 Sensible Features"
   ]
  },
  {
   "cell_type": "markdown",
   "metadata": {
    "id": "7GH9rfi-VBtx"
   },
   "source": [
    "Indicate the **sensitive** features $\\mathcal{X}_s =  X_{[:, S]}$ (e.g., \"gender\" and \"race\" in Adult)\n",
    "\n",
    "Each sensitive feature can be:\n",
    "*   Categorical\n",
    "    * Binary\n",
    "    * Multi\n",
    "*   Numerical"
   ]
  },
  {
   "cell_type": "code",
   "execution_count": 8,
   "metadata": {},
   "outputs": [],
   "source": [
    "adult.sensitive = {'sex', 'race'}"
   ]
  },
  {
   "cell_type": "markdown",
   "metadata": {
    "id": "-u6fzZGPSvVV"
   },
   "source": [
    "## 2.3 Priviliged Groups"
   ]
  },
  {
   "cell_type": "markdown",
   "metadata": {
    "id": "F0A-Z18GVEqE"
   },
   "source": [
    "Indicate the **Privileged** groups (e.g., \"gender = male\" and \"race = white\" in Adult)\n",
    "\n",
    "We have different cases according to the sensitive feature in consideration:\n",
    "* Categorical\n",
    "    * Binary: only one group is priviliged\n",
    "    * Multi-cass: we can have more than one (should we define a distribution?)\n",
    "* Numerical:\n",
    "    * we can have only one group (then, specify an interval) or\n",
    "    * we can have more than one (then, specify a distribution)?"
   ]
  },
  {
   "cell_type": "code",
   "execution_count": 9,
   "metadata": {},
   "outputs": [],
   "source": [
    "privileged = {\n",
    "    \"sex\": lambda x: x == \"Male\",\n",
    "    \"race\": lambda x: x == \"White\",\n",
    "    \"income\": lambda x: x == \">50K\",\n",
    "}"
   ]
  },
  {
   "cell_type": "code",
   "execution_count": 10,
   "metadata": {},
   "outputs": [],
   "source": [
    "for column, rule in privileged.items():\n",
    "    adult[column] = adult[column].apply(rule).astype(int)"
   ]
  },
  {
   "cell_type": "markdown",
   "metadata": {
    "id": "jGCpy0WWUu8F"
   },
   "source": [
    "# 3. Preliminary Analysis"
   ]
  },
  {
   "cell_type": "markdown",
   "metadata": {
    "id": "-NWm87RiVwt3"
   },
   "source": [
    "## 3.1 Preliminary Assessment"
   ]
  },
  {
   "cell_type": "markdown",
   "metadata": {
    "id": "yQQPvcSiV4bF"
   },
   "source": [
    "Choose the fairness losses $\\mathcal{L}_fair$ you are interested into:\n",
    "* Group\n",
    "    * statistical parity\n",
    "    * equalized odds\n",
    "    * disparate impact\n",
    "* Individual\n",
    "    * equal opportunity\n",
    "* Counter-factual\n",
    "\n",
    "And test them atop your sensitive features $\\mathcal{X}_s$."
   ]
  },
  {
   "cell_type": "code",
   "execution_count": 11,
   "metadata": {},
   "outputs": [
    {
     "name": "stderr",
     "output_type": "stream",
     "text": [
      "/Users/gciatto/Work/Students/master-thesis-dizio-ay2324/fairlib/metrics/_utils.py:25: UserWarning: Sensitive column has less than 2 unique values: 1\n",
      "  warnings.warn(\n"
     ]
    },
    {
     "data": {
      "text/plain": [
       "{(income=1, sex=1): 0.3596552625800337, (income=1, race=1): 0.6005915505110953}"
      ]
     },
     "execution_count": 11,
     "metadata": {},
     "output_type": "execute_result"
    }
   ],
   "source": [
    "adult.disparate_impact()"
   ]
  },
  {
   "cell_type": "code",
   "execution_count": 12,
   "metadata": {},
   "outputs": [
    {
     "data": {
      "text/plain": [
       "{(income=1, sex=1): 0.19451574596420296, (income=1, race=1): 0.10144450514172723}"
      ]
     },
     "execution_count": 12,
     "metadata": {},
     "output_type": "execute_result"
    }
   ],
   "source": [
    "adult.statistical_parity_difference()"
   ]
  },
  {
   "cell_type": "markdown",
   "metadata": {
    "id": "P6v6lsjFW20f"
   },
   "source": [
    "## 3.2 Proxy Indentification"
   ]
  },
  {
   "cell_type": "markdown",
   "metadata": {
    "id": "AEv3r4LBW806"
   },
   "source": [
    "Try different strategies to spot **proxy** features in the dataset:\n",
    "* Correlation matrix\n",
    "* Functional dependencies\n",
    "* ...\n"
   ]
  },
  {
   "cell_type": "markdown",
   "metadata": {
    "id": "AlBG7UPPVYv8"
   },
   "source": [
    "# 4. Evaluation Protocol"
   ]
  },
  {
   "cell_type": "markdown",
   "metadata": {
    "id": "6x3u902TXa5U"
   },
   "source": [
    "We have to agree on a set of supported protocols:\n",
    "* hold-out (train/test split)\n",
    "* k-fold cross-validation (k splits)\n",
    "* stratified k-fold cross-validation (each split has the same target distribution)\n",
    "* stratified k-fold cross-validation for fairness (each split has also the same distribution wrt. sensitive features)"
   ]
  },
  {
   "cell_type": "markdown",
   "metadata": {
    "id": "-ZQ62WThVnm9"
   },
   "source": [
    "# 5. ML Pipeline Definition"
   ]
  },
  {
   "cell_type": "markdown",
   "metadata": {
    "id": "EIwMdgbmZfx1"
   },
   "source": [
    "ML pipeline \"sklearn-like\" with \"fit_predict\"\n",
    "\n",
    "$$\\frac{1}{k} \\sum_{i=1}^{k} \\mathcal{L}\\left(\\langle \\mathcal{P}, \\mathcal{A} \\rangle_{\\lambda} ( \\mathcal{D}_{\\mathit{train}}^{(i)}), \\mathcal{D}_\\mathit{valid}^{(i)} \\right) \\, .$$\n"
   ]
  },
  {
   "cell_type": "markdown",
   "metadata": {
    "id": "YRJgiePpYETj"
   },
   "source": [
    "## 5.1 Pre-processing"
   ]
  },
  {
   "cell_type": "markdown",
   "metadata": {
    "id": "lDjZc9z4YGxY"
   },
   "source": [
    "## 5.2 In-processing"
   ]
  },
  {
   "cell_type": "markdown",
   "metadata": {
    "id": "Rm5anWlXYOLf"
   },
   "source": [
    "## 5.3 Post-processing"
   ]
  },
  {
   "cell_type": "markdown",
   "metadata": {
    "id": "dTqVOFtxYhSb"
   },
   "source": [
    "# 6. Optimization"
   ]
  },
  {
   "cell_type": "markdown",
   "metadata": {
    "id": "zQUz9jEXYvOd"
   },
   "source": [
    "Find best pipelines in a multi-objective problem (i.e., provide a pareto front, pipelines are hyperparamter configurations that achieves the best trade-offs accuracy/fairness)"
   ]
  },
  {
   "cell_type": "code",
   "execution_count": null,
   "metadata": {},
   "outputs": [],
   "source": []
  }
 ],
 "metadata": {
  "colab": {
   "provenance": []
  },
  "kernelspec": {
   "display_name": ".venv",
   "language": "python",
   "name": "python3"
  },
  "language_info": {
   "codemirror_mode": {
    "name": "ipython",
    "version": 3
   },
   "file_extension": ".py",
   "mimetype": "text/x-python",
   "name": "python",
   "nbconvert_exporter": "python",
   "pygments_lexer": "ipython3",
   "version": "3.12.7"
  }
 },
 "nbformat": 4,
 "nbformat_minor": 4
}
