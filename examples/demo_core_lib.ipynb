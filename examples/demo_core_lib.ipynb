{
 "cells": [
  {
   "cell_type": "markdown",
   "metadata": {
    "id": "fhRlrj5FKTYO"
   },
   "source": [
    "# 1. Dataset Collection"
   ]
  },
  {
   "cell_type": "markdown",
   "metadata": {
    "id": "N5rASpkQVNKc"
   },
   "source": [
    "$\\mathcal{D} = \\{(\\vec{x}_n, y_n)\\}_{n=1}^N \\in \\mathbb{D} \\subset \\mathbb{X} \\times \\mathbb{Y}$\n"
   ]
  },
  {
   "cell_type": "markdown",
   "metadata": {
    "id": "HqsSS6gONWfk"
   },
   "source": [
    "## 1.1 OpenML"
   ]
  },
  {
   "cell_type": "markdown",
   "metadata": {},
   "source": [
    "The dataset we are going to use as an example is very common in fairness examples, namely Adult.\n",
    "To obtain it we use OpenML which allows us to get a dataset in the form of Dataframe pandas with some extra information about the content"
   ]
  },
  {
   "cell_type": "code",
   "execution_count": 1,
   "metadata": {},
   "outputs": [],
   "source": [
    "import openml"
   ]
  },
  {
   "cell_type": "code",
   "execution_count": 2,
   "metadata": {},
   "outputs": [
    {
     "data": {
      "text/plain": [
       "OpenML Dataset\n",
       "==============\n",
       "Name.........: adult\n",
       "Version......: 1\n",
       "Format.......: ARFF\n",
       "Upload Date..: 2014-04-23 13:13:24\n",
       "Licence......: Public\n",
       "Download URL.: https://api.openml.org/data/v1/download/3608/adult.arff\n",
       "OpenML URL...: https://www.openml.org/d/179\n",
       "# of features: None"
      ]
     },
     "execution_count": 2,
     "metadata": {},
     "output_type": "execute_result"
    }
   ],
   "source": [
    "adult_dataset = openml.datasets.get_dataset(179)\n",
    "adult_dataset"
   ]
  },
  {
   "cell_type": "code",
   "execution_count": 3,
   "metadata": {},
   "outputs": [],
   "source": [
    "adult_X, _, z, col_name = adult_dataset.get_data(dataset_format=\"dataframe\")"
   ]
  },
  {
   "cell_type": "code",
   "execution_count": 4,
   "metadata": {},
   "outputs": [],
   "source": [
    "adult_X.rename(columns={'class': 'income'}, inplace=True)"
   ]
  },
  {
   "cell_type": "markdown",
   "metadata": {
    "id": "lAuLhGPpNz5Y"
   },
   "source": [
    "# 2. Fairlib Setup"
   ]
  },
  {
   "cell_type": "markdown",
   "metadata": {},
   "source": [
    "Setting up the library is very simple, just importing it and “wrapping” the dataframe to add useful features for the fairness process"
   ]
  },
  {
   "cell_type": "code",
   "execution_count": 5,
   "metadata": {},
   "outputs": [
    {
     "name": "stderr",
     "output_type": "stream",
     "text": [
      "INFO:fairlib:fairlib loaded\n"
     ]
    }
   ],
   "source": [
    "import fairlib as fl"
   ]
  },
  {
   "cell_type": "code",
   "execution_count": 6,
   "metadata": {},
   "outputs": [],
   "source": [
    "adult = fl.DataFrame(adult_X)"
   ]
  },
  {
   "cell_type": "markdown",
   "metadata": {
    "id": "8sct57iyN-4U"
   },
   "source": [
    "## 2.1 Target Features\n"
   ]
  },
  {
   "cell_type": "markdown",
   "metadata": {
    "id": "sqgpxtYgU8W7"
   },
   "source": [
    "$f: \\mathbb{X} \\rightarrow \\mathbb{Y}$\n",
    "\n",
    "Indicate the **target** feature $Y \\subset \\mathbb{Y}$ (e.g., \"income\" in Adult)\n",
    "\n",
    "According to $Y$, we can have:\n",
    "*   Classification\n",
    "    * Binary $\\mathbb{Y} \\in [0, 1]$\n",
    "    * Multi-class $\\mathbb{Y} \\in \\mathbb{N}$\n",
    "*   Regression $\\mathbb{Y} \\in \\mathbb{R}$"
   ]
  },
  {
   "cell_type": "code",
   "execution_count": 7,
   "metadata": {},
   "outputs": [],
   "source": [
    "adult.targets = 'income'"
   ]
  },
  {
   "cell_type": "markdown",
   "metadata": {
    "id": "oB7_LAdlQZK1"
   },
   "source": [
    "## 2.2 Sensible Features"
   ]
  },
  {
   "cell_type": "markdown",
   "metadata": {
    "id": "7GH9rfi-VBtx"
   },
   "source": [
    "Indicate the **sensitive** features $\\mathcal{X}_s =  X_{[:, S]}$ (e.g., \"gender\" and \"race\" in Adult)\n",
    "\n",
    "Each sensitive feature can be:\n",
    "*   Categorical\n",
    "    * Binary\n",
    "    * Multi\n",
    "*   Numerical"
   ]
  },
  {
   "cell_type": "code",
   "execution_count": 8,
   "metadata": {},
   "outputs": [],
   "source": [
    "adult.sensitive = {'sex', 'race'}"
   ]
  },
  {
   "cell_type": "markdown",
   "metadata": {
    "id": "-u6fzZGPSvVV"
   },
   "source": [
    "## 2.3 Priviliged Groups"
   ]
  },
  {
   "cell_type": "code",
   "execution_count": 9,
   "metadata": {},
   "outputs": [
    {
     "data": {
      "text/html": [
       "<div>\n",
       "<style scoped>\n",
       "    .dataframe tbody tr th:only-of-type {\n",
       "        vertical-align: middle;\n",
       "    }\n",
       "\n",
       "    .dataframe tbody tr th {\n",
       "        vertical-align: top;\n",
       "    }\n",
       "\n",
       "    .dataframe thead th {\n",
       "        text-align: right;\n",
       "    }\n",
       "</style>\n",
       "<table border=\"1\" class=\"dataframe\">\n",
       "  <thead>\n",
       "    <tr style=\"text-align: right;\">\n",
       "      <th></th>\n",
       "      <th>age</th>\n",
       "      <th>workclass</th>\n",
       "      <th>fnlwgt</th>\n",
       "      <th>education</th>\n",
       "      <th>education-num</th>\n",
       "      <th>marital-status</th>\n",
       "      <th>occupation</th>\n",
       "      <th>relationship</th>\n",
       "      <th>race</th>\n",
       "      <th>sex</th>\n",
       "      <th>capitalgain</th>\n",
       "      <th>capitalloss</th>\n",
       "      <th>hoursperweek</th>\n",
       "      <th>native-country</th>\n",
       "      <th>income</th>\n",
       "    </tr>\n",
       "  </thead>\n",
       "  <tbody>\n",
       "    <tr>\n",
       "      <th>0</th>\n",
       "      <td>2</td>\n",
       "      <td>State-gov</td>\n",
       "      <td>77516.0</td>\n",
       "      <td>Bachelors</td>\n",
       "      <td>13</td>\n",
       "      <td>Never-married</td>\n",
       "      <td>Adm-clerical</td>\n",
       "      <td>Not-in-family</td>\n",
       "      <td>White</td>\n",
       "      <td>Male</td>\n",
       "      <td>1</td>\n",
       "      <td>0</td>\n",
       "      <td>2</td>\n",
       "      <td>United-States</td>\n",
       "      <td>&lt;=50K</td>\n",
       "    </tr>\n",
       "    <tr>\n",
       "      <th>1</th>\n",
       "      <td>3</td>\n",
       "      <td>Self-emp-not-inc</td>\n",
       "      <td>83311.0</td>\n",
       "      <td>Bachelors</td>\n",
       "      <td>13</td>\n",
       "      <td>Married-civ-spouse</td>\n",
       "      <td>Exec-managerial</td>\n",
       "      <td>Husband</td>\n",
       "      <td>White</td>\n",
       "      <td>Male</td>\n",
       "      <td>0</td>\n",
       "      <td>0</td>\n",
       "      <td>0</td>\n",
       "      <td>United-States</td>\n",
       "      <td>&lt;=50K</td>\n",
       "    </tr>\n",
       "    <tr>\n",
       "      <th>2</th>\n",
       "      <td>2</td>\n",
       "      <td>Private</td>\n",
       "      <td>215646.0</td>\n",
       "      <td>HS-grad</td>\n",
       "      <td>9</td>\n",
       "      <td>Divorced</td>\n",
       "      <td>Handlers-cleaners</td>\n",
       "      <td>Not-in-family</td>\n",
       "      <td>White</td>\n",
       "      <td>Male</td>\n",
       "      <td>0</td>\n",
       "      <td>0</td>\n",
       "      <td>2</td>\n",
       "      <td>United-States</td>\n",
       "      <td>&lt;=50K</td>\n",
       "    </tr>\n",
       "    <tr>\n",
       "      <th>3</th>\n",
       "      <td>3</td>\n",
       "      <td>Private</td>\n",
       "      <td>234721.0</td>\n",
       "      <td>11th</td>\n",
       "      <td>7</td>\n",
       "      <td>Married-civ-spouse</td>\n",
       "      <td>Handlers-cleaners</td>\n",
       "      <td>Husband</td>\n",
       "      <td>Black</td>\n",
       "      <td>Male</td>\n",
       "      <td>0</td>\n",
       "      <td>0</td>\n",
       "      <td>2</td>\n",
       "      <td>United-States</td>\n",
       "      <td>&lt;=50K</td>\n",
       "    </tr>\n",
       "    <tr>\n",
       "      <th>4</th>\n",
       "      <td>1</td>\n",
       "      <td>Private</td>\n",
       "      <td>338409.0</td>\n",
       "      <td>Bachelors</td>\n",
       "      <td>13</td>\n",
       "      <td>Married-civ-spouse</td>\n",
       "      <td>Prof-specialty</td>\n",
       "      <td>Wife</td>\n",
       "      <td>Black</td>\n",
       "      <td>Female</td>\n",
       "      <td>0</td>\n",
       "      <td>0</td>\n",
       "      <td>2</td>\n",
       "      <td>Cuba</td>\n",
       "      <td>&lt;=50K</td>\n",
       "    </tr>\n",
       "    <tr>\n",
       "      <th>...</th>\n",
       "      <td>...</td>\n",
       "      <td>...</td>\n",
       "      <td>...</td>\n",
       "      <td>...</td>\n",
       "      <td>...</td>\n",
       "      <td>...</td>\n",
       "      <td>...</td>\n",
       "      <td>...</td>\n",
       "      <td>...</td>\n",
       "      <td>...</td>\n",
       "      <td>...</td>\n",
       "      <td>...</td>\n",
       "      <td>...</td>\n",
       "      <td>...</td>\n",
       "      <td>...</td>\n",
       "    </tr>\n",
       "    <tr>\n",
       "      <th>48837</th>\n",
       "      <td>2</td>\n",
       "      <td>Private</td>\n",
       "      <td>215419.0</td>\n",
       "      <td>Bachelors</td>\n",
       "      <td>13</td>\n",
       "      <td>Divorced</td>\n",
       "      <td>Prof-specialty</td>\n",
       "      <td>Not-in-family</td>\n",
       "      <td>White</td>\n",
       "      <td>Female</td>\n",
       "      <td>0</td>\n",
       "      <td>0</td>\n",
       "      <td>2</td>\n",
       "      <td>United-States</td>\n",
       "      <td>&lt;=50K</td>\n",
       "    </tr>\n",
       "    <tr>\n",
       "      <th>48838</th>\n",
       "      <td>4</td>\n",
       "      <td>NaN</td>\n",
       "      <td>321403.0</td>\n",
       "      <td>HS-grad</td>\n",
       "      <td>9</td>\n",
       "      <td>Widowed</td>\n",
       "      <td>NaN</td>\n",
       "      <td>Other-relative</td>\n",
       "      <td>Black</td>\n",
       "      <td>Male</td>\n",
       "      <td>0</td>\n",
       "      <td>0</td>\n",
       "      <td>2</td>\n",
       "      <td>United-States</td>\n",
       "      <td>&lt;=50K</td>\n",
       "    </tr>\n",
       "    <tr>\n",
       "      <th>48839</th>\n",
       "      <td>2</td>\n",
       "      <td>Private</td>\n",
       "      <td>374983.0</td>\n",
       "      <td>Bachelors</td>\n",
       "      <td>13</td>\n",
       "      <td>Married-civ-spouse</td>\n",
       "      <td>Prof-specialty</td>\n",
       "      <td>Husband</td>\n",
       "      <td>White</td>\n",
       "      <td>Male</td>\n",
       "      <td>0</td>\n",
       "      <td>0</td>\n",
       "      <td>3</td>\n",
       "      <td>United-States</td>\n",
       "      <td>&lt;=50K</td>\n",
       "    </tr>\n",
       "    <tr>\n",
       "      <th>48840</th>\n",
       "      <td>2</td>\n",
       "      <td>Private</td>\n",
       "      <td>83891.0</td>\n",
       "      <td>Bachelors</td>\n",
       "      <td>13</td>\n",
       "      <td>Divorced</td>\n",
       "      <td>Adm-clerical</td>\n",
       "      <td>Own-child</td>\n",
       "      <td>Asian-Pac-Islander</td>\n",
       "      <td>Male</td>\n",
       "      <td>2</td>\n",
       "      <td>0</td>\n",
       "      <td>2</td>\n",
       "      <td>United-States</td>\n",
       "      <td>&lt;=50K</td>\n",
       "    </tr>\n",
       "    <tr>\n",
       "      <th>48841</th>\n",
       "      <td>1</td>\n",
       "      <td>Self-emp-inc</td>\n",
       "      <td>182148.0</td>\n",
       "      <td>Bachelors</td>\n",
       "      <td>13</td>\n",
       "      <td>Married-civ-spouse</td>\n",
       "      <td>Exec-managerial</td>\n",
       "      <td>Husband</td>\n",
       "      <td>White</td>\n",
       "      <td>Male</td>\n",
       "      <td>0</td>\n",
       "      <td>0</td>\n",
       "      <td>3</td>\n",
       "      <td>United-States</td>\n",
       "      <td>&gt;50K</td>\n",
       "    </tr>\n",
       "  </tbody>\n",
       "</table>\n",
       "<p>48842 rows × 15 columns</p>\n",
       "</div>"
      ],
      "text/plain": [
       "      age         workclass    fnlwgt  education  education-num  \\\n",
       "0       2         State-gov   77516.0  Bachelors             13   \n",
       "1       3  Self-emp-not-inc   83311.0  Bachelors             13   \n",
       "2       2           Private  215646.0    HS-grad              9   \n",
       "3       3           Private  234721.0       11th              7   \n",
       "4       1           Private  338409.0  Bachelors             13   \n",
       "...    ..               ...       ...        ...            ...   \n",
       "48837   2           Private  215419.0  Bachelors             13   \n",
       "48838   4               NaN  321403.0    HS-grad              9   \n",
       "48839   2           Private  374983.0  Bachelors             13   \n",
       "48840   2           Private   83891.0  Bachelors             13   \n",
       "48841   1      Self-emp-inc  182148.0  Bachelors             13   \n",
       "\n",
       "           marital-status         occupation    relationship  \\\n",
       "0           Never-married       Adm-clerical   Not-in-family   \n",
       "1      Married-civ-spouse    Exec-managerial         Husband   \n",
       "2                Divorced  Handlers-cleaners   Not-in-family   \n",
       "3      Married-civ-spouse  Handlers-cleaners         Husband   \n",
       "4      Married-civ-spouse     Prof-specialty            Wife   \n",
       "...                   ...                ...             ...   \n",
       "48837            Divorced     Prof-specialty   Not-in-family   \n",
       "48838             Widowed                NaN  Other-relative   \n",
       "48839  Married-civ-spouse     Prof-specialty         Husband   \n",
       "48840            Divorced       Adm-clerical       Own-child   \n",
       "48841  Married-civ-spouse    Exec-managerial         Husband   \n",
       "\n",
       "                     race     sex capitalgain capitalloss hoursperweek  \\\n",
       "0                   White    Male           1           0            2   \n",
       "1                   White    Male           0           0            0   \n",
       "2                   White    Male           0           0            2   \n",
       "3                   Black    Male           0           0            2   \n",
       "4                   Black  Female           0           0            2   \n",
       "...                   ...     ...         ...         ...          ...   \n",
       "48837               White  Female           0           0            2   \n",
       "48838               Black    Male           0           0            2   \n",
       "48839               White    Male           0           0            3   \n",
       "48840  Asian-Pac-Islander    Male           2           0            2   \n",
       "48841               White    Male           0           0            3   \n",
       "\n",
       "      native-country income  \n",
       "0      United-States  <=50K  \n",
       "1      United-States  <=50K  \n",
       "2      United-States  <=50K  \n",
       "3      United-States  <=50K  \n",
       "4               Cuba  <=50K  \n",
       "...              ...    ...  \n",
       "48837  United-States  <=50K  \n",
       "48838  United-States  <=50K  \n",
       "48839  United-States  <=50K  \n",
       "48840  United-States  <=50K  \n",
       "48841  United-States   >50K  \n",
       "\n",
       "[48842 rows x 15 columns]"
      ]
     },
     "execution_count": 9,
     "metadata": {},
     "output_type": "execute_result"
    }
   ],
   "source": [
    "adult"
   ]
  },
  {
   "cell_type": "code",
   "execution_count": 10,
   "metadata": {},
   "outputs": [
    {
     "data": {
      "text/html": [
       "<div>\n",
       "<style scoped>\n",
       "    .dataframe tbody tr th:only-of-type {\n",
       "        vertical-align: middle;\n",
       "    }\n",
       "\n",
       "    .dataframe tbody tr th {\n",
       "        vertical-align: top;\n",
       "    }\n",
       "\n",
       "    .dataframe thead th {\n",
       "        text-align: right;\n",
       "    }\n",
       "</style>\n",
       "<table border=\"1\" class=\"dataframe\">\n",
       "  <thead>\n",
       "    <tr style=\"text-align: right;\">\n",
       "      <th></th>\n",
       "      <th>age</th>\n",
       "      <th>workclass</th>\n",
       "      <th>fnlwgt</th>\n",
       "      <th>education</th>\n",
       "      <th>education-num</th>\n",
       "      <th>marital-status</th>\n",
       "      <th>occupation</th>\n",
       "      <th>relationship==Husband</th>\n",
       "      <th>relationship==Not-in-family</th>\n",
       "      <th>relationship==Other-relative</th>\n",
       "      <th>relationship==Own-child</th>\n",
       "      <th>relationship==Unmarried</th>\n",
       "      <th>relationship==Wife</th>\n",
       "      <th>race</th>\n",
       "      <th>capitalgain</th>\n",
       "      <th>capitalloss</th>\n",
       "      <th>hoursperweek</th>\n",
       "      <th>native-country</th>\n",
       "      <th>income&gt;50k</th>\n",
       "      <th>male</th>\n",
       "    </tr>\n",
       "  </thead>\n",
       "  <tbody>\n",
       "    <tr>\n",
       "      <th>0</th>\n",
       "      <td>2</td>\n",
       "      <td>State-gov</td>\n",
       "      <td>77516.0</td>\n",
       "      <td>Bachelors</td>\n",
       "      <td>13</td>\n",
       "      <td>Never-married</td>\n",
       "      <td>Adm-clerical</td>\n",
       "      <td>False</td>\n",
       "      <td>True</td>\n",
       "      <td>False</td>\n",
       "      <td>False</td>\n",
       "      <td>False</td>\n",
       "      <td>False</td>\n",
       "      <td>White</td>\n",
       "      <td>1</td>\n",
       "      <td>0</td>\n",
       "      <td>2</td>\n",
       "      <td>United-States</td>\n",
       "      <td>False</td>\n",
       "      <td>True</td>\n",
       "    </tr>\n",
       "    <tr>\n",
       "      <th>1</th>\n",
       "      <td>3</td>\n",
       "      <td>Self-emp-not-inc</td>\n",
       "      <td>83311.0</td>\n",
       "      <td>Bachelors</td>\n",
       "      <td>13</td>\n",
       "      <td>Married-civ-spouse</td>\n",
       "      <td>Exec-managerial</td>\n",
       "      <td>True</td>\n",
       "      <td>False</td>\n",
       "      <td>False</td>\n",
       "      <td>False</td>\n",
       "      <td>False</td>\n",
       "      <td>False</td>\n",
       "      <td>White</td>\n",
       "      <td>0</td>\n",
       "      <td>0</td>\n",
       "      <td>0</td>\n",
       "      <td>United-States</td>\n",
       "      <td>False</td>\n",
       "      <td>True</td>\n",
       "    </tr>\n",
       "    <tr>\n",
       "      <th>2</th>\n",
       "      <td>2</td>\n",
       "      <td>Private</td>\n",
       "      <td>215646.0</td>\n",
       "      <td>HS-grad</td>\n",
       "      <td>9</td>\n",
       "      <td>Divorced</td>\n",
       "      <td>Handlers-cleaners</td>\n",
       "      <td>False</td>\n",
       "      <td>True</td>\n",
       "      <td>False</td>\n",
       "      <td>False</td>\n",
       "      <td>False</td>\n",
       "      <td>False</td>\n",
       "      <td>White</td>\n",
       "      <td>0</td>\n",
       "      <td>0</td>\n",
       "      <td>2</td>\n",
       "      <td>United-States</td>\n",
       "      <td>False</td>\n",
       "      <td>True</td>\n",
       "    </tr>\n",
       "    <tr>\n",
       "      <th>3</th>\n",
       "      <td>3</td>\n",
       "      <td>Private</td>\n",
       "      <td>234721.0</td>\n",
       "      <td>11th</td>\n",
       "      <td>7</td>\n",
       "      <td>Married-civ-spouse</td>\n",
       "      <td>Handlers-cleaners</td>\n",
       "      <td>True</td>\n",
       "      <td>False</td>\n",
       "      <td>False</td>\n",
       "      <td>False</td>\n",
       "      <td>False</td>\n",
       "      <td>False</td>\n",
       "      <td>Black</td>\n",
       "      <td>0</td>\n",
       "      <td>0</td>\n",
       "      <td>2</td>\n",
       "      <td>United-States</td>\n",
       "      <td>False</td>\n",
       "      <td>True</td>\n",
       "    </tr>\n",
       "    <tr>\n",
       "      <th>4</th>\n",
       "      <td>1</td>\n",
       "      <td>Private</td>\n",
       "      <td>338409.0</td>\n",
       "      <td>Bachelors</td>\n",
       "      <td>13</td>\n",
       "      <td>Married-civ-spouse</td>\n",
       "      <td>Prof-specialty</td>\n",
       "      <td>False</td>\n",
       "      <td>False</td>\n",
       "      <td>False</td>\n",
       "      <td>False</td>\n",
       "      <td>False</td>\n",
       "      <td>True</td>\n",
       "      <td>Black</td>\n",
       "      <td>0</td>\n",
       "      <td>0</td>\n",
       "      <td>2</td>\n",
       "      <td>Cuba</td>\n",
       "      <td>False</td>\n",
       "      <td>False</td>\n",
       "    </tr>\n",
       "    <tr>\n",
       "      <th>...</th>\n",
       "      <td>...</td>\n",
       "      <td>...</td>\n",
       "      <td>...</td>\n",
       "      <td>...</td>\n",
       "      <td>...</td>\n",
       "      <td>...</td>\n",
       "      <td>...</td>\n",
       "      <td>...</td>\n",
       "      <td>...</td>\n",
       "      <td>...</td>\n",
       "      <td>...</td>\n",
       "      <td>...</td>\n",
       "      <td>...</td>\n",
       "      <td>...</td>\n",
       "      <td>...</td>\n",
       "      <td>...</td>\n",
       "      <td>...</td>\n",
       "      <td>...</td>\n",
       "      <td>...</td>\n",
       "      <td>...</td>\n",
       "    </tr>\n",
       "    <tr>\n",
       "      <th>48837</th>\n",
       "      <td>2</td>\n",
       "      <td>Private</td>\n",
       "      <td>215419.0</td>\n",
       "      <td>Bachelors</td>\n",
       "      <td>13</td>\n",
       "      <td>Divorced</td>\n",
       "      <td>Prof-specialty</td>\n",
       "      <td>False</td>\n",
       "      <td>True</td>\n",
       "      <td>False</td>\n",
       "      <td>False</td>\n",
       "      <td>False</td>\n",
       "      <td>False</td>\n",
       "      <td>White</td>\n",
       "      <td>0</td>\n",
       "      <td>0</td>\n",
       "      <td>2</td>\n",
       "      <td>United-States</td>\n",
       "      <td>False</td>\n",
       "      <td>False</td>\n",
       "    </tr>\n",
       "    <tr>\n",
       "      <th>48838</th>\n",
       "      <td>4</td>\n",
       "      <td>NaN</td>\n",
       "      <td>321403.0</td>\n",
       "      <td>HS-grad</td>\n",
       "      <td>9</td>\n",
       "      <td>Widowed</td>\n",
       "      <td>NaN</td>\n",
       "      <td>False</td>\n",
       "      <td>False</td>\n",
       "      <td>True</td>\n",
       "      <td>False</td>\n",
       "      <td>False</td>\n",
       "      <td>False</td>\n",
       "      <td>Black</td>\n",
       "      <td>0</td>\n",
       "      <td>0</td>\n",
       "      <td>2</td>\n",
       "      <td>United-States</td>\n",
       "      <td>False</td>\n",
       "      <td>True</td>\n",
       "    </tr>\n",
       "    <tr>\n",
       "      <th>48839</th>\n",
       "      <td>2</td>\n",
       "      <td>Private</td>\n",
       "      <td>374983.0</td>\n",
       "      <td>Bachelors</td>\n",
       "      <td>13</td>\n",
       "      <td>Married-civ-spouse</td>\n",
       "      <td>Prof-specialty</td>\n",
       "      <td>True</td>\n",
       "      <td>False</td>\n",
       "      <td>False</td>\n",
       "      <td>False</td>\n",
       "      <td>False</td>\n",
       "      <td>False</td>\n",
       "      <td>White</td>\n",
       "      <td>0</td>\n",
       "      <td>0</td>\n",
       "      <td>3</td>\n",
       "      <td>United-States</td>\n",
       "      <td>False</td>\n",
       "      <td>True</td>\n",
       "    </tr>\n",
       "    <tr>\n",
       "      <th>48840</th>\n",
       "      <td>2</td>\n",
       "      <td>Private</td>\n",
       "      <td>83891.0</td>\n",
       "      <td>Bachelors</td>\n",
       "      <td>13</td>\n",
       "      <td>Divorced</td>\n",
       "      <td>Adm-clerical</td>\n",
       "      <td>False</td>\n",
       "      <td>False</td>\n",
       "      <td>False</td>\n",
       "      <td>True</td>\n",
       "      <td>False</td>\n",
       "      <td>False</td>\n",
       "      <td>Asian-Pac-Islander</td>\n",
       "      <td>2</td>\n",
       "      <td>0</td>\n",
       "      <td>2</td>\n",
       "      <td>United-States</td>\n",
       "      <td>False</td>\n",
       "      <td>True</td>\n",
       "    </tr>\n",
       "    <tr>\n",
       "      <th>48841</th>\n",
       "      <td>1</td>\n",
       "      <td>Self-emp-inc</td>\n",
       "      <td>182148.0</td>\n",
       "      <td>Bachelors</td>\n",
       "      <td>13</td>\n",
       "      <td>Married-civ-spouse</td>\n",
       "      <td>Exec-managerial</td>\n",
       "      <td>True</td>\n",
       "      <td>False</td>\n",
       "      <td>False</td>\n",
       "      <td>False</td>\n",
       "      <td>False</td>\n",
       "      <td>False</td>\n",
       "      <td>White</td>\n",
       "      <td>0</td>\n",
       "      <td>0</td>\n",
       "      <td>3</td>\n",
       "      <td>United-States</td>\n",
       "      <td>True</td>\n",
       "      <td>True</td>\n",
       "    </tr>\n",
       "  </tbody>\n",
       "</table>\n",
       "<p>48842 rows × 20 columns</p>\n",
       "</div>"
      ],
      "text/plain": [
       "      age         workclass    fnlwgt  education  education-num  \\\n",
       "0       2         State-gov   77516.0  Bachelors             13   \n",
       "1       3  Self-emp-not-inc   83311.0  Bachelors             13   \n",
       "2       2           Private  215646.0    HS-grad              9   \n",
       "3       3           Private  234721.0       11th              7   \n",
       "4       1           Private  338409.0  Bachelors             13   \n",
       "...    ..               ...       ...        ...            ...   \n",
       "48837   2           Private  215419.0  Bachelors             13   \n",
       "48838   4               NaN  321403.0    HS-grad              9   \n",
       "48839   2           Private  374983.0  Bachelors             13   \n",
       "48840   2           Private   83891.0  Bachelors             13   \n",
       "48841   1      Self-emp-inc  182148.0  Bachelors             13   \n",
       "\n",
       "           marital-status         occupation  relationship==Husband  \\\n",
       "0           Never-married       Adm-clerical                  False   \n",
       "1      Married-civ-spouse    Exec-managerial                   True   \n",
       "2                Divorced  Handlers-cleaners                  False   \n",
       "3      Married-civ-spouse  Handlers-cleaners                   True   \n",
       "4      Married-civ-spouse     Prof-specialty                  False   \n",
       "...                   ...                ...                    ...   \n",
       "48837            Divorced     Prof-specialty                  False   \n",
       "48838             Widowed                NaN                  False   \n",
       "48839  Married-civ-spouse     Prof-specialty                   True   \n",
       "48840            Divorced       Adm-clerical                  False   \n",
       "48841  Married-civ-spouse    Exec-managerial                   True   \n",
       "\n",
       "       relationship==Not-in-family  relationship==Other-relative  \\\n",
       "0                             True                         False   \n",
       "1                            False                         False   \n",
       "2                             True                         False   \n",
       "3                            False                         False   \n",
       "4                            False                         False   \n",
       "...                            ...                           ...   \n",
       "48837                         True                         False   \n",
       "48838                        False                          True   \n",
       "48839                        False                         False   \n",
       "48840                        False                         False   \n",
       "48841                        False                         False   \n",
       "\n",
       "       relationship==Own-child  relationship==Unmarried  relationship==Wife  \\\n",
       "0                        False                    False               False   \n",
       "1                        False                    False               False   \n",
       "2                        False                    False               False   \n",
       "3                        False                    False               False   \n",
       "4                        False                    False                True   \n",
       "...                        ...                      ...                 ...   \n",
       "48837                    False                    False               False   \n",
       "48838                    False                    False               False   \n",
       "48839                    False                    False               False   \n",
       "48840                     True                    False               False   \n",
       "48841                    False                    False               False   \n",
       "\n",
       "                     race capitalgain capitalloss hoursperweek native-country  \\\n",
       "0                   White           1           0            2  United-States   \n",
       "1                   White           0           0            0  United-States   \n",
       "2                   White           0           0            2  United-States   \n",
       "3                   Black           0           0            2  United-States   \n",
       "4                   Black           0           0            2           Cuba   \n",
       "...                   ...         ...         ...          ...            ...   \n",
       "48837               White           0           0            2  United-States   \n",
       "48838               Black           0           0            2  United-States   \n",
       "48839               White           0           0            3  United-States   \n",
       "48840  Asian-Pac-Islander           2           0            2  United-States   \n",
       "48841               White           0           0            3  United-States   \n",
       "\n",
       "       income>50k   male  \n",
       "0           False   True  \n",
       "1           False   True  \n",
       "2           False   True  \n",
       "3           False   True  \n",
       "4           False  False  \n",
       "...           ...    ...  \n",
       "48837       False  False  \n",
       "48838       False   True  \n",
       "48839       False   True  \n",
       "48840       False   True  \n",
       "48841        True   True  \n",
       "\n",
       "[48842 rows x 20 columns]"
      ]
     },
     "execution_count": 10,
     "metadata": {},
     "output_type": "execute_result"
    }
   ],
   "source": [
    "adult.discretize(\n",
    "    ('income>50k', adult['income'] == '>50K'),\n",
    "    sex=(\"male\", lambda sex: sex == 'Male'),\n",
    "    relationship='onehotencode',\n",
    "    in_place=True\n",
    ")"
   ]
  },
  {
   "cell_type": "code",
   "execution_count": 11,
   "metadata": {},
   "outputs": [
    {
     "name": "stdout",
     "output_type": "stream",
     "text": [
      "Sensitive = {'male', 'race'} \n",
      "Targets = {'income>50k'}\n"
     ]
    }
   ],
   "source": [
    "print(\"Sensitive =\", adult.sensitive, \"\\nTargets =\", adult.targets)"
   ]
  },
  {
   "cell_type": "markdown",
   "metadata": {
    "id": "jGCpy0WWUu8F"
   },
   "source": [
    "# 3. Preliminary Analysis"
   ]
  },
  {
   "cell_type": "markdown",
   "metadata": {},
   "source": [
    "# 3.1 Computation of metrics"
   ]
  },
  {
   "cell_type": "code",
   "execution_count": 12,
   "metadata": {},
   "outputs": [
    {
     "data": {
      "text/plain": [
       "(income>50k, male) -> 0.3596552625800337\n",
       "(income>50k, not(male)) -> 2.7804403384128737\n",
       "(income>50k, race=Amer-Indian-Eskimo) -> 2.05492283289356\n",
       "(income>50k, race=Asian-Pac-Islander) -> 0.8851039676505018\n",
       "(income>50k, race=Black) -> 2.084670615154039\n",
       "(income>50k, race=Other) -> 1.9508720786192089\n",
       "(income>50k, race=White) -> 0.6005915505110953"
      ]
     },
     "execution_count": 12,
     "metadata": {},
     "output_type": "execute_result"
    }
   ],
   "source": [
    "di = adult.disparate_impact()\n",
    "di"
   ]
  },
  {
   "cell_type": "markdown",
   "metadata": {},
   "source": [
    "If no preprocessing is done and no parameter is specified the metrics are calculated by setting all the values of that feature 1 at a time as the “protected” value."
   ]
  },
  {
   "cell_type": "markdown",
   "metadata": {},
   "source": [
    "| Disparate Impact Value | Interpretation                                         | Group Benefiting                      |\n",
    "| ---------------------- | ----------------------------------------------------- | ------------------------------------- |\n",
    "| 1                      | Perfect fairness (equal impact for both groups)        | Neither (equal outcomes)              |\n",
    "| 0.9 to 1               | Minimal disparity (slight bias)                        | Privileged group benefits slightly    |\n",
    "| 0.8 to 0.9             | Moderate disparity (potential bias)                    | Privileged group benefits             |\n",
    "| 0.5 to 0.8             | Significant disparity (likely bias)                    | Privileged group benefits strongly    |\n",
    "| < 0.5                  | Extreme disparity (strong likelihood of bias)          | Privileged group benefits very strongly|\n",
    "| 1 to 1.1               | Minimal disparity (slight bias)                        | Unprivileged group benefits slightly  |\n",
    "| 1.1 to 1.2             | Moderate disparity (potential bias)                    | Unprivileged group benefits           |\n",
    "| 1.2 to 1.5             | Significant disparity (likely bias)                    | Unprivileged group benefits strongly  |\n",
    "| > 1.5                  | Extreme disparity (strong likelihood of bias)          | Unprivileged group benefits very strongly |"
   ]
  },
  {
   "cell_type": "markdown",
   "metadata": {},
   "source": [
    "For example, we can interpret the value for **(income=1, sex=Male)** in this case, we are specifying that: for a binary classification where we want to check if there is disparity regarding sex **we take male sex as “privileged”.**\n",
    "\n",
    "In this case the result, which you can compare with the table, shows **extreme disparity**.\n",
    "\n",
    "Consequently we can say that, according to the Disparate Impaact, there is a extreme disparity regarding sex with the privileged male sex.\n",
    "\n",
    "It can be seen that by evaluating the opposite i.e.:**(income=1, sex=Female)** we get the opposite value.\n",
    "i.e., a positive, very high value indicating that the disparity is toward the nonprivileged group (in this case Male)."
   ]
  },
  {
   "cell_type": "code",
   "execution_count": 13,
   "metadata": {},
   "outputs": [
    {
     "data": {
      "text/plain": [
       "(income>50k, male) -> 0.19451574596420296\n",
       "(income>50k, not(male)) -> -0.19451574596420296\n",
       "(income>50k, race=Amer-Indian-Eskimo) -> -0.12344841661520381\n",
       "(income>50k, race=Asian-Pac-Islander) -> 0.030936456373235527\n",
       "(income>50k, race=Black) -> -0.13104024934411654\n",
       "(income>50k, race=Other) -> -0.11710247273635578\n",
       "(income>50k, race=White) -> 0.10144450514172723"
      ]
     },
     "execution_count": 13,
     "metadata": {},
     "output_type": "execute_result"
    }
   ],
   "source": [
    "spd = adult.statistical_parity_difference()\n",
    "spd"
   ]
  },
  {
   "cell_type": "markdown",
   "metadata": {},
   "source": [
    "If no preprocessing is done and no parameter is specified the metrics are calculated by setting all the values of that feature 1 at a time as the “protected” value."
   ]
  },
  {
   "cell_type": "markdown",
   "metadata": {},
   "source": [
    "| SPD Value     | Interpretation                                    | Group Benefiting                      |\n",
    "| ------------  | --------                                          | --------                              |\n",
    "| 0             | Perfect fairness (equal treatment for both groups)| Neither (equal outcomes)               |\n",
    "| 0.01 to 0.1   | Minimal disparity (slight bias)                   | Privileged group benefits slightly     |\n",
    "| -0.01 to -0.1 | Minimal disparity (slight bias)                   | Unprivileged group benefits slightly   |\n",
    "| 0.1 to 0.2    | Moderate disparity (potential bias)               | Privileged group benefits              |\n",
    "|  -0.1 to -0.2 | Moderate disparity (potential bias)               | Unprivileged group benefits            |\n",
    "| > 0.2         | Significant disparity (likely bias)               | Privileged group benefits strongly     |\n",
    "| < -0.2        | Significant disparity (likely bias)               | Unprivileged group benefits strongly   |"
   ]
  },
  {
   "cell_type": "markdown",
   "metadata": {},
   "source": [
    "For example, we can interpret the value for **(income=1, sex=Male)** in this case, we are specifying that: for a binary classification where we want to check if there is disparity regarding sex **we take male sex as “privileged”.**\n",
    "\n",
    "In this case the result, which you can compare with the table, shows **moderate disparity**.\n",
    "\n",
    "Consequently we can say that, according to the Statistical Parity Difference, there is a moderate disparity regarding sex with the privileged male sex.\n",
    "\n",
    "It can be seen that by evaluating the opposite i.e.:**(income=1, sex=Female)** we get the opposite value."
   ]
  },
  {
   "cell_type": "markdown",
   "metadata": {},
   "source": [
    "# 3.2 Analysis of results"
   ]
  },
  {
   "cell_type": "markdown",
   "metadata": {},
   "source": [
    "The results can be accessed in the following way:"
   ]
  },
  {
   "cell_type": "code",
   "execution_count": 14,
   "metadata": {},
   "outputs": [
    {
     "data": {
      "text/plain": [
       "0.3596552625800337"
      ]
     },
     "execution_count": 14,
     "metadata": {},
     "output_type": "execute_result"
    }
   ],
   "source": [
    "di[{'income>50k': True, 'male': True}]"
   ]
  },
  {
   "cell_type": "code",
   "execution_count": 15,
   "metadata": {},
   "outputs": [
    {
     "data": {
      "text/plain": [
       "0.030936456373235527"
      ]
     },
     "execution_count": 15,
     "metadata": {},
     "output_type": "execute_result"
    }
   ],
   "source": [
    "spd[{'income>50k': 1, 'race': 'Asian-Pac-Islander'}]"
   ]
  },
  {
   "cell_type": "markdown",
   "metadata": {},
   "source": [
    "# 3.2.1 Graph"
   ]
  },
  {
   "cell_type": "code",
   "execution_count": 16,
   "metadata": {},
   "outputs": [],
   "source": [
    "import matplotlib.pyplot as plt\n",
    "import numpy as np"
   ]
  },
  {
   "cell_type": "code",
   "execution_count": 17,
   "metadata": {},
   "outputs": [
    {
     "data": {
      "image/png": "[encoded data removed]",
      "text/plain": [
       "<Figure size 1000x600 with 1 Axes>"
      ]
     },
     "metadata": {},
     "output_type": "display_data"
    }
   ],
   "source": [
    "groups = [f\"{item2}\" for item1, item2 in list(di[{'income>50k': True}].keys())]\n",
    "values = list(di[{'income>50k': True}].values())\n",
    "\n",
    "deviation_from_fairness = np.array(values) - 1\n",
    "\n",
    "plt.figure(figsize=(10, 6))\n",
    "bars = plt.barh(groups, deviation_from_fairness, color=np.where(deviation_from_fairness > 0, 'blue', 'red'))\n",
    "\n",
    "plt.axvline(x=0, color='black', linestyle='--', label='Perfect Fairness (0)')\n",
    "\n",
    "plt.xlabel('Deviation from Perfect Fairness (1.0)')\n",
    "plt.title('Disparate Impact: Deviation from Fairness')\n",
    "plt.legend()\n",
    "\n",
    "for bar in bars:\n",
    "    width = bar.get_width()\n",
    "    plt.text(width, bar.get_y() + bar.get_height()/2, f'{width:.2f}', ha='left' if width > 0 else 'right', va='center')\n",
    "\n",
    "plt.show()"
   ]
  },
  {
   "cell_type": "code",
   "execution_count": 18,
   "metadata": {},
   "outputs": [
    {
     "data": {
      "image/png": "[encoded data removed]",
      "text/plain": [
       "<Figure size 1300x800 with 1 Axes>"
      ]
     },
     "metadata": {},
     "output_type": "display_data"
    }
   ],
   "source": [
    "labels = [f\"{item2}\" for item1, item2 in list(spd[{'income>50k': True}].keys())]\n",
    "values = list(spd[{'income>50k': True}].values())\n",
    "\n",
    "groups = [f\"{item2}\" for item1, item2 in list(spd[{'income>50k': True}].keys())]\n",
    "values = list(spd[{'income>50k': True}].values())\n",
    "\n",
    "plt.figure(figsize=(13, 8))\n",
    "bars_spd = plt.bar(groups, values, color='purple')\n",
    "\n",
    "plt.axhline(y=0, color='green', linestyle='--', label='Perfect Fairness (0)')\n",
    "plt.axhline(y=0.1, color='blue', linestyle=':', label='Minimal Disparity (0.1)')\n",
    "plt.axhline(y=0.2, color='orange', linestyle=':', label='Moderate Disparity (0.2)')\n",
    "plt.axhline(y=0.3, color='red', linestyle='-', label='Significant Disparity (0.3)')\n",
    "plt.axhline(y=-0.1, color='blue', linestyle=':', label='Minimal Disparity (-0.1)')\n",
    "plt.axhline(y=-0.2, color='orange', linestyle=':', label='Moderate Disparity (-0.2)')\n",
    "plt.axhline(y=-0.3, color='red', linestyle='-', label='Significant Disparity (-0.3)')\n",
    "\n",
    "plt.ylabel('SPD Value')\n",
    "plt.title(\"Statistical Parity Difference (SPD) for 'Income'\")\n",
    "plt.xticks(rotation=30, ha='right')\n",
    "plt.legend()\n",
    "\n",
    "plt.show()"
   ]
  },
  {
   "cell_type": "markdown",
   "metadata": {
    "id": "P6v6lsjFW20f"
   },
   "source": [
    "## 3.2 Proxy Indentification"
   ]
  },
  {
   "cell_type": "markdown",
   "metadata": {
    "id": "AEv3r4LBW806"
   },
   "source": [
    "Try different strategies to spot **proxy** features in the dataset:\n",
    "* Correlation matrix\n",
    "* Functional dependencies\n",
    "* ...\n"
   ]
  },
  {
   "cell_type": "markdown",
   "metadata": {
    "id": "AlBG7UPPVYv8"
   },
   "source": [
    "# 4. Evaluation Protocol"
   ]
  },
  {
   "cell_type": "markdown",
   "metadata": {
    "id": "6x3u902TXa5U"
   },
   "source": [
    "We have to agree on a set of supported protocols:\n",
    "* hold-out (train/test split)\n",
    "* k-fold cross-validation (k splits)\n",
    "* stratified k-fold cross-validation (each split has the same target distribution)\n",
    "* stratified k-fold cross-validation for fairness (each split has also the same distribution wrt. sensitive features)"
   ]
  },
  {
   "cell_type": "markdown",
   "metadata": {
    "id": "-ZQ62WThVnm9"
   },
   "source": [
    "# 5. ML Pipeline Definition"
   ]
  },
  {
   "cell_type": "markdown",
   "metadata": {
    "id": "EIwMdgbmZfx1"
   },
   "source": [
    "ML pipeline \"sklearn-like\" with \"fit_predict\"\n",
    "\n",
    "$$\\frac{1}{k} \\sum_{i=1}^{k} \\mathcal{L}\\left(\\langle \\mathcal{P}, \\mathcal{A} \\rangle_{\\lambda} ( \\mathcal{D}_{\\mathit{train}}^{(i)}), \\mathcal{D}_\\mathit{valid}^{(i)} \\right) \\, .$$\n"
   ]
  },
  {
   "cell_type": "markdown",
   "metadata": {
    "id": "YRJgiePpYETj"
   },
   "source": [
    "## 5.1 Pre-processing"
   ]
  },
  {
   "cell_type": "markdown",
   "metadata": {
    "id": "lDjZc9z4YGxY"
   },
   "source": [
    "## 5.2 In-processing"
   ]
  },
  {
   "cell_type": "markdown",
   "metadata": {
    "id": "Rm5anWlXYOLf"
   },
   "source": [
    "## 5.3 Post-processing"
   ]
  },
  {
   "cell_type": "markdown",
   "metadata": {
    "id": "dTqVOFtxYhSb"
   },
   "source": [
    "# 6. Optimization"
   ]
  },
  {
   "cell_type": "markdown",
   "metadata": {
    "id": "zQUz9jEXYvOd"
   },
   "source": [
    "Find best pipelines in a multi-objective problem (i.e., provide a pareto front, pipelines are hyperparamter configurations that achieves the best trade-offs accuracy/fairness)"
   ]
  },
  {
   "cell_type": "raw",
   "metadata": {},
   "source": []
  }
 ],
 "metadata": {
  "colab": {
   "provenance": []
  },
  "kernelspec": {
   "display_name": ".venv",
   "language": "python",
   "name": "python3"
  },
  "language_info": {
   "codemirror_mode": {
    "name": "ipython",
    "version": 3
   },
   "file_extension": ".py",
   "mimetype": "text/x-python",
   "name": "python",
   "nbconvert_exporter": "python",
   "pygments_lexer": "ipython3",
   "version": "3.12.7"
  }
 },
 "nbformat": 4,
 "nbformat_minor": 4
}
