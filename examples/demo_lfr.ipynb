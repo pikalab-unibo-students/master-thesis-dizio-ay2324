{
 "cells": [
  {
   "cell_type": "code",
   "id": "59786968-1860-4b8a-82b5-25b176e1f80a",
   "metadata": {
    "ExecuteTime": {
     "end_time": "2025-05-02T14:09:41.910852Z",
     "start_time": "2025-05-02T14:09:41.906785Z"
    }
   },
   "source": [
    "import openml\n",
    "from fairlib import DataFrame\n",
    "from fairlib.preprocessing.lfr import LFR  # Aggiornato il percorso dell'import\n",
    "from sklearn.metrics import accuracy_score\n",
    "from sklearn.model_selection import train_test_split\n",
    "from sklearn.preprocessing import LabelEncoder\n",
    "from sklearn.linear_model import LogisticRegression\n",
    "import numpy as np\n",
    "import torch"
   ],
   "outputs": [],
   "execution_count": 65
  },
  {
   "metadata": {
    "ExecuteTime": {
     "end_time": "2025-05-02T14:09:41.921690Z",
     "start_time": "2025-05-02T14:09:41.918463Z"
    }
   },
   "cell_type": "code",
   "source": [
    "def prepare_dataset():\n",
    "    \"\"\"\n",
    "    Load and preprocess the dataset.\n",
    "    \"\"\"\n",
    "    dataset = openml.datasets.get_dataset(179)\n",
    "    X, y, _, names = dataset.get_data(target=dataset.default_target_attribute)\n",
    "\n",
    "    for col in X.columns:\n",
    "        if X[col].dtype.name == 'category':\n",
    "            X[col] = X[col].astype(object)\n",
    "\n",
    "        # Ora che è di tipo oggetto, possiamo riempire i valori mancanti in sicurezza\n",
    "        if X[col].isna().any():\n",
    "            X[col] = X[col].fillna(\"missing\")\n",
    "\n",
    "        le = LabelEncoder()\n",
    "        X[col] = le.fit_transform(X[col])\n",
    "\n",
    "    X = DataFrame(X)\n",
    "    X = X.drop(columns=[\"fnlwgt\"])\n",
    "    y = y.apply(lambda x: x == \">50K\").astype(int)\n",
    "\n",
    "    return X, y"
   ],
   "id": "80720e100fb2a769",
   "outputs": [],
   "execution_count": 66
  },
  {
   "cell_type": "code",
   "id": "c543eec9-e7b2-4262-917a-18499dd73cab",
   "metadata": {
    "ExecuteTime": {
     "end_time": "2025-05-02T14:09:41.938036Z",
     "start_time": "2025-05-02T14:09:41.935292Z"
    }
   },
   "source": [
    "def evaluate_fairness(X_test, y_pred):\n",
    "    \"\"\"\n",
    "    Evaluate the fairness metrics (SPD and DI) of the predictions.\n",
    "    \"\"\"\n",
    "    X_test = X_test.copy()\n",
    "    X_test[\"income\"] = y_pred\n",
    "    dataset = DataFrame(X_test)\n",
    "    dataset.targets = \"income\"\n",
    "    dataset.sensitive = \"sex\"\n",
    "\n",
    "    spd = dataset.statistical_parity_difference()\n",
    "    di = dataset.disparate_impact()\n",
    "    return spd, di"
   ],
   "outputs": [],
   "execution_count": 67
  },
  {
   "cell_type": "code",
   "id": "ab682a60-68ad-4953-a3cd-4bc43f41bf55",
   "metadata": {
    "ExecuteTime": {
     "end_time": "2025-05-02T14:09:41.953242Z",
     "start_time": "2025-05-02T14:09:41.950765Z"
    }
   },
   "source": [
    "def train_classifier(X_train, y_train):\n",
    "    \"\"\"\n",
    "    Train a logistic regression classifier.\n",
    "    \"\"\"\n",
    "    clf = LogisticRegression(random_state=42, max_iter=1000)\n",
    "    clf.fit(X_train, y_train)\n",
    "    return clf"
   ],
   "outputs": [],
   "execution_count": 68
  },
  {
   "cell_type": "code",
   "id": "013b654b-1ef8-4f79-9903-449f00c9ff31",
   "metadata": {
    "ExecuteTime": {
     "end_time": "2025-05-02T14:09:41.965889Z",
     "start_time": "2025-05-02T14:09:41.963748Z"
    }
   },
   "source": [
    "def get_prepared_data(X, y, target, sensitive):\n",
    "    \"\"\"\n",
    "    Prepare the data for training the LFR model.\n",
    "\n",
    "    Args:\n",
    "        X (DataFrame): The input features.\n",
    "        y (Series): The target labels.\n",
    "        target (str): The name of the target column.\n",
    "        sensitive (str): The name of the sensitive attribute column.\n",
    "\n",
    "    Returns:\n",
    "        tuple: A tuple containing the prepared dataset, input features, and target labels.\n",
    "    \"\"\"\n",
    "    X_train = X.copy()\n",
    "    y_train = y.copy()\n",
    "    X_train[target] = y_train\n",
    "    train_dataset = DataFrame(X_train)\n",
    "    train_dataset.targets = target\n",
    "    train_dataset.sensitive = sensitive\n",
    "    X_train.drop(columns=[target], inplace=True)\n",
    "    return train_dataset, X_train, y_train"
   ],
   "outputs": [],
   "execution_count": 69
  },
  {
   "cell_type": "code",
   "id": "cfdf153b-ac8c-484e-8e7e-aa52f6a51ded",
   "metadata": {
    "ExecuteTime": {
     "end_time": "2025-05-02T14:09:42.067702Z",
     "start_time": "2025-05-02T14:09:41.983626Z"
    }
   },
   "source": [
    "np.random.seed(42)\n",
    "torch.manual_seed(42)\n",
    "\n",
    "EPOCHS = 100\n",
    "BATCH_SIZE = 128\n",
    "TARGET = \"income\"\n",
    "SENSITIVE = \"sex\"\n",
    "\n",
    "# Prepare dataset\n",
    "X, y = prepare_dataset()\n",
    "X_train, X_test, y_train, y_test = train_test_split(\n",
    "    X, y, test_size=0.35, random_state=42\n",
    ")"
   ],
   "outputs": [],
   "execution_count": 70
  },
  {
   "cell_type": "code",
   "id": "99550634-1cf9-4c09-a6b8-1773a58d3db3",
   "metadata": {
    "ExecuteTime": {
     "end_time": "2025-05-02T14:09:44.852815Z",
     "start_time": "2025-05-02T14:09:42.071761Z"
    }
   },
   "source": [
    "lfr_train_dataset, X_train_copy, y_train_copy = get_prepared_data(\n",
    "    X_train, y_train, TARGET, SENSITIVE\n",
    ")\n",
    "\n",
    "lfr = LFR(\n",
    "    input_dim=X_train.shape[1],\n",
    "    latent_dim=8,\n",
    "    output_dim=X_train.shape[1],\n",
    "    alpha_z=1.0,\n",
    "    alpha_x=1.0,\n",
    "    alpha_y=1.0,\n",
    ")\n",
    "\n",
    "lfr.fit(lfr_train_dataset, epochs=EPOCHS, batch_size=BATCH_SIZE)"
   ],
   "outputs": [],
   "execution_count": 71
  },
  {
   "cell_type": "code",
   "id": "4350a124-25fd-4c79-90f8-1f4cf3db85d5",
   "metadata": {
    "ExecuteTime": {
     "end_time": "2025-05-02T14:09:44.898053Z",
     "start_time": "2025-05-02T14:09:44.877767Z"
    }
   },
   "source": [
    "X_train_transformed = lfr.transform(X_train)\n",
    "X_test_transformed = lfr.transform(X_test)"
   ],
   "outputs": [],
   "execution_count": 72
  },
  {
   "cell_type": "code",
   "id": "1429cce7-c421-4abe-89c6-6a90feedbf1a",
   "metadata": {
    "ExecuteTime": {
     "end_time": "2025-05-02T14:09:45.101794Z",
     "start_time": "2025-05-02T14:09:44.908847Z"
    }
   },
   "source": [
    "clf_original = train_classifier(X_train, y_train)\n",
    "clf_transformed = train_classifier(X_train_transformed, y_train)"
   ],
   "outputs": [],
   "execution_count": 73
  },
  {
   "cell_type": "code",
   "id": "0c949168-88b9-4be9-8d03-3bb2fb8687ad",
   "metadata": {
    "ExecuteTime": {
     "end_time": "2025-05-02T14:09:45.118198Z",
     "start_time": "2025-05-02T14:09:45.112673Z"
    }
   },
   "source": [
    "y_pred_original = clf_original.predict(X_test)\n",
    "y_pred_transformed = clf_transformed.predict(X_test_transformed)\n",
    "\n",
    "acc_original = accuracy_score(y_test, y_pred_original)\n",
    "acc_transformed = accuracy_score(y_test, y_pred_transformed)\n",
    "print(f\"Accuratezza originale: {acc_original:.4f}\")\n",
    "print(f\"Accuratezza trasformata: {acc_transformed:.4f}\")"
   ],
   "outputs": [
    {
     "name": "stdout",
     "output_type": "stream",
     "text": [
      "Accuratezza originale: 0.8240\n",
      "Accuratezza trasformata: 0.8208\n"
     ]
    }
   ],
   "execution_count": 74
  },
  {
   "cell_type": "code",
   "id": "11eb315d-8e92-4d60-a8ad-8cd444608767",
   "metadata": {
    "ExecuteTime": {
     "end_time": "2025-05-02T14:09:45.149959Z",
     "start_time": "2025-05-02T14:09:45.129935Z"
    }
   },
   "source": [
    "spd_original, di_original = evaluate_fairness(X_test.copy(), y_pred_original)\n",
    "spd_transformed, di_transformed = evaluate_fairness(X_test.copy(), y_pred_transformed)\n",
    "\n",
    "print(\"Original Data: SPD:\", spd_original, \"DI:\", di_original, \"\\n\")\n",
    "print(\"Transformed Data: SPD:\", spd_transformed, \"DI:\", di_transformed)"
   ],
   "outputs": [
    {
     "name": "stdout",
     "output_type": "stream",
     "text": [
      "Original Data: SPD: {(income=0, sex=0): 0.1681490872919421, (income=0, sex=1): -0.1681490872919421, (income=1, sex=0): -0.1681490872919421, (income=1, sex=1): 0.1681490872919421} DI: {(income=0, sex=0): 0.8250140816862976, (income=0, sex=1): 1.2121005231280875, (income=1, sex=0): 5.303707720688356, (income=1, sex=1): 0.18854734322920272} \n",
      "\n",
      "Transformed Data: SPD: {(income=0, sex=0): 0.07976824072217614, (income=0, sex=1): -0.07976824072217614, (income=1, sex=0): -0.07976824072217617, (income=1, sex=1): 0.07976824072217617} DI: {(income=0, sex=0): 0.9119574312775048, (income=0, sex=1): 1.0965424105368182, (income=1, sex=0): 1.848769932178661, (income=1, sex=1): 0.5409001858990435}\n"
     ]
    }
   ],
   "execution_count": 75
  },
  {
   "cell_type": "code",
   "id": "c4d06def-64fe-4693-badc-3328dbe0a891",
   "metadata": {
    "ExecuteTime": {
     "end_time": "2025-05-02T14:09:45.163597Z",
     "start_time": "2025-05-02T14:09:45.161363Z"
    }
   },
   "source": [
    "for key in spd_original:\n",
    "    improvement_spd = abs(spd_original[key]) - abs(spd_transformed[key])\n",
    "    improvement_di = abs(di_original[key] - 1) - abs(di_transformed[key] - 1)\n",
    "\n",
    "    print(f\"Miglioramento per {key}:\")\n",
    "    print(f\"  SPD: {improvement_spd:.4f} ({'+' if improvement_spd > 0 else '-'})\")\n",
    "    print(f\"  DI: {improvement_di:.4f} ({'+' if improvement_di > 0 else '-'})\")"
   ],
   "outputs": [
    {
     "name": "stdout",
     "output_type": "stream",
     "text": [
      "Miglioramento per (income=0, sex=0):\n",
      "  SPD: 0.0884 (+)\n",
      "  DI: 0.0869 (+)\n",
      "Miglioramento per (income=0, sex=1):\n",
      "  SPD: 0.0884 (+)\n",
      "  DI: 0.1156 (+)\n",
      "Miglioramento per (income=1, sex=0):\n",
      "  SPD: 0.0884 (+)\n",
      "  DI: 3.4549 (+)\n",
      "Miglioramento per (income=1, sex=1):\n",
      "  SPD: 0.0884 (+)\n",
      "  DI: 0.3524 (+)\n"
     ]
    }
   ],
   "execution_count": 76
  }
 ],
 "metadata": {
  "kernelspec": {
   "display_name": "Python 3 (ipykernel)",
   "language": "python",
   "name": "python3"
  },
  "language_info": {
   "codemirror_mode": {
    "name": "ipython",
    "version": 3
   },
   "file_extension": ".py",
   "mimetype": "text/x-python",
   "name": "python",
   "nbconvert_exporter": "python",
   "pygments_lexer": "ipython3",
   "version": "3.12.8"
  }
 },
 "nbformat": 4,
 "nbformat_minor": 5
}
