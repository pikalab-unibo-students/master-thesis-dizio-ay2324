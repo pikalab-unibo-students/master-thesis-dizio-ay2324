{
 "cells": [
  {
   "cell_type": "markdown",
   "metadata": {},
   "source": [
    "# Statistical Parity Difference\n",
    "Statistical Parity Difference measures the difference in positive outcome rates between privileged and unprivileged groups in AI decision-making. \n",
    "A value of 0 indicates fairness, meaning both groups receive favorable outcomes at the same rate.\n",
    "\n",
    "Below is a table to interpret the results:\n",
    "\n",
    "| SPD Value     | Interpretation                                    | Group Benefiting                      |\n",
    "| ------------  | --------                                          | --------                              |\n",
    "| 0             | Perfect fairness (equal treatment for both groups)| Neither (equal outcomes)               |\n",
    "| 0.01 to 0.1   | Minimal disparity (slight bias)                   | Privileged group benefits slightly     |\n",
    "| -0.01 to -0.1 | Minimal disparity (slight bias)                   | Unprivileged group benefits slightly   |\n",
    "| 0.1 to 0.2    | Moderate disparity (potential bias)               | Privileged group benefits              |\n",
    "|  -0.1 to -0.2 | Moderate disparity (potential bias)               | Unprivileged group benefits            |\n",
    "| > 0.2         | Significant disparity (likely bias)               | Privileged group benefits strongly     |\n",
    "| < -0.2        | Significant disparity (likely bias)               | Unprivileged group benefits strongly   |"
   ]
  },
  {
   "cell_type": "code",
   "execution_count": 1,
   "metadata": {},
   "outputs": [],
   "source": [
    "import sys\n",
    "import os\n",
    "\n",
    "# Aggiunge la directory principale del progetto al PYTHONPATH\n",
    "sys.path.append(os.path.abspath(os.path.join('..')))"
   ]
  },
  {
   "cell_type": "code",
   "execution_count": 2,
   "metadata": {},
   "outputs": [
    {
     "name": "stderr",
     "output_type": "stream",
     "text": [
      "INFO:fairlib:fairlib loaded\n"
     ]
    }
   ],
   "source": [
    "import fairlib as fl\n",
    "import matplotlib.pyplot as plt"
   ]
  },
  {
   "cell_type": "markdown",
   "metadata": {},
   "source": [
    "## Import or dataset creation.\n",
    "To use metrics, simply use an “enhanced” DataFrame (pandas library). It is possible to create it from the library.\n",
    "This DataFrame is completely identical to a standard one with some extra functionality."
   ]
  },
  {
   "cell_type": "code",
   "execution_count": 3,
   "metadata": {},
   "outputs": [],
   "source": [
    "df = fl.DataFrame({\n",
    "    \"name\":     [\"Alice\", \"Bob\", \"Carla\", \"Davide\", \"Elena\", \"Francesco\", \"Giorgia\", \"Hanna\", \"Luca\", \"Maria\"],\n",
    "    \"age\":      [25, 32, 45, 29, 34, 38, 27, 50, 31, 44],\n",
    "    \"sex\":      [\"F\", \"M\", \"F\", \"M\", \"F\", \"M\", \"F\", \"F\", \"M\", \"F\"],\n",
    "    \"income\":   [40000, 38000, 43400, 43000, 48000, 49000, 42000, 41000, 47000, 40000]\n",
    "})"
   ]
  },
  {
   "cell_type": "markdown",
   "metadata": {},
   "source": [
    "We go on to define which columns we consider sensitive and the “target” column then the one we would like to predict"
   ]
  },
  {
   "cell_type": "code",
   "execution_count": 4,
   "metadata": {},
   "outputs": [],
   "source": [
    "df.sensitive = {\"age\", \"sex\"}\n",
    "df.targets = {\"income\"}"
   ]
  },
  {
   "cell_type": "markdown",
   "metadata": {},
   "source": [
    "In order to invoke the SPD on our dataset we need to do some preprocessing, so let's go and change the column values based on binary values."
   ]
  },
  {
   "cell_type": "code",
   "execution_count": 5,
   "metadata": {},
   "outputs": [
    {
     "data": {
      "text/html": [
       "<div>\n",
       "<style scoped>\n",
       "    .dataframe tbody tr th:only-of-type {\n",
       "        vertical-align: middle;\n",
       "    }\n",
       "\n",
       "    .dataframe tbody tr th {\n",
       "        vertical-align: top;\n",
       "    }\n",
       "\n",
       "    .dataframe thead th {\n",
       "        text-align: right;\n",
       "    }\n",
       "</style>\n",
       "<table border=\"1\" class=\"dataframe\">\n",
       "  <thead>\n",
       "    <tr style=\"text-align: right;\">\n",
       "      <th></th>\n",
       "      <th>name</th>\n",
       "      <th>male</th>\n",
       "      <th>age&lt;38</th>\n",
       "      <th>income&gt;45k</th>\n",
       "    </tr>\n",
       "  </thead>\n",
       "  <tbody>\n",
       "    <tr>\n",
       "      <th>0</th>\n",
       "      <td>Alice</td>\n",
       "      <td>False</td>\n",
       "      <td>True</td>\n",
       "      <td>False</td>\n",
       "    </tr>\n",
       "    <tr>\n",
       "      <th>1</th>\n",
       "      <td>Bob</td>\n",
       "      <td>True</td>\n",
       "      <td>True</td>\n",
       "      <td>False</td>\n",
       "    </tr>\n",
       "    <tr>\n",
       "      <th>2</th>\n",
       "      <td>Carla</td>\n",
       "      <td>False</td>\n",
       "      <td>False</td>\n",
       "      <td>False</td>\n",
       "    </tr>\n",
       "    <tr>\n",
       "      <th>3</th>\n",
       "      <td>Davide</td>\n",
       "      <td>True</td>\n",
       "      <td>True</td>\n",
       "      <td>False</td>\n",
       "    </tr>\n",
       "    <tr>\n",
       "      <th>4</th>\n",
       "      <td>Elena</td>\n",
       "      <td>False</td>\n",
       "      <td>True</td>\n",
       "      <td>True</td>\n",
       "    </tr>\n",
       "    <tr>\n",
       "      <th>5</th>\n",
       "      <td>Francesco</td>\n",
       "      <td>True</td>\n",
       "      <td>False</td>\n",
       "      <td>True</td>\n",
       "    </tr>\n",
       "    <tr>\n",
       "      <th>6</th>\n",
       "      <td>Giorgia</td>\n",
       "      <td>False</td>\n",
       "      <td>True</td>\n",
       "      <td>False</td>\n",
       "    </tr>\n",
       "    <tr>\n",
       "      <th>7</th>\n",
       "      <td>Hanna</td>\n",
       "      <td>False</td>\n",
       "      <td>False</td>\n",
       "      <td>False</td>\n",
       "    </tr>\n",
       "    <tr>\n",
       "      <th>8</th>\n",
       "      <td>Luca</td>\n",
       "      <td>True</td>\n",
       "      <td>True</td>\n",
       "      <td>True</td>\n",
       "    </tr>\n",
       "    <tr>\n",
       "      <th>9</th>\n",
       "      <td>Maria</td>\n",
       "      <td>False</td>\n",
       "      <td>False</td>\n",
       "      <td>False</td>\n",
       "    </tr>\n",
       "  </tbody>\n",
       "</table>\n",
       "</div>"
      ],
      "text/plain": [
       "        name   male  age<38  income>45k\n",
       "0      Alice  False    True       False\n",
       "1        Bob   True    True       False\n",
       "2      Carla  False   False       False\n",
       "3     Davide   True    True       False\n",
       "4      Elena  False    True        True\n",
       "5  Francesco   True   False        True\n",
       "6    Giorgia  False    True       False\n",
       "7      Hanna  False   False       False\n",
       "8       Luca   True    True        True\n",
       "9      Maria  False   False       False"
      ]
     },
     "execution_count": 5,
     "metadata": {},
     "output_type": "execute_result"
    }
   ],
   "source": [
    "df.discretize(\n",
    "    (\"male\", df.sex == 'M'),\n",
    "    age=(\"age<38\", lambda age: age < 38),\n",
    "    income=(\"income>45k\", lambda income: income > 45000),\n",
    "    in_place=True,\n",
    ")"
   ]
  },
  {
   "cell_type": "markdown",
   "metadata": {},
   "source": [
    "Once this is done we can call the statistical parity difference directly on the dataframe."
   ]
  },
  {
   "cell_type": "code",
   "execution_count": 6,
   "metadata": {},
   "outputs": [
    {
     "name": "stdout",
     "output_type": "stream",
     "text": [
      "{(income>45k, age<38): 0.08333333333333331, (income>45k, not(age<38)): -0.08333333333333331, (income>45k, male): 0.33333333333333337, (income>45k, not(male)): -0.33333333333333337}\n"
     ]
    }
   ],
   "source": [
    "spd = df.statistical_parity_difference()\n",
    "\n",
    "print(spd)"
   ]
  },
  {
   "cell_type": "markdown",
   "metadata": {},
   "source": [
    "## Interpretation of the results\n",
    "\n",
    "As we can see there is a clear disparity for gender.\n",
    "And a slight disparity for age.\n",
    "\n",
    "This means that female subjects in the previous dataset are much less likely to have an income higher than 45000"
   ]
  },
  {
   "cell_type": "code",
   "execution_count": 7,
   "metadata": {},
   "outputs": [],
   "source": [
    "labels = list(spd[{'income>45k': True}].keys())\n",
    "values = list(spd[{'income>45k': True}].values())"
   ]
  },
  {
   "cell_type": "code",
   "execution_count": 8,
   "metadata": {},
   "outputs": [],
   "source": [
    "labels = [f\"{item1}, {item2}\" for item1, item2 in labels]"
   ]
  },
  {
   "cell_type": "code",
   "execution_count": 9,
   "metadata": {},
   "outputs": [
    {
     "data": {
      "image/png": "[encoded data removed]",
      "text/plain": [
       "<Figure size 800x600 with 1 Axes>"
      ]
     },
     "metadata": {},
     "output_type": "display_data"
    }
   ],
   "source": [
    "fig, ax = plt.subplots(figsize=(8, 6))\n",
    "\n",
    "ax.axhline(y=0, color='green', linestyle='--', label=\"Perfect Fairness (0)\")\n",
    "\n",
    "ax.axhline(y=0.1, color='blue', linestyle=':', label=\"Minimal Disparity (0.1)\")\n",
    "ax.axhline(y=-0.1, color='blue', linestyle=':')\n",
    "ax.axhline(y=0.2, color='orange', linestyle=':', label=\"Moderate Disparity (0.2)\")\n",
    "ax.axhline(y=-0.2, color='orange', linestyle=':')\n",
    "ax.axhline(y=0.3, color='red', linestyle='-', label=\"Significant Disparity (0.3)\")\n",
    "ax.axhline(y=-0.3, color='red', linestyle='-')\n",
    "\n",
    "ax.bar(labels, values, color=['purple', 'purple'])\n",
    "\n",
    "\n",
    "ax.set_title(\"Statistical Parity Difference (SPD) for 'Income'\")\n",
    "ax.set_ylabel(\"SPD Value\")\n",
    "ax.set_xticks(labels)\n",
    "ax.set_ylim([-0.5, 0.5])\n",
    "\n",
    "ax.legend()\n",
    "\n",
    "plt.show()"
   ]
  },
  {
   "cell_type": "code",
   "execution_count": null,
   "metadata": {},
   "outputs": [],
   "source": []
  },
  {
   "cell_type": "code",
   "execution_count": null,
   "metadata": {},
   "outputs": [],
   "source": []
  },
  {
   "cell_type": "code",
   "execution_count": null,
   "metadata": {},
   "outputs": [],
   "source": []
  }
 ],
 "metadata": {
  "kernelspec": {
   "display_name": ".venv",
   "language": "python",
   "name": "python3"
  },
  "language_info": {
   "codemirror_mode": {
    "name": "ipython",
    "version": 3
   },
   "file_extension": ".py",
   "mimetype": "text/x-python",
   "name": "python",
   "nbconvert_exporter": "python",
   "pygments_lexer": "ipython3",
   "version": "3.12.7"
  }
 },
 "nbformat": 4,
 "nbformat_minor": 4
}
