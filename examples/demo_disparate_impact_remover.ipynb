{
 "cells": [
  {
   "cell_type": "markdown",
   "id": "9fe57311",
   "metadata": {},
   "source": [
    "# Disparate Impact Remover: Preprocessing for Fairness\n",
    "\n",
    "The Disparate Impact Remover is a preprocessing technique that transforms feature values to increase group fairness while preserving as much data utility as possible.\n",
    "\n",
    "This demo shows how to use the Disparate Impact Remover to mitigate bias in a dataset and evaluate its effect on fairness metrics.\n",
    "\n",
    "Key features:\n",
    "- **Preprocessing approach**: Adjusts features before model training\n",
    "- **Tunable repair level**: Controls the trade-off between fairness and data utility\n",
    "- **Works with any downstream model**: Model-agnostic\n",
    "\n",
    "We'll use the Adult dataset and focus on the 'sex' attribute as the sensitive feature."
   ]
  },
  {
   "cell_type": "code",
   "id": "24a1f20d",
   "metadata": {
    "ExecuteTime": {
     "end_time": "2025-05-12T14:40:43.689669Z",
     "start_time": "2025-05-12T14:40:43.686151Z"
    }
   },
   "source": [
    "import sys\n",
    "import os\n",
    "# Add the root directory of the project to PYTHONPATH\n",
    "sys.path.append(os.path.abspath(os.path.join('..')))\n"
   ],
   "outputs": [],
   "execution_count": 17
  },
  {
   "cell_type": "code",
   "id": "bf5a688a",
   "metadata": {
    "ExecuteTime": {
     "end_time": "2025-05-12T14:40:44.423735Z",
     "start_time": "2025-05-12T14:40:44.419289Z"
    }
   },
   "source": [
    "import numpy as np\n",
    "import pandas as pd\n",
    "import matplotlib.pyplot as plt\n",
    "from sklearn.model_selection import train_test_split\n",
    "from sklearn.metrics import accuracy_score\n",
    "import openml\n",
    "\n",
    "from fairlib import DataFrame\n",
    "from fairlib.preprocessing import DisparateImpactRemover\n",
    "from fairlib.metrics import statistical_parity_difference, disparate_impact\n",
    "\n",
    "np.random.seed(42)\n"
   ],
   "outputs": [],
   "execution_count": 18
  },
  {
   "cell_type": "markdown",
   "id": "a7dcd5d8",
   "metadata": {},
   "source": [
    "## Loading and Preparing the Adult Dataset\n",
    "We use the Adult dataset from OpenML. The sensitive attribute is 'sex'."
   ]
  },
  {
   "cell_type": "code",
   "id": "7c34a8d4",
   "metadata": {
    "ExecuteTime": {
     "end_time": "2025-05-13T13:25:43.305779Z",
     "start_time": "2025-05-13T13:25:43.217897Z"
    }
   },
   "source": [
    "TARGET = \"income\"\n",
    "SENSITIVE = \"sex\"\n",
    "\n",
    "# Load the Adult dataset\n",
    "adult_dataset = openml.datasets.get_dataset(179)\n",
    "adult_X, _, _, _ = adult_dataset.get_data(dataset_format=\"dataframe\")\n",
    "adult_X.rename(columns={'class': 'income'}, inplace=True)\n",
    "adult = DataFrame(adult_X)\n",
    "adult.targets = TARGET\n",
    "adult.sensitive = SENSITIVE\n",
    "adult.drop(columns=[\"fnlwgt\"], inplace=True)\n",
    "label_maps = {}\n",
    "for col in adult.columns:\n",
    "    if adult[col].dtype == 'object' or adult[col].dtype == 'category':\n",
    "        adult[col], uniques = pd.factorize(adult[col])\n",
    "        label_maps[col] = uniques\n",
    "\n",
    "print(f\"Mapping for 'sex': {dict(enumerate(label_maps['sex']))}\")\n",
    "print(f\"Dataset shape: {adult.shape}\")\n",
    "print(f\"Target column: {adult.targets}\")\n",
    "print(f\"Sensitive attributes: {adult.sensitive}\")\n",
    "adult.head()\n"
   ],
   "outputs": [
    {
     "name": "stdout",
     "output_type": "stream",
     "text": [
      "Mapping for 'sex': {0: 'Male', 1: 'Female'}\n",
      "Dataset shape: (48842, 14)\n",
      "Target column: {'income'}\n",
      "Sensitive attributes: {'sex'}\n"
     ]
    },
    {
     "data": {
      "text/plain": [
       "   age  workclass  education  education-num  marital-status  occupation  \\\n",
       "0    0          0          0             13               0           0   \n",
       "1    1          1          0             13               1           1   \n",
       "2    0          2          1              9               2           2   \n",
       "3    1          2          2              7               1           2   \n",
       "4    2          2          0             13               1           3   \n",
       "\n",
       "   relationship  race  sex  capitalgain  capitalloss  hoursperweek  \\\n",
       "0             0     0    0            0            0             0   \n",
       "1             1     0    0            1            0             1   \n",
       "2             0     0    0            1            0             0   \n",
       "3             1     1    0            1            0             0   \n",
       "4             2     1    1            1            0             0   \n",
       "\n",
       "   native-country  income  \n",
       "0               0       0  \n",
       "1               0       0  \n",
       "2               0       0  \n",
       "3               0       0  \n",
       "4               1       0  "
      ],
      "text/html": [
       "<div>\n",
       "<style scoped>\n",
       "    .dataframe tbody tr th:only-of-type {\n",
       "        vertical-align: middle;\n",
       "    }\n",
       "\n",
       "    .dataframe tbody tr th {\n",
       "        vertical-align: top;\n",
       "    }\n",
       "\n",
       "    .dataframe thead th {\n",
       "        text-align: right;\n",
       "    }\n",
       "</style>\n",
       "<table border=\"1\" class=\"dataframe\">\n",
       "  <thead>\n",
       "    <tr style=\"text-align: right;\">\n",
       "      <th></th>\n",
       "      <th>age</th>\n",
       "      <th>workclass</th>\n",
       "      <th>education</th>\n",
       "      <th>education-num</th>\n",
       "      <th>marital-status</th>\n",
       "      <th>occupation</th>\n",
       "      <th>relationship</th>\n",
       "      <th>race</th>\n",
       "      <th>sex</th>\n",
       "      <th>capitalgain</th>\n",
       "      <th>capitalloss</th>\n",
       "      <th>hoursperweek</th>\n",
       "      <th>native-country</th>\n",
       "      <th>income</th>\n",
       "    </tr>\n",
       "  </thead>\n",
       "  <tbody>\n",
       "    <tr>\n",
       "      <th>0</th>\n",
       "      <td>0</td>\n",
       "      <td>0</td>\n",
       "      <td>0</td>\n",
       "      <td>13</td>\n",
       "      <td>0</td>\n",
       "      <td>0</td>\n",
       "      <td>0</td>\n",
       "      <td>0</td>\n",
       "      <td>0</td>\n",
       "      <td>0</td>\n",
       "      <td>0</td>\n",
       "      <td>0</td>\n",
       "      <td>0</td>\n",
       "      <td>0</td>\n",
       "    </tr>\n",
       "    <tr>\n",
       "      <th>1</th>\n",
       "      <td>1</td>\n",
       "      <td>1</td>\n",
       "      <td>0</td>\n",
       "      <td>13</td>\n",
       "      <td>1</td>\n",
       "      <td>1</td>\n",
       "      <td>1</td>\n",
       "      <td>0</td>\n",
       "      <td>0</td>\n",
       "      <td>1</td>\n",
       "      <td>0</td>\n",
       "      <td>1</td>\n",
       "      <td>0</td>\n",
       "      <td>0</td>\n",
       "    </tr>\n",
       "    <tr>\n",
       "      <th>2</th>\n",
       "      <td>0</td>\n",
       "      <td>2</td>\n",
       "      <td>1</td>\n",
       "      <td>9</td>\n",
       "      <td>2</td>\n",
       "      <td>2</td>\n",
       "      <td>0</td>\n",
       "      <td>0</td>\n",
       "      <td>0</td>\n",
       "      <td>1</td>\n",
       "      <td>0</td>\n",
       "      <td>0</td>\n",
       "      <td>0</td>\n",
       "      <td>0</td>\n",
       "    </tr>\n",
       "    <tr>\n",
       "      <th>3</th>\n",
       "      <td>1</td>\n",
       "      <td>2</td>\n",
       "      <td>2</td>\n",
       "      <td>7</td>\n",
       "      <td>1</td>\n",
       "      <td>2</td>\n",
       "      <td>1</td>\n",
       "      <td>1</td>\n",
       "      <td>0</td>\n",
       "      <td>1</td>\n",
       "      <td>0</td>\n",
       "      <td>0</td>\n",
       "      <td>0</td>\n",
       "      <td>0</td>\n",
       "    </tr>\n",
       "    <tr>\n",
       "      <th>4</th>\n",
       "      <td>2</td>\n",
       "      <td>2</td>\n",
       "      <td>0</td>\n",
       "      <td>13</td>\n",
       "      <td>1</td>\n",
       "      <td>3</td>\n",
       "      <td>2</td>\n",
       "      <td>1</td>\n",
       "      <td>1</td>\n",
       "      <td>1</td>\n",
       "      <td>0</td>\n",
       "      <td>0</td>\n",
       "      <td>1</td>\n",
       "      <td>0</td>\n",
       "    </tr>\n",
       "  </tbody>\n",
       "</table>\n",
       "</div>"
      ]
     },
     "execution_count": 29,
     "metadata": {},
     "output_type": "execute_result"
    }
   ],
   "execution_count": 29
  },
  {
   "cell_type": "markdown",
   "id": "655f3b6d",
   "metadata": {},
   "source": [
    "## Applying the Disparate Impact Remover\n",
    "We apply the Disparate Impact Remover at different repair levels to see its effect on fairness."
   ]
  },
  {
   "cell_type": "code",
   "id": "b05fcfd7",
   "metadata": {
    "ExecuteTime": {
     "end_time": "2025-05-12T14:45:40.564303Z",
     "start_time": "2025-05-12T14:42:18.436424Z"
    }
   },
   "source": [
    "# Split data into features and target\n",
    "adult = adult[:1000]\n",
    "\n",
    "X = adult.drop(columns=[TARGET])\n",
    "y = adult[TARGET]\n",
    "sensitive = adult[SENSITIVE]\n",
    "\n",
    "# Split into train and test\n",
    "X_train, X_test, y_train, y_test, s_train, s_test = train_test_split(\n",
    "    X, y, sensitive, test_size=0.3, random_state=42, stratify=y\n",
    ")\n",
    "\n",
    "\n",
    "# Example repair levels\n",
    "repair_levels = [0.0, 0.25, 0.5, 0.75, 1.0]\n",
    "results = []\n",
    "\n",
    "# Create DataFrames with proper metadata\n",
    "X_train_df = DataFrame(X_train)\n",
    "X_train_df.sensitive = SENSITIVE\n",
    "\n",
    "X_test_df = DataFrame(X_test)\n",
    "X_test_df.sensitive = SENSITIVE\n",
    "\n",
    "for repair_level in repair_levels:\n",
    "    # Initialize the DisparateImpactRemover with the current repair level\n",
    "    dir_remover = DisparateImpactRemover(repair_level=repair_level)\n",
    "\n",
    "    # Apply fit_transform on training data (no need to pass s_train)\n",
    "    X_train_repaired = dir_remover.fit_transform(X_train_df)\n",
    "\n",
    "    # Apply fit_transform on test data (no need to pass s_test)\n",
    "    # Note: DisparateImpactRemover doesn't have a separate transform method for DataFrames\n",
    "    X_test_repaired = dir_remover.fit_transform(X_test_df)\n",
    "\n",
    "    # Train a simple classifier\n",
    "    from sklearn.linear_model import LogisticRegression\n",
    "    clf = LogisticRegression(max_iter=1000, random_state=42)\n",
    "    clf.fit(X_train_repaired, y_train)\n",
    "\n",
    "    # Make predictions\n",
    "    y_pred = clf.predict(X_test_repaired)\n",
    "\n",
    "    # Calculate metrics\n",
    "    acc = accuracy_score(y_test, y_pred)\n",
    "\n",
    "    # Extract sensitive attribute from DataFrame metadata\n",
    "    s_test_values = X_test_df[SENSITIVE].values\n",
    "\n",
    "    # Calculate fairness metrics using the extracted sensitive attribute\n",
    "    spd = statistical_parity_difference(y_pred, s_test_values)\n",
    "    di = disparate_impact(y_pred, s_test_values)\n",
    "\n",
    "    # Store results\n",
    "    results.append({\"repair_level\": repair_level, \"accuracy\": acc, \"SPD\": spd, \"DI\": di})\n",
    "\n",
    "# Create a DataFrame with the results\n",
    "results_df = pd.DataFrame(results)"
   ],
   "outputs": [
    {
     "name": "stdout",
     "output_type": "stream",
     "text": [
      "   repair_level  accuracy                                                SPD  \\\n",
      "0          0.00  0.818058  [[-0.17485535150549236, 0.1748553515054924], [...   \n",
      "1          0.25  0.801406  [[-0.05070152618930279, 0.050701526189302834],...   \n",
      "2          0.50  0.800450  [[-0.05059267321514127, 0.05059267321514126], ...   \n",
      "3          0.75  0.805159  [[-0.0766899596573456, 0.07668995965734564], [...   \n",
      "4          1.00  0.793967  [[-0.06648671145618745, 0.06648671145618751], ...   \n",
      "\n",
      "                                                  DI  \n",
      "0  [[1.2183673296892603, 0.12247850399099276], [0...  \n",
      "1  [[1.0588706092998272, 0.6346187572323817], [0....  \n",
      "2  [[1.0586952176385385, 0.6335042660546018], [0....  \n",
      "3  [[1.0907344084607993, 0.504543167071057], [0.9...  \n",
      "4  [[1.0774114593084718, 0.5288830984443657], [0....  \n"
     ]
    }
   ],
   "execution_count": 21
  },
  {
   "cell_type": "markdown",
   "id": "49bc973a",
   "metadata": {},
   "source": [
    "## Visualizing the Fairness-Accuracy Trade-off\n",
    "Let's plot how accuracy and fairness metrics change with different repair levels."
   ]
  },
  {
   "cell_type": "code",
   "id": "551b0678",
   "metadata": {
    "ExecuteTime": {
     "end_time": "2025-05-13T13:27:07.370403Z",
     "start_time": "2025-05-13T13:27:07.225557Z"
    }
   },
   "source": [
    "results_df['SPD_11'] = results_df['SPD'].apply(lambda x: x[1][1])\n",
    "results_df['DI_11'] = results_df['DI'].apply(lambda x: x[1][1])\n",
    "\n",
    "# Imposta figure con 3 subplot verticali\n",
    "fig, axes = plt.subplots(3, 1, figsize=(8, 12), sharex=True)\n",
    "\n",
    "# --- Accuracy ---\n",
    "axes[0].plot(results_df['repair_level'], results_df['accuracy'], 'o-', color='blue')\n",
    "axes[0].set_ylabel('Accuracy')\n",
    "axes[0].set_title('Accuracy vs Repair Level')\n",
    "axes[0].grid(True)\n",
    "axes[0].set_ylim(0.5, 1.0)\n",
    "\n",
    "# --- SPD [1][1] ---\n",
    "axes[1].plot(results_df['repair_level'], results_df['SPD_11'], 's-', color='red')\n",
    "axes[1].set_ylabel('SPD (s=1, y=1)')\n",
    "axes[1].set_title('SPD for Sensitive=1 and Target=1')\n",
    "axes[1].grid(True)\n",
    "axes[1].set_ylim(-0.5, 0.5)\n",
    "\n",
    "# --- DI [1][1] ---\n",
    "axes[2].plot(results_df['repair_level'], results_df['DI_11'], '^-', color='green')\n",
    "axes[2].set_ylabel('DI (s=1, y=1)')\n",
    "axes[2].set_title('DI for Sensitive=1 and Target=1')\n",
    "axes[2].set_xlabel('Repair Level')\n",
    "axes[2].grid(True)\n",
    "axes[2].set_ylim(0, 10)\n",
    "\n",
    "plt.tight_layout()\n",
    "plt.show()\n"
   ],
   "outputs": [
    {
     "data": {
      "text/plain": [
       "<Figure size 800x1200 with 3 Axes>"
      ],
      "image/png": "[encoded data removed]"
     },
     "metadata": {},
     "output_type": "display_data"
    }
   ],
   "execution_count": 31
  }
 ],
 "metadata": {
  "kernelspec": {
   "display_name": "Python 3",
   "language": "python",
   "name": "python3"
  },
  "language_info": {
   "name": "python",
   "version": "3.8.10"
  }
 },
 "nbformat": 4,
 "nbformat_minor": 5
}
