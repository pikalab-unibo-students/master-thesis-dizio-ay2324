{
 "cells": [
  {
   "metadata": {},
   "cell_type": "markdown",
   "source": [
    "# Disparate Impact\n",
    "Disparate Impact is a fairness metric that measures the ratio of favorable outcomes between unprivileged and privileged groups. It helps identify if a model or decision-making process disproportionately affects different demographic groups.\n",
    "\n",
    "A value of 1.0 indicates perfect fairness (equal treatment), while values below 1.0 suggest the privileged group receives more favorable outcomes. Values above 1.0 indicate the unprivileged group receives more favorable outcomes.\n",
    "\n",
    "Below is a table to interpret the results:\n",
    "\n",
    "| DI Value      | Interpretation                                    | Group Benefiting                      |\n",
    "| ------------- | ------------------------------------------------ | ------------------------------------- |\n",
    "| 1.0           | Perfect fairness (equal treatment)               | Neither (equal outcomes)              |\n",
    "| 0.8 to 1.0    | Minimal disparity                               | Privileged group benefits slightly    |\n",
    "| 1.0 to 1.2    | Minimal disparity                               | Unprivileged group benefits slightly  |\n",
    "| 0.6 to 0.8    | Moderate disparity                              | Privileged group benefits             |\n",
    "| 1.2 to 1.4    | Moderate disparity                              | Unprivileged group benefits           |\n",
    "| < 0.6         | Significant disparity                           | Privileged group benefits strongly    |\n",
    "| > 1.4         | Significant disparity                           | Unprivileged group benefits strongly  |\n",
    "\n",
    "In legal contexts, a Disparate Impact value below 0.8 (or 80%) is often considered evidence of discriminatory impact."
   ],
   "id": "c1e4c637a0b74e1d"
  },
  {
   "metadata": {
    "ExecuteTime": {
     "end_time": "2025-05-14T15:06:34.950240Z",
     "start_time": "2025-05-14T15:06:34.932267Z"
    }
   },
   "cell_type": "code",
   "source": [
    "import sys\n",
    "import os\n",
    "\n",
    "# Aggiunge la directory principale del progetto al PYTHONPATH\n",
    "sys.path.append(os.path.abspath(os.path.join('..')))"
   ],
   "id": "ba63199f9e41f42",
   "outputs": [],
   "execution_count": 13
  },
  {
   "metadata": {
    "ExecuteTime": {
     "end_time": "2025-05-14T15:06:35.074931Z",
     "start_time": "2025-05-14T15:06:35.072650Z"
    }
   },
   "cell_type": "code",
   "source": [
    "import fairlib as fl\n",
    "import matplotlib.pyplot as plt"
   ],
   "id": "48ea0928395c6d1",
   "outputs": [],
   "execution_count": 14
  },
  {
   "metadata": {},
   "cell_type": "markdown",
   "source": [
    "## Import or dataset creation.\n",
    "To use metrics, simply use an “enhanced” DataFrame (pandas library). It is possible to create it from the library.\n",
    "This DataFrame is completely identical to a standard one with some extra functionality."
   ],
   "id": "124a9b8f5ac7131"
  },
  {
   "metadata": {
    "ExecuteTime": {
     "end_time": "2025-05-14T15:06:35.356540Z",
     "start_time": "2025-05-14T15:06:35.351811Z"
    }
   },
   "cell_type": "code",
   "source": [
    "df = fl.DataFrame({\n",
    "    \"name\":     [\"Alice\", \"Bob\", \"Carla\", \"Davide\", \"Elena\", \"Francesco\", \"Giorgia\", \"Hanna\", \"Luca\", \"Maria\"],\n",
    "    \"age\":      [25, 32, 45, 29, 34, 38, 27, 50, 31, 44],\n",
    "    \"sex\":      [\"F\", \"M\", \"F\", \"M\", \"F\", \"M\", \"F\", \"F\", \"M\", \"F\"],\n",
    "    \"income\":   [40000, 38000, 43400, 43000, 48000, 49000, 42000, 41000, 47000, 40000]\n",
    "})"
   ],
   "id": "a2fc5035258286be",
   "outputs": [],
   "execution_count": 15
  },
  {
   "metadata": {},
   "cell_type": "markdown",
   "source": "We go on to define which columns we consider sensitive and the “target” column then the one we would like to predict",
   "id": "d46ea298608b608e"
  },
  {
   "metadata": {
    "ExecuteTime": {
     "end_time": "2025-05-14T15:06:35.660172Z",
     "start_time": "2025-05-14T15:06:35.656974Z"
    }
   },
   "cell_type": "code",
   "source": [
    "df.sensitive = {\"age\", \"sex\"}\n",
    "df.targets = {\"income\"}"
   ],
   "id": "6a6ed6b254f45210",
   "outputs": [],
   "execution_count": 16
  },
  {
   "metadata": {},
   "cell_type": "markdown",
   "source": "In order to invoke the DI on our dataset we need to do some preprocessing, so let's go and change the column values based on binary values.",
   "id": "59758291cab0b87f"
  },
  {
   "metadata": {
    "ExecuteTime": {
     "end_time": "2025-05-14T15:06:35.966847Z",
     "start_time": "2025-05-14T15:06:35.935388Z"
    }
   },
   "cell_type": "code",
   "source": [
    "df.discretize(\n",
    "    (\"male\", df.sex == 'M'),\n",
    "    age=(\"age<38\", lambda age: age < 38),\n",
    "    income=(\"income>45k\", lambda income: income > 45000),\n",
    "    in_place=True,\n",
    ")"
   ],
   "id": "547482ae2decc81e",
   "outputs": [
    {
     "data": {
      "text/plain": [
       "        name   male  age<38  income>45k\n",
       "0      Alice  False    True       False\n",
       "1        Bob   True    True       False\n",
       "2      Carla  False   False       False\n",
       "3     Davide   True    True       False\n",
       "4      Elena  False    True        True\n",
       "5  Francesco   True   False        True\n",
       "6    Giorgia  False    True       False\n",
       "7      Hanna  False   False       False\n",
       "8       Luca   True    True        True\n",
       "9      Maria  False   False       False"
      ],
      "text/html": [
       "<div>\n",
       "<style scoped>\n",
       "    .dataframe tbody tr th:only-of-type {\n",
       "        vertical-align: middle;\n",
       "    }\n",
       "\n",
       "    .dataframe tbody tr th {\n",
       "        vertical-align: top;\n",
       "    }\n",
       "\n",
       "    .dataframe thead th {\n",
       "        text-align: right;\n",
       "    }\n",
       "</style>\n",
       "<table border=\"1\" class=\"dataframe\">\n",
       "  <thead>\n",
       "    <tr style=\"text-align: right;\">\n",
       "      <th></th>\n",
       "      <th>name</th>\n",
       "      <th>male</th>\n",
       "      <th>age&lt;38</th>\n",
       "      <th>income&gt;45k</th>\n",
       "    </tr>\n",
       "  </thead>\n",
       "  <tbody>\n",
       "    <tr>\n",
       "      <th>0</th>\n",
       "      <td>Alice</td>\n",
       "      <td>False</td>\n",
       "      <td>True</td>\n",
       "      <td>False</td>\n",
       "    </tr>\n",
       "    <tr>\n",
       "      <th>1</th>\n",
       "      <td>Bob</td>\n",
       "      <td>True</td>\n",
       "      <td>True</td>\n",
       "      <td>False</td>\n",
       "    </tr>\n",
       "    <tr>\n",
       "      <th>2</th>\n",
       "      <td>Carla</td>\n",
       "      <td>False</td>\n",
       "      <td>False</td>\n",
       "      <td>False</td>\n",
       "    </tr>\n",
       "    <tr>\n",
       "      <th>3</th>\n",
       "      <td>Davide</td>\n",
       "      <td>True</td>\n",
       "      <td>True</td>\n",
       "      <td>False</td>\n",
       "    </tr>\n",
       "    <tr>\n",
       "      <th>4</th>\n",
       "      <td>Elena</td>\n",
       "      <td>False</td>\n",
       "      <td>True</td>\n",
       "      <td>True</td>\n",
       "    </tr>\n",
       "    <tr>\n",
       "      <th>5</th>\n",
       "      <td>Francesco</td>\n",
       "      <td>True</td>\n",
       "      <td>False</td>\n",
       "      <td>True</td>\n",
       "    </tr>\n",
       "    <tr>\n",
       "      <th>6</th>\n",
       "      <td>Giorgia</td>\n",
       "      <td>False</td>\n",
       "      <td>True</td>\n",
       "      <td>False</td>\n",
       "    </tr>\n",
       "    <tr>\n",
       "      <th>7</th>\n",
       "      <td>Hanna</td>\n",
       "      <td>False</td>\n",
       "      <td>False</td>\n",
       "      <td>False</td>\n",
       "    </tr>\n",
       "    <tr>\n",
       "      <th>8</th>\n",
       "      <td>Luca</td>\n",
       "      <td>True</td>\n",
       "      <td>True</td>\n",
       "      <td>True</td>\n",
       "    </tr>\n",
       "    <tr>\n",
       "      <th>9</th>\n",
       "      <td>Maria</td>\n",
       "      <td>False</td>\n",
       "      <td>False</td>\n",
       "      <td>False</td>\n",
       "    </tr>\n",
       "  </tbody>\n",
       "</table>\n",
       "</div>"
      ]
     },
     "execution_count": 17,
     "metadata": {},
     "output_type": "execute_result"
    }
   ],
   "execution_count": 17
  },
  {
   "metadata": {},
   "cell_type": "markdown",
   "source": "Once this is done we can call the statistical parity difference directly on the dataframe.",
   "id": "e350b923d3e55608"
  },
  {
   "metadata": {
    "ExecuteTime": {
     "end_time": "2025-05-14T15:06:36.231684Z",
     "start_time": "2025-05-14T15:06:36.225336Z"
    }
   },
   "cell_type": "code",
   "source": [
    "spd = df.disparate_impact()\n",
    "\n",
    "print(spd)"
   ],
   "id": "9e6aff13ab92e8f9",
   "outputs": [
    {
     "name": "stdout",
     "output_type": "stream",
     "text": [
      "{(not(income>45k), not(male)): 0.6, (not(income>45k), male): 1.6666666666666667, (income>45k, not(male)): 3.0, (income>45k, male): 0.3333333333333333, (not(income>45k), not(age<38)): 0.8888888888888888, (not(income>45k), age<38): 1.125, (income>45k, not(age<38)): 1.3333333333333333, (income>45k, age<38): 0.75}\n"
     ]
    }
   ],
   "execution_count": 18
  },
  {
   "metadata": {},
   "cell_type": "markdown",
   "source": [
    "## Interpretation of the results\n",
    "\n",
    "As we can see there is a clear disparity for gender.\n",
    "And a slight disparity for age.\n",
    "\n",
    "This means that female subjects in the previous dataset are much less likely to have an income higher than 45000"
   ],
   "id": "5702aee585194641"
  },
  {
   "metadata": {
    "ExecuteTime": {
     "end_time": "2025-05-14T15:06:36.528936Z",
     "start_time": "2025-05-14T15:06:36.525602Z"
    }
   },
   "cell_type": "code",
   "source": [
    "labels = list(spd[{'income>45k': True}].keys())\n",
    "values = list(spd[{'income>45k': True}].values())"
   ],
   "id": "fa47c38a4e3fc6bb",
   "outputs": [],
   "execution_count": 19
  },
  {
   "metadata": {
    "ExecuteTime": {
     "end_time": "2025-05-14T15:06:36.909905Z",
     "start_time": "2025-05-14T15:06:36.907225Z"
    }
   },
   "cell_type": "code",
   "source": "labels = [f\"{item1}, {item2}\" for item1, item2 in labels]",
   "id": "21c32d4f842ee93c",
   "outputs": [],
   "execution_count": 20
  },
  {
   "metadata": {
    "ExecuteTime": {
     "end_time": "2025-05-14T15:08:16.367810Z",
     "start_time": "2025-05-14T15:08:16.292978Z"
    }
   },
   "cell_type": "code",
   "source": [
    "fig, ax = plt.subplots(figsize=(8, 6))\n",
    "\n",
    "# Linea di riferimento per Disparate Impact ideale\n",
    "ax.axhline(y=1.0, color='green', linestyle='--', label=\"Perfect Fairness (1.0)\")\n",
    "\n",
    "# Soglie della regola dell'80%\n",
    "ax.axhline(y=0.8, color='orange', linestyle=':', label=\"Acceptable Lower Bound (0.8)\")\n",
    "ax.axhline(y=1.25, color='orange', linestyle=':', label=\"Acceptable Upper Bound (1.25)\")\n",
    "\n",
    "# Linee per disparità significativa\n",
    "ax.axhline(y=0.6, color='red', linestyle='-', label=\"Significant Disparity (<0.8 or >1.25)\")\n",
    "ax.axhline(y=1.5, color='red', linestyle='-')\n",
    "\n",
    "# Barre dei modelli\n",
    "ax.bar(labels, values, color='purple')\n",
    "\n",
    "ax.set_title(\"Disparate Impact (DI) for 'Income'\")\n",
    "ax.set_ylabel(\"DI Value\")\n",
    "ax.set_ylim([0, 2])\n",
    "ax.set_xticks(range(len(labels)))\n",
    "ax.set_xticklabels(labels)\n",
    "\n",
    "ax.legend()\n",
    "plt.show()"
   ],
   "id": "490086ca543768aa",
   "outputs": [
    {
     "data": {
      "text/plain": [
       "<Figure size 800x600 with 1 Axes>"
      ],
      "image/png": "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"
     },
     "metadata": {},
     "output_type": "display_data"
    }
   ],
   "execution_count": 23
  },
  {
   "metadata": {},
   "cell_type": "code",
   "outputs": [],
   "source": "",
   "id": "87f28b684f3b9de9",
   "execution_count": null
  },
  {
   "metadata": {},
   "cell_type": "code",
   "outputs": [],
   "source": "",
   "id": "1650217a6a33f818",
   "execution_count": null
  },
  {
   "metadata": {},
   "cell_type": "code",
   "outputs": [],
   "source": "",
   "id": "f07db0eb6fcea285",
   "execution_count": null
  }
 ],
 "metadata": {
  "kernelspec": {
   "display_name": "Python 3",
   "language": "python",
   "name": "python3"
  },
  "language_info": {
   "codemirror_mode": {
    "name": "ipython",
    "version": 3
   },
   "file_extension": ".py",
   "mimetype": "text/x-python",
   "name": "python",
   "nbconvert_exporter": "python",
   "pygments_lexer": "ipython3",
   "version": "3.8.10"
  }
 }
}
