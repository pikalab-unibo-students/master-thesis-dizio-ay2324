{
 "cells": [
  {
   "cell_type": "markdown",
   "metadata": {},
   "source": [
    "# Disparate Impact\n",
    "Disparate Impact is a fairness metric that measures the ratio of favorable outcomes between unprivileged and privileged groups. It helps identify if a model or decision-making process disproportionately affects different demographic groups.\n",
    "\n",
    "A value of 1.0 indicates perfect fairness (equal treatment), while values below 1.0 suggest the privileged group receives more favorable outcomes. Values above 1.0 indicate the unprivileged group receives more favorable outcomes.\n",
    "\n",
    "Below is a table to interpret the results:\n",
    "\n",
    "| DI Value      | Interpretation                                    | Group Benefiting                      |\n",
    "| ------------- | ------------------------------------------------ | ------------------------------------- |\n",
    "| 1.0           | Perfect fairness (equal treatment)               | Neither (equal outcomes)              |\n",
    "| 0.8 to 1.0    | Minimal disparity                               | Privileged group benefits slightly    |\n",
    "| 1.0 to 1.2    | Minimal disparity                               | Unprivileged group benefits slightly  |\n",
    "| 0.6 to 0.8    | Moderate disparity                              | Privileged group benefits             |\n",
    "| 1.2 to 1.4    | Moderate disparity                              | Unprivileged group benefits           |\n",
    "| < 0.6         | Significant disparity                           | Privileged group benefits strongly    |\n",
    "| > 1.4         | Significant disparity                           | Unprivileged group benefits strongly  |\n",
    "\n",
    "In legal contexts, a Disparate Impact value below 0.8 (or 80%) is often considered evidence of discriminatory impact."
   ]
  },
  {
   "cell_type": "code",
   "metadata": {},
   "source": [
    "import sys\n",
    "import os\n",
    "\n",
    "# Aggiunge la directory principale del progetto al PYTHONPATH\n",
    "sys.path.append(os.path.abspath(os.path.join('..')))"
   ],
   "outputs": [],
   "execution_count": null
  },
  {
   "cell_type": "code",
   "metadata": {},
   "source": [
    "import fairlib as fl\n",
    "import matplotlib.pyplot as plt"
   ],
   "outputs": [],
   "execution_count": null
  },
  {
   "cell_type": "markdown",
   "metadata": {},
   "source": [
    "## Import or dataset creation.\n",
    "To use metrics, simply use an “enhanced” DataFrame (pandas library). It is possible to create it from the library.\n",
    "This DataFrame is completely identical to a standard one with some extra functionality."
   ]
  },
  {
   "cell_type": "code",
   "metadata": {},
   "source": [
    "df = fl.DataFrame({\n",
    "    \"name\":     [\"Alice\", \"Bob\", \"Carla\", \"Davide\", \"Elena\", \"Francesco\", \"Giorgia\", \"Hanna\", \"Luca\", \"Maria\"],\n",
    "    \"age\":      [25, 32, 45, 29, 34, 38, 27, 50, 31, 44],\n",
    "    \"sex\":      [\"F\", \"M\", \"F\", \"M\", \"F\", \"M\", \"F\", \"F\", \"M\", \"F\"],\n",
    "    \"income\":   [40000, 38000, 43400, 43000, 48000, 49000, 42000, 41000, 47000, 40000]\n",
    "})"
   ],
   "outputs": [],
   "execution_count": null
  },
  {
   "cell_type": "markdown",
   "metadata": {},
   "source": [
    "We go on to define which columns we consider sensitive and the “target” column then the one we would like to predict"
   ]
  },
  {
   "cell_type": "code",
   "metadata": {},
   "source": [
    "df.sensitive = {\"age\", \"sex\"}\n",
    "df.targets = {\"income\"}"
   ],
   "outputs": [],
   "execution_count": null
  },
  {
   "cell_type": "markdown",
   "metadata": {},
   "source": [
    "In order to invoke the DI on our dataset we need to do some preprocessing, so let's go and change the column values based on binary values."
   ]
  },
  {
   "cell_type": "code",
   "metadata": {},
   "source": [
    "df.discretize(\n",
    "    (\"male\", df.sex == 'M'),\n",
    "    age=(\"age<38\", lambda age: age < 38),\n",
    "    income=(\"income>45k\", lambda income: income > 45000),\n",
    "    in_place=True,\n",
    ")"
   ],
   "outputs": [],
   "execution_count": null
  },
  {
   "cell_type": "markdown",
   "metadata": {},
   "source": [
    "Once this is done we can call the statistical parity difference directly on the dataframe."
   ]
  },
  {
   "cell_type": "code",
   "metadata": {},
   "source": [
    "spd = df.disparate_impact()\n",
    "\n",
    "print(spd)"
   ],
   "outputs": [],
   "execution_count": null
  },
  {
   "cell_type": "markdown",
   "metadata": {},
   "source": [
    "## Interpretation of the results\n",
    "\n",
    "As we can see there is a clear disparity for gender.\n",
    "And a slight disparity for age.\n",
    "\n",
    "This means that female subjects in the previous dataset are much less likely to have an income higher than 45000"
   ]
  },
  {
   "cell_type": "code",
   "metadata": {},
   "source": [
    "labels = list(spd[{'income>45k': True}].keys())\n",
    "values = list(spd[{'income>45k': True}].values())"
   ],
   "outputs": [],
   "execution_count": null
  },
  {
   "cell_type": "code",
   "metadata": {},
   "source": [
    "labels = [f\"{item1}, {item2}\" for item1, item2 in labels]"
   ],
   "outputs": [],
   "execution_count": null
  },
  {
   "cell_type": "code",
   "metadata": {},
   "source": [
    "fig, ax = plt.subplots(figsize=(8, 6))\n",
    "\n",
    "# Linea di riferimento per Disparate Impact ideale\n",
    "ax.axhline(y=1.0, color='green', linestyle='--', label=\"Perfect Fairness (1.0)\")\n",
    "\n",
    "# Soglie della regola dell'80%\n",
    "ax.axhline(y=0.8, color='orange', linestyle=':', label=\"Acceptable Lower Bound (0.8)\")\n",
    "ax.axhline(y=1.25, color='orange', linestyle=':', label=\"Acceptable Upper Bound (1.25)\")\n",
    "\n",
    "# Linee per disparità significativa\n",
    "ax.axhline(y=0.6, color='red', linestyle='-', label=\"Significant Disparity (<0.8 or >1.25)\")\n",
    "ax.axhline(y=1.5, color='red', linestyle='-')\n",
    "\n",
    "# Barre dei modelli\n",
    "ax.bar(labels, values, color='purple')\n",
    "\n",
    "ax.set_title(\"Disparate Impact (DI) for 'Income'\")\n",
    "ax.set_ylabel(\"DI Value\")\n",
    "ax.set_ylim([0, 2])\n",
    "ax.set_xticks(range(len(labels)))\n",
    "ax.set_xticklabels(labels)\n",
    "\n",
    "ax.legend()\n",
    "plt.show()"
   ],
   "outputs": [],
   "execution_count": null
  },
  {
   "cell_type": "code",
   "metadata": {},
   "source": [],
   "outputs": [],
   "execution_count": null
  },
  {
   "cell_type": "code",
   "metadata": {},
   "source": [],
   "outputs": [],
   "execution_count": null
  },
  {
   "cell_type": "code",
   "metadata": {},
   "source": [],
   "outputs": [],
   "execution_count": null
  }
 ],
 "metadata": {
  "kernelspec": {
   "display_name": "Python 3",
   "language": "python",
   "name": "python3"
  },
  "language_info": {
   "codemirror_mode": {
    "name": "ipython",
    "version": 3
   },
   "file_extension": ".py",
   "mimetype": "text/x-python",
   "name": "python",
   "nbconvert_exporter": "python",
   "pygments_lexer": "ipython3",
   "version": "3.8.10"
  }
 },
 "nbformat": 4,
 "nbformat_minor": 2
}
