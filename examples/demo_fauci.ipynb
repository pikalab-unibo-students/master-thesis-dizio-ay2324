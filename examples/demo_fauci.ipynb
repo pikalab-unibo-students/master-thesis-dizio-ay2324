{
 "cells": [
  {
   "cell_type": "code",
   "execution_count": 54,
   "metadata": {},
   "outputs": [],
   "source": [
    "import openml, fairlib\n",
    "import fairlib as fl\n",
    "from fairlib.inprocessing import Fauci\n",
    "from sklearn.metrics import accuracy_score\n",
    "from sklearn.model_selection import train_test_split\n",
    "from sklearn.preprocessing import LabelEncoder\n",
    "from sklearn.impute import SimpleImputer\n",
    "import torch\n",
    "import torch.nn as nn\n"
   ]
  },
  {
   "cell_type": "code",
   "execution_count": 55,
   "metadata": {},
   "outputs": [
    {
     "name": "stderr",
     "output_type": "stream",
     "text": [
      "INFO:openml.datasets.dataset:pickle write adult\n"
     ]
    }
   ],
   "source": [
    "dataset = openml.datasets.get_dataset(179)\n",
    "X, y, _, names = dataset.get_data(target=dataset.default_target_attribute)"
   ]
  },
  {
   "cell_type": "code",
   "execution_count": 56,
   "metadata": {},
   "outputs": [],
   "source": [
    "imputer = SimpleImputer(strategy='most_frequent')\n",
    "X_imputed = imputer.fit_transform(X)"
   ]
  },
  {
   "cell_type": "code",
   "execution_count": 57,
   "metadata": {},
   "outputs": [],
   "source": [
    "X_discretized = X_imputed.copy()\n",
    "for col in X.columns:\n",
    "    if X[col].dtype == 'category':\n",
    "        le = LabelEncoder()\n",
    "        X_discretized[:, X.columns.get_loc(col)] = le.fit_transform(X_discretized[:, X.columns.get_loc(col)])\n"
   ]
  },
  {
   "cell_type": "code",
   "execution_count": 58,
   "metadata": {
    "scrolled": true
   },
   "outputs": [],
   "source": [
    "X = fairlib.DataFrame(X_discretized, columns=names)\n",
    "y = y.apply(lambda x: x == \">50K\").astype(int)"
   ]
  },
  {
   "cell_type": "code",
   "execution_count": 59,
   "metadata": {},
   "outputs": [],
   "source": [
    "X_train, X_test, y_train, y_test = train_test_split(X, y, test_size=0.35, random_state=41)"
   ]
  },
  {
   "cell_type": "code",
   "execution_count": 60,
   "metadata": {},
   "outputs": [],
   "source": [
    "X_train['income'] = y_train"
   ]
  },
  {
   "cell_type": "code",
   "execution_count": 61,
   "metadata": {
    "scrolled": true
   },
   "outputs": [
    {
     "data": {
      "text/html": [
       "<div>\n",
       "<style scoped>\n",
       "    .dataframe tbody tr th:only-of-type {\n",
       "        vertical-align: middle;\n",
       "    }\n",
       "\n",
       "    .dataframe tbody tr th {\n",
       "        vertical-align: top;\n",
       "    }\n",
       "\n",
       "    .dataframe thead th {\n",
       "        text-align: right;\n",
       "    }\n",
       "</style>\n",
       "<table border=\"1\" class=\"dataframe\">\n",
       "  <thead>\n",
       "    <tr style=\"text-align: right;\">\n",
       "      <th></th>\n",
       "      <th>age</th>\n",
       "      <th>workclass</th>\n",
       "      <th>fnlwgt</th>\n",
       "      <th>education</th>\n",
       "      <th>education-num</th>\n",
       "      <th>marital-status</th>\n",
       "      <th>occupation</th>\n",
       "      <th>relationship</th>\n",
       "      <th>race</th>\n",
       "      <th>sex</th>\n",
       "      <th>capitalgain</th>\n",
       "      <th>capitalloss</th>\n",
       "      <th>hoursperweek</th>\n",
       "      <th>native-country</th>\n",
       "      <th>income</th>\n",
       "    </tr>\n",
       "  </thead>\n",
       "  <tbody>\n",
       "    <tr>\n",
       "      <th>7567</th>\n",
       "      <td>0</td>\n",
       "      <td>3</td>\n",
       "      <td>141698.0</td>\n",
       "      <td>0</td>\n",
       "      <td>6</td>\n",
       "      <td>4</td>\n",
       "      <td>2</td>\n",
       "      <td>4</td>\n",
       "      <td>4</td>\n",
       "      <td>1</td>\n",
       "      <td>0</td>\n",
       "      <td>0</td>\n",
       "      <td>2</td>\n",
       "      <td>38</td>\n",
       "      <td>0</td>\n",
       "    </tr>\n",
       "    <tr>\n",
       "      <th>3749</th>\n",
       "      <td>4</td>\n",
       "      <td>3</td>\n",
       "      <td>318450.0</td>\n",
       "      <td>12</td>\n",
       "      <td>14</td>\n",
       "      <td>2</td>\n",
       "      <td>0</td>\n",
       "      <td>0</td>\n",
       "      <td>4</td>\n",
       "      <td>1</td>\n",
       "      <td>0</td>\n",
       "      <td>0</td>\n",
       "      <td>4</td>\n",
       "      <td>38</td>\n",
       "      <td>1</td>\n",
       "    </tr>\n",
       "    <tr>\n",
       "      <th>7496</th>\n",
       "      <td>0</td>\n",
       "      <td>3</td>\n",
       "      <td>227626.0</td>\n",
       "      <td>11</td>\n",
       "      <td>9</td>\n",
       "      <td>0</td>\n",
       "      <td>13</td>\n",
       "      <td>1</td>\n",
       "      <td>4</td>\n",
       "      <td>1</td>\n",
       "      <td>0</td>\n",
       "      <td>0</td>\n",
       "      <td>2</td>\n",
       "      <td>38</td>\n",
       "      <td>0</td>\n",
       "    </tr>\n",
       "    <tr>\n",
       "      <th>36662</th>\n",
       "      <td>0</td>\n",
       "      <td>3</td>\n",
       "      <td>91733.0</td>\n",
       "      <td>15</td>\n",
       "      <td>10</td>\n",
       "      <td>4</td>\n",
       "      <td>7</td>\n",
       "      <td>3</td>\n",
       "      <td>4</td>\n",
       "      <td>0</td>\n",
       "      <td>0</td>\n",
       "      <td>0</td>\n",
       "      <td>1</td>\n",
       "      <td>38</td>\n",
       "      <td>0</td>\n",
       "    </tr>\n",
       "    <tr>\n",
       "      <th>7701</th>\n",
       "      <td>4</td>\n",
       "      <td>3</td>\n",
       "      <td>245193.0</td>\n",
       "      <td>12</td>\n",
       "      <td>14</td>\n",
       "      <td>2</td>\n",
       "      <td>3</td>\n",
       "      <td>0</td>\n",
       "      <td>4</td>\n",
       "      <td>1</td>\n",
       "      <td>0</td>\n",
       "      <td>0</td>\n",
       "      <td>3</td>\n",
       "      <td>38</td>\n",
       "      <td>1</td>\n",
       "    </tr>\n",
       "    <tr>\n",
       "      <th>...</th>\n",
       "      <td>...</td>\n",
       "      <td>...</td>\n",
       "      <td>...</td>\n",
       "      <td>...</td>\n",
       "      <td>...</td>\n",
       "      <td>...</td>\n",
       "      <td>...</td>\n",
       "      <td>...</td>\n",
       "      <td>...</td>\n",
       "      <td>...</td>\n",
       "      <td>...</td>\n",
       "      <td>...</td>\n",
       "      <td>...</td>\n",
       "      <td>...</td>\n",
       "      <td>...</td>\n",
       "    </tr>\n",
       "    <tr>\n",
       "      <th>48597</th>\n",
       "      <td>2</td>\n",
       "      <td>3</td>\n",
       "      <td>36423.0</td>\n",
       "      <td>15</td>\n",
       "      <td>10</td>\n",
       "      <td>2</td>\n",
       "      <td>0</td>\n",
       "      <td>0</td>\n",
       "      <td>4</td>\n",
       "      <td>1</td>\n",
       "      <td>0</td>\n",
       "      <td>0</td>\n",
       "      <td>3</td>\n",
       "      <td>38</td>\n",
       "      <td>0</td>\n",
       "    </tr>\n",
       "    <tr>\n",
       "      <th>41281</th>\n",
       "      <td>2</td>\n",
       "      <td>5</td>\n",
       "      <td>186934.0</td>\n",
       "      <td>15</td>\n",
       "      <td>10</td>\n",
       "      <td>2</td>\n",
       "      <td>11</td>\n",
       "      <td>0</td>\n",
       "      <td>4</td>\n",
       "      <td>1</td>\n",
       "      <td>0</td>\n",
       "      <td>0</td>\n",
       "      <td>3</td>\n",
       "      <td>38</td>\n",
       "      <td>0</td>\n",
       "    </tr>\n",
       "    <tr>\n",
       "      <th>20450</th>\n",
       "      <td>2</td>\n",
       "      <td>5</td>\n",
       "      <td>217826.0</td>\n",
       "      <td>11</td>\n",
       "      <td>9</td>\n",
       "      <td>2</td>\n",
       "      <td>2</td>\n",
       "      <td>0</td>\n",
       "      <td>2</td>\n",
       "      <td>1</td>\n",
       "      <td>0</td>\n",
       "      <td>0</td>\n",
       "      <td>1</td>\n",
       "      <td>22</td>\n",
       "      <td>0</td>\n",
       "    </tr>\n",
       "    <tr>\n",
       "      <th>931</th>\n",
       "      <td>0</td>\n",
       "      <td>3</td>\n",
       "      <td>52114.0</td>\n",
       "      <td>15</td>\n",
       "      <td>10</td>\n",
       "      <td>4</td>\n",
       "      <td>9</td>\n",
       "      <td>3</td>\n",
       "      <td>4</td>\n",
       "      <td>0</td>\n",
       "      <td>0</td>\n",
       "      <td>0</td>\n",
       "      <td>0</td>\n",
       "      <td>38</td>\n",
       "      <td>0</td>\n",
       "    </tr>\n",
       "    <tr>\n",
       "      <th>34752</th>\n",
       "      <td>0</td>\n",
       "      <td>1</td>\n",
       "      <td>176998.0</td>\n",
       "      <td>11</td>\n",
       "      <td>9</td>\n",
       "      <td>4</td>\n",
       "      <td>9</td>\n",
       "      <td>1</td>\n",
       "      <td>4</td>\n",
       "      <td>1</td>\n",
       "      <td>0</td>\n",
       "      <td>0</td>\n",
       "      <td>2</td>\n",
       "      <td>38</td>\n",
       "      <td>0</td>\n",
       "    </tr>\n",
       "  </tbody>\n",
       "</table>\n",
       "<p>31747 rows × 15 columns</p>\n",
       "</div>"
      ],
      "text/plain": [
       "      age workclass    fnlwgt education education-num marital-status  \\\n",
       "7567    0         3  141698.0         0             6              4   \n",
       "3749    4         3  318450.0        12            14              2   \n",
       "7496    0         3  227626.0        11             9              0   \n",
       "36662   0         3   91733.0        15            10              4   \n",
       "7701    4         3  245193.0        12            14              2   \n",
       "...    ..       ...       ...       ...           ...            ...   \n",
       "48597   2         3   36423.0        15            10              2   \n",
       "41281   2         5  186934.0        15            10              2   \n",
       "20450   2         5  217826.0        11             9              2   \n",
       "931     0         3   52114.0        15            10              4   \n",
       "34752   0         1  176998.0        11             9              4   \n",
       "\n",
       "      occupation relationship race sex capitalgain capitalloss hoursperweek  \\\n",
       "7567           2            4    4   1           0           0            2   \n",
       "3749           0            0    4   1           0           0            4   \n",
       "7496          13            1    4   1           0           0            2   \n",
       "36662          7            3    4   0           0           0            1   \n",
       "7701           3            0    4   1           0           0            3   \n",
       "...          ...          ...  ...  ..         ...         ...          ...   \n",
       "48597          0            0    4   1           0           0            3   \n",
       "41281         11            0    4   1           0           0            3   \n",
       "20450          2            0    2   1           0           0            1   \n",
       "931            9            3    4   0           0           0            0   \n",
       "34752          9            1    4   1           0           0            2   \n",
       "\n",
       "      native-country  income  \n",
       "7567              38       0  \n",
       "3749              38       1  \n",
       "7496              38       0  \n",
       "36662             38       0  \n",
       "7701              38       1  \n",
       "...              ...     ...  \n",
       "48597             38       0  \n",
       "41281             38       0  \n",
       "20450             22       0  \n",
       "931               38       0  \n",
       "34752             38       0  \n",
       "\n",
       "[31747 rows x 15 columns]"
      ]
     },
     "execution_count": 61,
     "metadata": {},
     "output_type": "execute_result"
    }
   ],
   "source": [
    "X_train"
   ]
  },
  {
   "cell_type": "code",
   "execution_count": 62,
   "metadata": {},
   "outputs": [],
   "source": [
    "fauci_train_dataset = fl.DataFrame(X_train)\n",
    "X_train.drop(columns=[\"income\"], inplace=True)\n",
    "num_features = X_train.shape[1]"
   ]
  },
  {
   "cell_type": "code",
   "execution_count": 63,
   "metadata": {},
   "outputs": [],
   "source": [
    "fauci_train_dataset.targets = \"income\"\n",
    "fauci_train_dataset.sensitive = 'sex' # fauci currently supports only one sensitive attribute"
   ]
  },
  {
   "cell_type": "code",
   "execution_count": 64,
   "metadata": {},
   "outputs": [],
   "source": [
    "def create_model(input_shape):\n",
    "    return nn.Sequential(\n",
    "        nn.Linear(input_shape, 64),\n",
    "        nn.ReLU(),\n",
    "        nn.Linear(64, 32),\n",
    "        nn.ReLU(),\n",
    "        nn.Linear(32, 16),\n",
    "        nn.ReLU(),\n",
    "        nn.Linear(16, 8),\n",
    "        nn.ReLU(),\n",
    "        nn.Linear(8, 1),\n",
    "        nn.Sigmoid()\n",
    "    )"
   ]
  },
  {
   "cell_type": "code",
   "execution_count": 65,
   "metadata": {},
   "outputs": [],
   "source": [
    "unprocessed = Fauci(create_model(num_features), loss=nn.BCELoss(), fairness_regularization=None, regularization_weight=0.0)"
   ]
  },
  {
   "cell_type": "code",
   "execution_count": 66,
   "metadata": {},
   "outputs": [],
   "source": [
    "inprocessing_spd = Fauci(create_model(num_features), loss=nn.BCELoss(), fairness_regularization='spd', regularization_weight=0.5)"
   ]
  },
  {
   "cell_type": "code",
   "execution_count": 67,
   "metadata": {},
   "outputs": [],
   "source": [
    "inprocessing_di = Fauci(create_model(num_features), loss=nn.BCELoss(), fairness_regularization='di', regularization_weight=0.5)"
   ]
  },
  {
   "cell_type": "code",
   "execution_count": 68,
   "metadata": {},
   "outputs": [],
   "source": [
    "EPOCHS = 20\n",
    "BATCH_SIZE = 200\n",
    "VALIDATION_SPLIT=0.3"
   ]
  },
  {
   "cell_type": "code",
   "execution_count": 69,
   "metadata": {},
   "outputs": [
    {
     "name": "stdout",
     "output_type": "stream",
     "text": [
      "Epoch [1/20], Loss: 1.2590\n",
      "Epoch [2/20], Loss: 0.6306\n",
      "Epoch [3/20], Loss: 0.6076\n",
      "Epoch [4/20], Loss: 0.5906\n",
      "Epoch [5/20], Loss: 0.5782\n",
      "Epoch [6/20], Loss: 0.5692\n",
      "Epoch [7/20], Loss: 0.5631\n",
      "Epoch [8/20], Loss: 0.5589\n",
      "Epoch [9/20], Loss: 0.5563\n",
      "Epoch [10/20], Loss: 0.5546\n",
      "Epoch [11/20], Loss: 0.5535\n",
      "Epoch [12/20], Loss: 0.5530\n",
      "Epoch [13/20], Loss: 0.5526\n",
      "Epoch [14/20], Loss: 0.5525\n",
      "Epoch [15/20], Loss: 0.5523\n",
      "Epoch [16/20], Loss: 0.5523\n",
      "Epoch [17/20], Loss: 0.5524\n",
      "Epoch [18/20], Loss: 0.5523\n",
      "Epoch [19/20], Loss: 0.5524\n",
      "Epoch [20/20], Loss: 0.5524\n"
     ]
    },
    {
     "data": {
      "text/plain": [
       "<fairlib.inprocessing.fauci.Fauci at 0x16aa74e30>"
      ]
     },
     "execution_count": 69,
     "metadata": {},
     "output_type": "execute_result"
    }
   ],
   "source": [
    "unprocessed.fit(fauci_train_dataset, epochs=EPOCHS, batch_size=BATCH_SIZE)"
   ]
  },
  {
   "cell_type": "code",
   "execution_count": 70,
   "metadata": {},
   "outputs": [
    {
     "name": "stdout",
     "output_type": "stream",
     "text": [
      "Epoch [1/20], Loss: 37.9460\n",
      "Epoch [2/20], Loss: 37.9488\n",
      "Epoch [3/20], Loss: 37.9420\n",
      "Epoch [4/20], Loss: 37.9449\n",
      "Epoch [5/20], Loss: 37.9454\n",
      "Epoch [6/20], Loss: 37.9517\n",
      "Epoch [7/20], Loss: 37.9488\n",
      "Epoch [8/20], Loss: 37.9488\n",
      "Epoch [9/20], Loss: 37.9443\n",
      "Epoch [10/20], Loss: 37.9437\n",
      "Epoch [11/20], Loss: 37.9522\n",
      "Epoch [12/20], Loss: 37.9466\n",
      "Epoch [13/20], Loss: 37.9471\n",
      "Epoch [14/20], Loss: 37.9466\n",
      "Epoch [15/20], Loss: 37.9500\n",
      "Epoch [16/20], Loss: 37.9454\n",
      "Epoch [17/20], Loss: 37.9477\n",
      "Epoch [18/20], Loss: 37.9494\n",
      "Epoch [19/20], Loss: 37.9437\n",
      "Epoch [20/20], Loss: 37.9398\n"
     ]
    },
    {
     "data": {
      "text/plain": [
       "<fairlib.inprocessing.fauci.Fauci at 0x300ed9910>"
      ]
     },
     "execution_count": 70,
     "metadata": {},
     "output_type": "execute_result"
    }
   ],
   "source": [
    "inprocessing_spd.fit(fauci_train_dataset, epochs=EPOCHS, batch_size=BATCH_SIZE)"
   ]
  },
  {
   "cell_type": "code",
   "execution_count": 71,
   "metadata": {},
   "outputs": [
    {
     "name": "stdout",
     "output_type": "stream",
     "text": [
      "Epoch [1/20], Loss: 12.1601\n",
      "Epoch [2/20], Loss: 12.0459\n",
      "Epoch [3/20], Loss: 12.0468\n",
      "Epoch [4/20], Loss: 12.0493\n",
      "Epoch [5/20], Loss: 12.0431\n",
      "Epoch [6/20], Loss: 12.0454\n",
      "Epoch [7/20], Loss: 12.0510\n",
      "Epoch [8/20], Loss: 12.0459\n",
      "Epoch [9/20], Loss: 12.0465\n",
      "Epoch [10/20], Loss: 12.0442\n",
      "Epoch [11/20], Loss: 12.0505\n",
      "Epoch [12/20], Loss: 12.0442\n",
      "Epoch [13/20], Loss: 12.0442\n",
      "Epoch [14/20], Loss: 12.0437\n",
      "Epoch [15/20], Loss: 12.0471\n",
      "Epoch [16/20], Loss: 12.0471\n",
      "Epoch [17/20], Loss: 12.0425\n",
      "Epoch [18/20], Loss: 12.0476\n",
      "Epoch [19/20], Loss: 12.0510\n",
      "Epoch [20/20], Loss: 12.0493\n"
     ]
    },
    {
     "data": {
      "text/plain": [
       "<fairlib.inprocessing.fauci.Fauci at 0x17d41c5f0>"
      ]
     },
     "execution_count": 71,
     "metadata": {},
     "output_type": "execute_result"
    }
   ],
   "source": [
    "inprocessing_di.fit(fauci_train_dataset, epochs=EPOCHS, batch_size=BATCH_SIZE)"
   ]
  },
  {
   "cell_type": "code",
   "execution_count": 72,
   "metadata": {
    "scrolled": true
   },
   "outputs": [],
   "source": [
    "X_test_tensor = torch.tensor(X_test.to_numpy().astype(float)).float()\n",
    "\n",
    "y_pred_unprocessed = unprocessed.predict(X_test_tensor).detach().numpy()\n",
    "y_pred_spd = inprocessing_spd.predict(X_test_tensor).detach().numpy()\n",
    "y_pred_di = inprocessing_di.predict(X_test_tensor).detach().numpy()"
   ]
  },
  {
   "cell_type": "code",
   "execution_count": 73,
   "metadata": {},
   "outputs": [],
   "source": [
    "y_pred_unprocessed = (y_pred_unprocessed > 0.5).astype(int)\n",
    "y_pred_spd = (y_pred_spd > 0.5).astype(int)\n",
    "y_pred_di = (y_pred_di > 0.5).astype(int)"
   ]
  },
  {
   "cell_type": "code",
   "execution_count": 74,
   "metadata": {},
   "outputs": [],
   "source": [
    "def evaluate_model(X_test, y_test, y_pred, targets='income', sensitive='sex'):\n",
    "    print(\"Accuracy: \", accuracy_score(y_test, y_pred))\n",
    "    X = X_test.copy()\n",
    "    X[targets] = y_pred\n",
    "    dataset = fl.DataFrame(X)\n",
    "    dataset.targets = targets\n",
    "    dataset.sensitive = sensitive\n",
    "    print(\"SPD: \", dataset.statistical_parity_difference())\n",
    "    print(\"DI: \", dataset.disparate_impact())"
   ]
  },
  {
   "cell_type": "code",
   "execution_count": 75,
   "metadata": {},
   "outputs": [
    {
     "name": "stdout",
     "output_type": "stream",
     "text": [
      "Accuracy:  0.7640245685873063\n",
      "SPD:  {(income=0, sex=0): 0.0, (income=0, sex=1): 0.0}\n",
      "DI:  {(income=0, sex=0): 1.0, (income=0, sex=1): 1.0}\n"
     ]
    }
   ],
   "source": [
    "evaluate_model(X_test, y_test, y_pred_unprocessed)"
   ]
  },
  {
   "cell_type": "code",
   "execution_count": 76,
   "metadata": {},
   "outputs": [
    {
     "name": "stdout",
     "output_type": "stream",
     "text": [
      "Accuracy:  0.23597543141269378\n",
      "SPD:  {(income=1, sex=0): 0.0, (income=1, sex=1): 0.0}\n",
      "DI:  {(income=1, sex=0): 1.0, (income=1, sex=1): 1.0}\n"
     ]
    }
   ],
   "source": [
    "evaluate_model(X_test, y_test, y_pred_spd)"
   ]
  },
  {
   "cell_type": "code",
   "execution_count": 77,
   "metadata": {},
   "outputs": [
    {
     "name": "stdout",
     "output_type": "stream",
     "text": [
      "Accuracy:  0.7640245685873063\n",
      "SPD:  {(income=0, sex=0): 0.0, (income=0, sex=1): 0.0}\n",
      "DI:  {(income=0, sex=0): 1.0, (income=0, sex=1): 1.0}\n"
     ]
    }
   ],
   "source": [
    "evaluate_model(X_test, y_test, y_pred_di)"
   ]
  },
  {
   "cell_type": "code",
   "execution_count": null,
   "metadata": {},
   "outputs": [],
   "source": []
  },
  {
   "cell_type": "code",
   "execution_count": null,
   "metadata": {},
   "outputs": [],
   "source": []
  }
 ],
 "metadata": {
  "colab": {
   "provenance": []
  },
  "kernelspec": {
   "display_name": "Python 3 (ipykernel)",
   "language": "python",
   "name": "python3"
  },
  "language_info": {
   "codemirror_mode": {
    "name": "ipython",
    "version": 3
   },
   "file_extension": ".py",
   "mimetype": "text/x-python",
   "name": "python",
   "nbconvert_exporter": "python",
   "pygments_lexer": "ipython3",
   "version": "3.12.7"
  }
 },
 "nbformat": 4,
 "nbformat_minor": 4
}
