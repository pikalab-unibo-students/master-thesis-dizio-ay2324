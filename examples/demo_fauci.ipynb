{
 "cells": [
  {
   "cell_type": "code",
   "execution_count": 1,
   "metadata": {},
   "outputs": [
    {
     "name": "stderr",
     "output_type": "stream",
     "text": [
      "INFO:fairlib:Using Keras backend: TENSORFLOW\n",
      "INFO:fairlib:fairlib loaded\n"
     ]
    }
   ],
   "source": [
    "import openml, fairlib\n",
    "import fairlib as fl\n",
    "from sklearn.model_selection import train_test_split\n",
    "from sklearn.preprocessing import LabelEncoder, StandardScaler\n",
    "from sklearn.impute import SimpleImputer\n",
    "from sklearn.preprocessing import KBinsDiscretizer\n",
    "from keras.models import Sequential\n",
    "from keras.layers import Dense\n",
    "from fairlib.inprocessing import Fauci"
   ]
  },
  {
   "cell_type": "code",
   "execution_count": 2,
   "metadata": {},
   "outputs": [
    {
     "name": "stderr",
     "output_type": "stream",
     "text": [
      "INFO:openml.datasets.dataset:pickle write adult\n"
     ]
    }
   ],
   "source": [
    "dataset = openml.datasets.get_dataset(179)\n",
    "X, y, _, names = dataset.get_data(target=dataset.default_target_attribute)"
   ]
  },
  {
   "cell_type": "code",
   "execution_count": 3,
   "metadata": {},
   "outputs": [],
   "source": [
    "imputer = SimpleImputer(strategy='most_frequent')\n",
    "X_imputed = imputer.fit_transform(X)"
   ]
  },
  {
   "cell_type": "code",
   "execution_count": 4,
   "metadata": {},
   "outputs": [],
   "source": [
    "X_discretized = X_imputed.copy()\n",
    "for col in X.columns:\n",
    "    if X[col].dtype == 'category':\n",
    "        le = LabelEncoder()\n",
    "        X_discretized[:, X.columns.get_loc(col)] = le.fit_transform(X_discretized[:, X.columns.get_loc(col)])\n"
   ]
  },
  {
   "cell_type": "code",
   "execution_count": 5,
   "metadata": {
    "scrolled": true
   },
   "outputs": [],
   "source": [
    "X = fairlib.DataFrame(X_discretized, columns=names)\n",
    "y = y.apply(lambda x: x == \">50K\").astype(int)"
   ]
  },
  {
   "cell_type": "code",
   "execution_count": 6,
   "metadata": {},
   "outputs": [],
   "source": [
    "X_train, X_test, y_train, y_test = train_test_split(X, y, test_size=0.33, random_state=42)"
   ]
  },
  {
   "cell_type": "code",
   "execution_count": 7,
   "metadata": {},
   "outputs": [],
   "source": [
    "X_train['income'] = y_train"
   ]
  },
  {
   "cell_type": "code",
   "execution_count": 8,
   "metadata": {
    "scrolled": true
   },
   "outputs": [
    {
     "data": {
      "text/html": [
       "<div>\n",
       "<style scoped>\n",
       "    .dataframe tbody tr th:only-of-type {\n",
       "        vertical-align: middle;\n",
       "    }\n",
       "\n",
       "    .dataframe tbody tr th {\n",
       "        vertical-align: top;\n",
       "    }\n",
       "\n",
       "    .dataframe thead th {\n",
       "        text-align: right;\n",
       "    }\n",
       "</style>\n",
       "<table border=\"1\" class=\"dataframe\">\n",
       "  <thead>\n",
       "    <tr style=\"text-align: right;\">\n",
       "      <th></th>\n",
       "      <th>age</th>\n",
       "      <th>workclass</th>\n",
       "      <th>fnlwgt</th>\n",
       "      <th>education</th>\n",
       "      <th>education-num</th>\n",
       "      <th>marital-status</th>\n",
       "      <th>occupation</th>\n",
       "      <th>relationship</th>\n",
       "      <th>race</th>\n",
       "      <th>sex</th>\n",
       "      <th>capitalgain</th>\n",
       "      <th>capitalloss</th>\n",
       "      <th>hoursperweek</th>\n",
       "      <th>native-country</th>\n",
       "      <th>income</th>\n",
       "    </tr>\n",
       "  </thead>\n",
       "  <tbody>\n",
       "    <tr>\n",
       "      <th>5551</th>\n",
       "      <td>3</td>\n",
       "      <td>1</td>\n",
       "      <td>277024.0</td>\n",
       "      <td>11</td>\n",
       "      <td>9</td>\n",
       "      <td>5</td>\n",
       "      <td>10</td>\n",
       "      <td>1</td>\n",
       "      <td>2</td>\n",
       "      <td>1</td>\n",
       "      <td>0</td>\n",
       "      <td>0</td>\n",
       "      <td>2</td>\n",
       "      <td>38</td>\n",
       "      <td>0</td>\n",
       "    </tr>\n",
       "    <tr>\n",
       "      <th>36721</th>\n",
       "      <td>4</td>\n",
       "      <td>4</td>\n",
       "      <td>164616.0</td>\n",
       "      <td>10</td>\n",
       "      <td>16</td>\n",
       "      <td>2</td>\n",
       "      <td>9</td>\n",
       "      <td>0</td>\n",
       "      <td>4</td>\n",
       "      <td>1</td>\n",
       "      <td>4</td>\n",
       "      <td>0</td>\n",
       "      <td>2</td>\n",
       "      <td>38</td>\n",
       "      <td>1</td>\n",
       "    </tr>\n",
       "    <tr>\n",
       "      <th>2638</th>\n",
       "      <td>3</td>\n",
       "      <td>3</td>\n",
       "      <td>159755.0</td>\n",
       "      <td>8</td>\n",
       "      <td>11</td>\n",
       "      <td>2</td>\n",
       "      <td>9</td>\n",
       "      <td>0</td>\n",
       "      <td>4</td>\n",
       "      <td>1</td>\n",
       "      <td>0</td>\n",
       "      <td>0</td>\n",
       "      <td>3</td>\n",
       "      <td>38</td>\n",
       "      <td>1</td>\n",
       "    </tr>\n",
       "    <tr>\n",
       "      <th>36214</th>\n",
       "      <td>3</td>\n",
       "      <td>3</td>\n",
       "      <td>260052.0</td>\n",
       "      <td>9</td>\n",
       "      <td>13</td>\n",
       "      <td>0</td>\n",
       "      <td>3</td>\n",
       "      <td>4</td>\n",
       "      <td>4</td>\n",
       "      <td>1</td>\n",
       "      <td>4</td>\n",
       "      <td>0</td>\n",
       "      <td>2</td>\n",
       "      <td>38</td>\n",
       "      <td>1</td>\n",
       "    </tr>\n",
       "    <tr>\n",
       "      <th>27010</th>\n",
       "      <td>2</td>\n",
       "      <td>4</td>\n",
       "      <td>188615.0</td>\n",
       "      <td>9</td>\n",
       "      <td>13</td>\n",
       "      <td>2</td>\n",
       "      <td>11</td>\n",
       "      <td>0</td>\n",
       "      <td>4</td>\n",
       "      <td>1</td>\n",
       "      <td>0</td>\n",
       "      <td>0</td>\n",
       "      <td>3</td>\n",
       "      <td>38</td>\n",
       "      <td>1</td>\n",
       "    </tr>\n",
       "    <tr>\n",
       "      <th>...</th>\n",
       "      <td>...</td>\n",
       "      <td>...</td>\n",
       "      <td>...</td>\n",
       "      <td>...</td>\n",
       "      <td>...</td>\n",
       "      <td>...</td>\n",
       "      <td>...</td>\n",
       "      <td>...</td>\n",
       "      <td>...</td>\n",
       "      <td>...</td>\n",
       "      <td>...</td>\n",
       "      <td>...</td>\n",
       "      <td>...</td>\n",
       "      <td>...</td>\n",
       "      <td>...</td>\n",
       "    </tr>\n",
       "    <tr>\n",
       "      <th>11284</th>\n",
       "      <td>1</td>\n",
       "      <td>3</td>\n",
       "      <td>200117.0</td>\n",
       "      <td>9</td>\n",
       "      <td>13</td>\n",
       "      <td>2</td>\n",
       "      <td>3</td>\n",
       "      <td>0</td>\n",
       "      <td>1</td>\n",
       "      <td>1</td>\n",
       "      <td>0</td>\n",
       "      <td>2</td>\n",
       "      <td>3</td>\n",
       "      <td>38</td>\n",
       "      <td>1</td>\n",
       "    </tr>\n",
       "    <tr>\n",
       "      <th>44732</th>\n",
       "      <td>0</td>\n",
       "      <td>3</td>\n",
       "      <td>90896.0</td>\n",
       "      <td>11</td>\n",
       "      <td>9</td>\n",
       "      <td>4</td>\n",
       "      <td>6</td>\n",
       "      <td>3</td>\n",
       "      <td>4</td>\n",
       "      <td>0</td>\n",
       "      <td>0</td>\n",
       "      <td>0</td>\n",
       "      <td>2</td>\n",
       "      <td>38</td>\n",
       "      <td>0</td>\n",
       "    </tr>\n",
       "    <tr>\n",
       "      <th>38158</th>\n",
       "      <td>0</td>\n",
       "      <td>3</td>\n",
       "      <td>370057.0</td>\n",
       "      <td>11</td>\n",
       "      <td>9</td>\n",
       "      <td>0</td>\n",
       "      <td>0</td>\n",
       "      <td>1</td>\n",
       "      <td>4</td>\n",
       "      <td>0</td>\n",
       "      <td>0</td>\n",
       "      <td>0</td>\n",
       "      <td>2</td>\n",
       "      <td>38</td>\n",
       "      <td>0</td>\n",
       "    </tr>\n",
       "    <tr>\n",
       "      <th>860</th>\n",
       "      <td>0</td>\n",
       "      <td>3</td>\n",
       "      <td>216284.0</td>\n",
       "      <td>1</td>\n",
       "      <td>7</td>\n",
       "      <td>4</td>\n",
       "      <td>0</td>\n",
       "      <td>3</td>\n",
       "      <td>4</td>\n",
       "      <td>0</td>\n",
       "      <td>0</td>\n",
       "      <td>0</td>\n",
       "      <td>0</td>\n",
       "      <td>38</td>\n",
       "      <td>0</td>\n",
       "    </tr>\n",
       "    <tr>\n",
       "      <th>15795</th>\n",
       "      <td>3</td>\n",
       "      <td>5</td>\n",
       "      <td>54261.0</td>\n",
       "      <td>11</td>\n",
       "      <td>9</td>\n",
       "      <td>2</td>\n",
       "      <td>4</td>\n",
       "      <td>0</td>\n",
       "      <td>4</td>\n",
       "      <td>1</td>\n",
       "      <td>0</td>\n",
       "      <td>0</td>\n",
       "      <td>4</td>\n",
       "      <td>38</td>\n",
       "      <td>0</td>\n",
       "    </tr>\n",
       "  </tbody>\n",
       "</table>\n",
       "<p>32724 rows × 15 columns</p>\n",
       "</div>"
      ],
      "text/plain": [
       "      age workclass    fnlwgt education education-num marital-status  \\\n",
       "5551    3         1  277024.0        11             9              5   \n",
       "36721   4         4  164616.0        10            16              2   \n",
       "2638    3         3  159755.0         8            11              2   \n",
       "36214   3         3  260052.0         9            13              0   \n",
       "27010   2         4  188615.0         9            13              2   \n",
       "...    ..       ...       ...       ...           ...            ...   \n",
       "11284   1         3  200117.0         9            13              2   \n",
       "44732   0         3   90896.0        11             9              4   \n",
       "38158   0         3  370057.0        11             9              0   \n",
       "860     0         3  216284.0         1             7              4   \n",
       "15795   3         5   54261.0        11             9              2   \n",
       "\n",
       "      occupation relationship race sex capitalgain capitalloss hoursperweek  \\\n",
       "5551          10            1    2   1           0           0            2   \n",
       "36721          9            0    4   1           4           0            2   \n",
       "2638           9            0    4   1           0           0            3   \n",
       "36214          3            4    4   1           4           0            2   \n",
       "27010         11            0    4   1           0           0            3   \n",
       "...          ...          ...  ...  ..         ...         ...          ...   \n",
       "11284          3            0    1   1           0           2            3   \n",
       "44732          6            3    4   0           0           0            2   \n",
       "38158          0            1    4   0           0           0            2   \n",
       "860            0            3    4   0           0           0            0   \n",
       "15795          4            0    4   1           0           0            4   \n",
       "\n",
       "      native-country  income  \n",
       "5551              38       0  \n",
       "36721             38       1  \n",
       "2638              38       1  \n",
       "36214             38       1  \n",
       "27010             38       1  \n",
       "...              ...     ...  \n",
       "11284             38       1  \n",
       "44732             38       0  \n",
       "38158             38       0  \n",
       "860               38       0  \n",
       "15795             38       0  \n",
       "\n",
       "[32724 rows x 15 columns]"
      ]
     },
     "execution_count": 8,
     "metadata": {},
     "output_type": "execute_result"
    }
   ],
   "source": [
    "X_train"
   ]
  },
  {
   "cell_type": "code",
   "execution_count": 9,
   "metadata": {},
   "outputs": [],
   "source": [
    "fauci_train_dataset = fl.DataFrame(X_train)"
   ]
  },
  {
   "cell_type": "code",
   "execution_count": 10,
   "metadata": {},
   "outputs": [],
   "source": [
    "fauci_train_dataset.targets = \"income\"\n",
    "fauci_train_dataset.sensitive = 'sex' # fauci currently supports only one sensitive attribute"
   ]
  },
  {
   "cell_type": "code",
   "execution_count": 11,
   "metadata": {},
   "outputs": [],
   "source": [
    "model = Sequential()\n",
    "model.add(Dense(32, activation='relu')) \n",
    "model.add(Dense(16, activation='relu'))  # First hidden layer\n",
    "model.add(Dense(8, activation='relu'))  # Second hidden layer\n",
    "model.add(Dense(1, activation='sigmoid'))  # Output layer for classification"
   ]
  },
  {
   "cell_type": "code",
   "execution_count": 12,
   "metadata": {},
   "outputs": [],
   "source": [
    "inprocessing_spd = Fauci(model, loss='binary_crossentropy', regularizer='sp', optimizer='adam', metrics=['accuracy'])\n",
    "inprocessing_di = Fauci(model, loss='binary_crossentropy', regularizer='di', optimizer='adam', metrics=['accuracy'])"
   ]
  },
  {
   "cell_type": "code",
   "execution_count": 13,
   "metadata": {},
   "outputs": [
    {
     "name": "stdout",
     "output_type": "stream",
     "text": [
      "Epoch 1/10\n",
      "RICHIAMO LA SPD\n",
      "RICHIAMO LA SPD\n",
      "\u001B[1m716/716\u001B[0m \u001B[32m━━━━━━━━━━━━━━━━━━━━\u001B[0m\u001B[37m\u001B[0m \u001B[1m0s\u001B[0m 2ms/step - accuracy: 0.6519 - loss: 631.7284RICHIAMO LA SPD\n",
      "\u001B[1m716/716\u001B[0m \u001B[32m━━━━━━━━━━━━━━━━━━━━\u001B[0m\u001B[37m\u001B[0m \u001B[1m2s\u001B[0m 3ms/step - accuracy: 0.6519 - loss: 631.1598 - val_accuracy: 0.2399 - val_loss: 82.4529\n",
      "Epoch 2/10\n",
      "\u001B[1m716/716\u001B[0m \u001B[32m━━━━━━━━━━━━━━━━━━━━\u001B[0m\u001B[37m\u001B[0m \u001B[1m2s\u001B[0m 3ms/step - accuracy: 0.6414 - loss: 95.8172 - val_accuracy: 0.7617 - val_loss: 4.3290\n",
      "Epoch 3/10\n",
      "\u001B[1m716/716\u001B[0m \u001B[32m━━━━━━━━━━━━━━━━━━━━\u001B[0m\u001B[37m\u001B[0m \u001B[1m2s\u001B[0m 2ms/step - accuracy: 0.6431 - loss: 53.8232 - val_accuracy: 0.7601 - val_loss: 88.9610\n",
      "Epoch 4/10\n",
      "\u001B[1m716/716\u001B[0m \u001B[32m━━━━━━━━━━━━━━━━━━━━\u001B[0m\u001B[37m\u001B[0m \u001B[1m2s\u001B[0m 3ms/step - accuracy: 0.6388 - loss: 45.9729 - val_accuracy: 0.7615 - val_loss: 11.5125\n",
      "Epoch 5/10\n",
      "\u001B[1m716/716\u001B[0m \u001B[32m━━━━━━━━━━━━━━━━━━━━\u001B[0m\u001B[37m\u001B[0m \u001B[1m2s\u001B[0m 3ms/step - accuracy: 0.6456 - loss: 53.1653 - val_accuracy: 0.2455 - val_loss: 11.0093\n",
      "Epoch 6/10\n",
      "\u001B[1m716/716\u001B[0m \u001B[32m━━━━━━━━━━━━━━━━━━━━\u001B[0m\u001B[37m\u001B[0m \u001B[1m2s\u001B[0m 3ms/step - accuracy: 0.6313 - loss: 36.3286 - val_accuracy: 0.7498 - val_loss: 1.0782\n",
      "Epoch 7/10\n",
      "\u001B[1m716/716\u001B[0m \u001B[32m━━━━━━━━━━━━━━━━━━━━\u001B[0m\u001B[37m\u001B[0m \u001B[1m2s\u001B[0m 3ms/step - accuracy: 0.6506 - loss: 34.4160 - val_accuracy: 0.7601 - val_loss: 62.0518\n",
      "Epoch 8/10\n",
      "\u001B[1m716/716\u001B[0m \u001B[32m━━━━━━━━━━━━━━━━━━━━\u001B[0m\u001B[37m\u001B[0m \u001B[1m2s\u001B[0m 3ms/step - accuracy: 0.6394 - loss: 33.2509 - val_accuracy: 0.7622 - val_loss: 4.9184\n",
      "Epoch 9/10\n",
      "\u001B[1m716/716\u001B[0m \u001B[32m━━━━━━━━━━━━━━━━━━━━\u001B[0m\u001B[37m\u001B[0m \u001B[1m2s\u001B[0m 3ms/step - accuracy: 0.6401 - loss: 28.9068 - val_accuracy: 0.2400 - val_loss: 29.5161\n",
      "Epoch 10/10\n",
      "\u001B[1m716/716\u001B[0m \u001B[32m━━━━━━━━━━━━━━━━━━━━\u001B[0m\u001B[37m\u001B[0m \u001B[1m2s\u001B[0m 3ms/step - accuracy: 0.6467 - loss: 30.4684 - val_accuracy: 0.7614 - val_loss: 2.2029\n",
      "Epoch 1/10\n",
      "RICHIAMO LA DI\n",
      "RICHIAMO LA DI\n",
      "\u001B[1m712/716\u001B[0m \u001B[32m━━━━━━━━━━━━━━━━━━━\u001B[0m\u001B[37m━\u001B[0m \u001B[1m0s\u001B[0m 2ms/step - accuracy: 0.6522 - loss: 55.8502RICHIAMO LA DI\n",
      "\u001B[1m716/716\u001B[0m \u001B[32m━━━━━━━━━━━━━━━━━━━━\u001B[0m\u001B[37m\u001B[0m \u001B[1m2s\u001B[0m 3ms/step - accuracy: 0.6521 - loss: 55.7602 - val_accuracy: 0.7616 - val_loss: 15.0506\n",
      "Epoch 2/10\n",
      "\u001B[1m716/716\u001B[0m \u001B[32m━━━━━━━━━━━━━━━━━━━━\u001B[0m\u001B[37m\u001B[0m \u001B[1m2s\u001B[0m 3ms/step - accuracy: 0.6506 - loss: 31.6933 - val_accuracy: 0.7607 - val_loss: 27.8602\n",
      "Epoch 3/10\n",
      "\u001B[1m716/716\u001B[0m \u001B[32m━━━━━━━━━━━━━━━━━━━━\u001B[0m\u001B[37m\u001B[0m \u001B[1m2s\u001B[0m 3ms/step - accuracy: 0.6437 - loss: 37.5643 - val_accuracy: 0.7601 - val_loss: 52.3664\n",
      "Epoch 4/10\n",
      "\u001B[1m716/716\u001B[0m \u001B[32m━━━━━━━━━━━━━━━━━━━━\u001B[0m\u001B[37m\u001B[0m \u001B[1m2s\u001B[0m 3ms/step - accuracy: 0.6536 - loss: 25.6128 - val_accuracy: 0.7601 - val_loss: 85.4500\n",
      "Epoch 5/10\n",
      "\u001B[1m716/716\u001B[0m \u001B[32m━━━━━━━━━━━━━━━━━━━━\u001B[0m\u001B[37m\u001B[0m \u001B[1m2s\u001B[0m 3ms/step - accuracy: 0.6539 - loss: 24.6058 - val_accuracy: 0.7612 - val_loss: 25.3375\n",
      "Epoch 6/10\n",
      "\u001B[1m716/716\u001B[0m \u001B[32m━━━━━━━━━━━━━━━━━━━━\u001B[0m\u001B[37m\u001B[0m \u001B[1m2s\u001B[0m 3ms/step - accuracy: 0.6542 - loss: 20.5691 - val_accuracy: 0.7648 - val_loss: 8.0038\n",
      "Epoch 7/10\n",
      "\u001B[1m716/716\u001B[0m \u001B[32m━━━━━━━━━━━━━━━━━━━━\u001B[0m\u001B[37m\u001B[0m \u001B[1m2s\u001B[0m 3ms/step - accuracy: 0.6537 - loss: 19.8890 - val_accuracy: 0.2430 - val_loss: 23.8467\n",
      "Epoch 8/10\n",
      "\u001B[1m716/716\u001B[0m \u001B[32m━━━━━━━━━━━━━━━━━━━━\u001B[0m\u001B[37m\u001B[0m \u001B[1m2s\u001B[0m 3ms/step - accuracy: 0.6490 - loss: 20.5406 - val_accuracy: 0.7601 - val_loss: 67.9600\n",
      "Epoch 9/10\n",
      "\u001B[1m716/716\u001B[0m \u001B[32m━━━━━━━━━━━━━━━━━━━━\u001B[0m\u001B[37m\u001B[0m \u001B[1m2s\u001B[0m 3ms/step - accuracy: 0.6628 - loss: 20.3210 - val_accuracy: 0.7615 - val_loss: 24.4840\n",
      "Epoch 10/10\n",
      "\u001B[1m716/716\u001B[0m \u001B[32m━━━━━━━━━━━━━━━━━━━━\u001B[0m\u001B[37m\u001B[0m \u001B[1m2s\u001B[0m 3ms/step - accuracy: 0.6645 - loss: 20.9143 - val_accuracy: 0.2413 - val_loss: 35.4027\n"
     ]
    },
    {
     "data": {
      "text/plain": [
       "<keras.src.callbacks.history.History at 0x17fa54320>"
      ]
     },
     "execution_count": 13,
     "metadata": {},
     "output_type": "execute_result"
    }
   ],
   "source": [
    "inprocessing_spd.fit(fauci_train_dataset, converting_to_type=float, epochs=10, batch_size=32, validation_split=0.3)\n",
    "inprocessing_di.fit(fauci_train_dataset, converting_to_type=float, epochs=10, batch_size=32, validation_split=0.3)"
   ]
  },
  {
   "cell_type": "code",
   "execution_count": 14,
   "metadata": {
    "scrolled": true
   },
   "outputs": [
    {
     "name": "stdout",
     "output_type": "stream",
     "text": [
      "\u001B[1m504/504\u001B[0m \u001B[32m━━━━━━━━━━━━━━━━━━━━\u001B[0m\u001B[37m\u001B[0m \u001B[1m0s\u001B[0m 275us/step\n",
      "\u001B[1m504/504\u001B[0m \u001B[32m━━━━━━━━━━━━━━━━━━━━\u001B[0m\u001B[37m\u001B[0m \u001B[1m0s\u001B[0m 247us/step\n"
     ]
    }
   ],
   "source": [
    "y_pred_spd = inprocessing_spd.predict(X_test.astype(float))\n",
    "y_pred_di = inprocessing_di.predict(X_test.astype(float))"
   ]
  },
  {
   "cell_type": "code",
   "execution_count": 15,
   "metadata": {},
   "outputs": [
    {
     "name": "stdout",
     "output_type": "stream",
     "text": [
      "16086.549\n",
      "16086.549\n"
     ]
    }
   ],
   "source": [
    "print(y_pred_spd.sum())\n",
    "print(y_pred_di.sum())"
   ]
  },
  {
   "cell_type": "code",
   "execution_count": 16,
   "metadata": {},
   "outputs": [],
   "source": [
    "y_pred_spd = (y_pred_spd > 0.5).astype(int)\n",
    "y_pred_di = (y_pred_di > 0.5).astype(int)"
   ]
  },
  {
   "cell_type": "code",
   "execution_count": 17,
   "metadata": {},
   "outputs": [
    {
     "name": "stdout",
     "output_type": "stream",
     "text": [
      "accuracy with spd regularization :  0.24413698970095546\n",
      "accuracy with di regularization :  0.24413698970095546\n"
     ]
    }
   ],
   "source": [
    "from sklearn.metrics import accuracy_score\n",
    "print(\"accuracy with spd regularization : \", accuracy_score(y_test, y_pred_spd))\n",
    "print(\"accuracy with di regularization : \", accuracy_score(y_test, y_pred_di))"
   ]
  },
  {
   "cell_type": "code",
   "execution_count": 18,
   "metadata": {},
   "outputs": [],
   "source": [
    "X_test['income'] = y_pred_spd"
   ]
  },
  {
   "cell_type": "code",
   "execution_count": 19,
   "metadata": {},
   "outputs": [
    {
     "data": {
      "text/plain": [
       "(income=1, sex=1) -> 0.00337043980175733\n",
       "(income=1, sex=0) -> -0.00337043980175733"
      ]
     },
     "execution_count": 19,
     "metadata": {},
     "output_type": "execute_result"
    }
   ],
   "source": [
    "spd_dataset = fl.DataFrame(X_test)\n",
    "spd_dataset.targets = \"income\"\n",
    "spd_dataset.sensitive = 'sex'\n",
    "\n",
    "spd_dataset.statistical_parity_difference()"
   ]
  },
  {
   "cell_type": "code",
   "execution_count": 20,
   "metadata": {},
   "outputs": [],
   "source": [
    "X_test['income'] = y_pred_di"
   ]
  },
  {
   "cell_type": "code",
   "execution_count": 21,
   "metadata": {},
   "outputs": [
    {
     "name": "stdout",
     "output_type": "stream",
     "text": [
      "this is unprivileged in di:  0.9964439453490548\n",
      "this is privileged in di:  0.9998143851508121\n",
      "this is unprivileged in di:  0.9998143851508121\n",
      "this is privileged in di:  0.9964439453490548\n"
     ]
    },
    {
     "data": {
      "text/plain": [
       "(income=1, sex=1) -> 0.9966289344784243\n",
       "(income=1, sex=0) -> 1.0033824680429733"
      ]
     },
     "execution_count": 21,
     "metadata": {},
     "output_type": "execute_result"
    }
   ],
   "source": [
    "di_dataset = fl.DataFrame(X_test)\n",
    "di_dataset.targets = \"income\"\n",
    "di_dataset.sensitive = 'sex'\n",
    "\n",
    "di_dataset.disparate_impact()"
   ]
  },
  {
   "cell_type": "markdown",
   "metadata": {},
   "source": [
    "## Test With un-fair model"
   ]
  },
  {
   "cell_type": "code",
   "execution_count": 22,
   "metadata": {},
   "outputs": [],
   "source": [
    "model = Sequential()\n",
    "model.add(Dense(32, activation='relu'))  # Second hidden layer\n",
    "model.add(Dense(1, activation='sigmoid'))  # Output layer for classification"
   ]
  },
  {
   "cell_type": "code",
   "execution_count": 23,
   "metadata": {},
   "outputs": [],
   "source": [
    "X_train, X_test, y_train, y_test = train_test_split(X, y, test_size=0.33, random_state=42)"
   ]
  },
  {
   "cell_type": "code",
   "execution_count": 24,
   "metadata": {},
   "outputs": [],
   "source": [
    "model.compile(loss='binary_crossentropy', optimizer='adam', metrics=['accuracy'])"
   ]
  },
  {
   "cell_type": "code",
   "execution_count": 25,
   "metadata": {},
   "outputs": [],
   "source": [
    "X_train = X_train.astype(float)\n",
    "y_train = y_train.astype(float)"
   ]
  },
  {
   "cell_type": "code",
   "execution_count": 26,
   "metadata": {},
   "outputs": [
    {
     "name": "stdout",
     "output_type": "stream",
     "text": [
      "Epoch 1/10\n",
      "\u001B[1m716/716\u001B[0m \u001B[32m━━━━━━━━━━━━━━━━━━━━\u001B[0m\u001B[37m\u001B[0m \u001B[1m1s\u001B[0m 501us/step - accuracy: 0.5903 - loss: 2267.6943 - val_accuracy: 0.7601 - val_loss: 127.9464\n",
      "Epoch 2/10\n",
      "\u001B[1m716/716\u001B[0m \u001B[32m━━━━━━━━━━━━━━━━━━━━\u001B[0m\u001B[37m\u001B[0m \u001B[1m0s\u001B[0m 425us/step - accuracy: 0.6448 - loss: 61.5559 - val_accuracy: 0.7316 - val_loss: 1.3826\n",
      "Epoch 3/10\n",
      "\u001B[1m716/716\u001B[0m \u001B[32m━━━━━━━━━━━━━━━━━━━━\u001B[0m\u001B[37m\u001B[0m \u001B[1m0s\u001B[0m 432us/step - accuracy: 0.6338 - loss: 67.6278 - val_accuracy: 0.7601 - val_loss: 100.5190\n",
      "Epoch 4/10\n",
      "\u001B[1m716/716\u001B[0m \u001B[32m━━━━━━━━━━━━━━━━━━━━\u001B[0m\u001B[37m\u001B[0m \u001B[1m0s\u001B[0m 432us/step - accuracy: 0.6408 - loss: 71.6107 - val_accuracy: 0.7627 - val_loss: 19.8335\n",
      "Epoch 5/10\n",
      "\u001B[1m716/716\u001B[0m \u001B[32m━━━━━━━━━━━━━━━━━━━━\u001B[0m\u001B[37m\u001B[0m \u001B[1m0s\u001B[0m 433us/step - accuracy: 0.6472 - loss: 58.0876 - val_accuracy: 0.7620 - val_loss: 21.9908\n",
      "Epoch 6/10\n",
      "\u001B[1m716/716\u001B[0m \u001B[32m━━━━━━━━━━━━━━━━━━━━\u001B[0m\u001B[37m\u001B[0m \u001B[1m0s\u001B[0m 426us/step - accuracy: 0.6440 - loss: 55.6261 - val_accuracy: 0.7615 - val_loss: 54.3506\n",
      "Epoch 7/10\n",
      "\u001B[1m716/716\u001B[0m \u001B[32m━━━━━━━━━━━━━━━━━━━━\u001B[0m\u001B[37m\u001B[0m \u001B[1m0s\u001B[0m 437us/step - accuracy: 0.6527 - loss: 48.5445 - val_accuracy: 0.7650 - val_loss: 14.3448\n",
      "Epoch 8/10\n",
      "\u001B[1m716/716\u001B[0m \u001B[32m━━━━━━━━━━━━━━━━━━━━\u001B[0m\u001B[37m\u001B[0m \u001B[1m0s\u001B[0m 427us/step - accuracy: 0.6564 - loss: 53.2969 - val_accuracy: 0.2443 - val_loss: 62.1074\n",
      "Epoch 9/10\n",
      "\u001B[1m716/716\u001B[0m \u001B[32m━━━━━━━━━━━━━━━━━━━━\u001B[0m\u001B[37m\u001B[0m \u001B[1m0s\u001B[0m 428us/step - accuracy: 0.6486 - loss: 54.6884 - val_accuracy: 0.7637 - val_loss: 27.2652\n",
      "Epoch 10/10\n",
      "\u001B[1m716/716\u001B[0m \u001B[32m━━━━━━━━━━━━━━━━━━━━\u001B[0m\u001B[37m\u001B[0m \u001B[1m0s\u001B[0m 426us/step - accuracy: 0.6568 - loss: 51.8953 - val_accuracy: 0.7745 - val_loss: 3.6590\n"
     ]
    },
    {
     "data": {
      "text/plain": [
       "<keras.src.callbacks.history.History at 0x17dc39ca0>"
      ]
     },
     "execution_count": 26,
     "metadata": {},
     "output_type": "execute_result"
    }
   ],
   "source": [
    "model.fit(X_train, y_train, epochs=10, batch_size=32, validation_split=0.3)"
   ]
  },
  {
   "cell_type": "code",
   "execution_count": 27,
   "metadata": {},
   "outputs": [
    {
     "name": "stdout",
     "output_type": "stream",
     "text": [
      "\u001B[1m504/504\u001B[0m \u001B[32m━━━━━━━━━━━━━━━━━━━━\u001B[0m\u001B[37m\u001B[0m \u001B[1m0s\u001B[0m 237us/step\n"
     ]
    }
   ],
   "source": [
    "y_pred = model.predict(X_test.astype(float))\n",
    "y_pred = (y_pred > 0.5).astype(int)"
   ]
  },
  {
   "cell_type": "code",
   "execution_count": 28,
   "metadata": {},
   "outputs": [
    {
     "data": {
      "text/plain": [
       "0.7743516565330686"
      ]
     },
     "execution_count": 28,
     "metadata": {},
     "output_type": "execute_result"
    }
   ],
   "source": [
    "accuracy_score(y_test, y_pred)"
   ]
  },
  {
   "cell_type": "code",
   "execution_count": 29,
   "metadata": {},
   "outputs": [
    {
     "data": {
      "text/plain": [
       "(income=1, sex=1) -> 0.19568319543796708\n",
       "(income=1, sex=0) -> -0.19568319543796708"
      ]
     },
     "execution_count": 29,
     "metadata": {},
     "output_type": "execute_result"
    }
   ],
   "source": [
    "X_test['income'] = y_pred\n",
    "spd_dataset = fl.DataFrame(X_test)\n",
    "spd_dataset.targets = \"income\"\n",
    "spd_dataset.sensitive = 'sex'\n",
    "\n",
    "spd_dataset.statistical_parity_difference()"
   ]
  },
  {
   "cell_type": "code",
   "execution_count": 30,
   "metadata": {},
   "outputs": [
    {
     "name": "stdout",
     "output_type": "stream",
     "text": [
      "this is unprivileged in di:  0.061950215234886766\n",
      "this is privileged in di:  0.25763341067285384\n",
      "this is unprivileged in di:  0.25763341067285384\n",
      "this is privileged in di:  0.061950215234886766\n"
     ]
    },
    {
     "data": {
      "text/plain": [
       "(income=1, sex=1) -> 0.24045877851437497\n",
       "(income=1, sex=0) -> 4.158716958383861"
      ]
     },
     "execution_count": 30,
     "metadata": {},
     "output_type": "execute_result"
    }
   ],
   "source": [
    "spd_dataset.disparate_impact()"
   ]
  },
  {
   "cell_type": "code",
   "execution_count": null,
   "metadata": {},
   "outputs": [],
   "source": []
  }
 ],
 "metadata": {
  "colab": {
   "provenance": []
  },
  "kernelspec": {
   "display_name": "Python 3 (ipykernel)",
   "language": "python",
   "name": "python3"
  },
  "language_info": {
   "codemirror_mode": {
    "name": "ipython",
    "version": 3
   },
   "file_extension": ".py",
   "mimetype": "text/x-python",
   "name": "python",
   "nbconvert_exporter": "python",
   "pygments_lexer": "ipython3",
   "version": "3.12.6"
  }
 },
 "nbformat": 4,
 "nbformat_minor": 4
}
