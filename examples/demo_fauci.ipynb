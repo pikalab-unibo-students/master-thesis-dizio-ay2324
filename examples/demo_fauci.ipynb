{
 "cells": [
  {
   "cell_type": "code",
   "execution_count": 78,
   "metadata": {},
   "outputs": [],
   "source": [
    "import openml, fairlib\n",
    "import fairlib as fl\n",
    "from fairlib.inprocessing import Fauci\n",
    "from sklearn.metrics import accuracy_score\n",
    "from sklearn.model_selection import train_test_split\n",
    "from sklearn.preprocessing import LabelEncoder\n",
    "from sklearn.impute import SimpleImputer\n",
    "import torch\n",
    "import torch.nn as nn"
   ]
  },
  {
   "cell_type": "code",
   "execution_count": 79,
   "metadata": {},
   "outputs": [
    {
     "name": "stderr",
     "output_type": "stream",
     "text": [
      "INFO:openml.datasets.dataset:pickle write adult\n"
     ]
    }
   ],
   "source": [
    "dataset = openml.datasets.get_dataset(179)\n",
    "X, y, _, names = dataset.get_data(target=dataset.default_target_attribute)"
   ]
  },
  {
   "cell_type": "code",
   "execution_count": 80,
   "metadata": {},
   "outputs": [],
   "source": [
    "imputer = SimpleImputer(strategy='most_frequent')\n",
    "X_imputed = imputer.fit_transform(X)"
   ]
  },
  {
   "cell_type": "code",
   "execution_count": 81,
   "metadata": {},
   "outputs": [],
   "source": [
    "X_discretized = X_imputed.copy()\n",
    "for col in X.columns:\n",
    "    if X[col].dtype == 'category':\n",
    "        le = LabelEncoder()\n",
    "        X_discretized[:, X.columns.get_loc(col)] = le.fit_transform(X_discretized[:, X.columns.get_loc(col)])\n"
   ]
  },
  {
   "cell_type": "code",
   "execution_count": 82,
   "metadata": {
    "scrolled": true
   },
   "outputs": [],
   "source": [
    "X = fairlib.DataFrame(X_discretized, columns=names)\n",
    "X = X.drop(columns=[\"fnlwgt\"])\n",
    "y = y.apply(lambda x: x == \">50K\").astype(int)"
   ]
  },
  {
   "cell_type": "code",
   "execution_count": 83,
   "metadata": {},
   "outputs": [],
   "source": [
    "X_train, X_test, y_train, y_test = train_test_split(X, y, test_size=0.35, random_state=41)"
   ]
  },
  {
   "cell_type": "code",
   "execution_count": 84,
   "metadata": {},
   "outputs": [],
   "source": [
    "X_train['income'] = y_train"
   ]
  },
  {
   "cell_type": "code",
   "execution_count": 85,
   "metadata": {
    "scrolled": true
   },
   "outputs": [
    {
     "data": {
      "text/html": [
       "<div>\n",
       "<style scoped>\n",
       "    .dataframe tbody tr th:only-of-type {\n",
       "        vertical-align: middle;\n",
       "    }\n",
       "\n",
       "    .dataframe tbody tr th {\n",
       "        vertical-align: top;\n",
       "    }\n",
       "\n",
       "    .dataframe thead th {\n",
       "        text-align: right;\n",
       "    }\n",
       "</style>\n",
       "<table border=\"1\" class=\"dataframe\">\n",
       "  <thead>\n",
       "    <tr style=\"text-align: right;\">\n",
       "      <th></th>\n",
       "      <th>age</th>\n",
       "      <th>workclass</th>\n",
       "      <th>education</th>\n",
       "      <th>education-num</th>\n",
       "      <th>marital-status</th>\n",
       "      <th>occupation</th>\n",
       "      <th>relationship</th>\n",
       "      <th>race</th>\n",
       "      <th>sex</th>\n",
       "      <th>capitalgain</th>\n",
       "      <th>capitalloss</th>\n",
       "      <th>hoursperweek</th>\n",
       "      <th>native-country</th>\n",
       "      <th>income</th>\n",
       "    </tr>\n",
       "  </thead>\n",
       "  <tbody>\n",
       "    <tr>\n",
       "      <th>7567</th>\n",
       "      <td>0</td>\n",
       "      <td>3</td>\n",
       "      <td>0</td>\n",
       "      <td>6</td>\n",
       "      <td>4</td>\n",
       "      <td>2</td>\n",
       "      <td>4</td>\n",
       "      <td>4</td>\n",
       "      <td>1</td>\n",
       "      <td>0</td>\n",
       "      <td>0</td>\n",
       "      <td>2</td>\n",
       "      <td>38</td>\n",
       "      <td>0</td>\n",
       "    </tr>\n",
       "    <tr>\n",
       "      <th>3749</th>\n",
       "      <td>4</td>\n",
       "      <td>3</td>\n",
       "      <td>12</td>\n",
       "      <td>14</td>\n",
       "      <td>2</td>\n",
       "      <td>0</td>\n",
       "      <td>0</td>\n",
       "      <td>4</td>\n",
       "      <td>1</td>\n",
       "      <td>0</td>\n",
       "      <td>0</td>\n",
       "      <td>4</td>\n",
       "      <td>38</td>\n",
       "      <td>1</td>\n",
       "    </tr>\n",
       "    <tr>\n",
       "      <th>7496</th>\n",
       "      <td>0</td>\n",
       "      <td>3</td>\n",
       "      <td>11</td>\n",
       "      <td>9</td>\n",
       "      <td>0</td>\n",
       "      <td>13</td>\n",
       "      <td>1</td>\n",
       "      <td>4</td>\n",
       "      <td>1</td>\n",
       "      <td>0</td>\n",
       "      <td>0</td>\n",
       "      <td>2</td>\n",
       "      <td>38</td>\n",
       "      <td>0</td>\n",
       "    </tr>\n",
       "    <tr>\n",
       "      <th>36662</th>\n",
       "      <td>0</td>\n",
       "      <td>3</td>\n",
       "      <td>15</td>\n",
       "      <td>10</td>\n",
       "      <td>4</td>\n",
       "      <td>7</td>\n",
       "      <td>3</td>\n",
       "      <td>4</td>\n",
       "      <td>0</td>\n",
       "      <td>0</td>\n",
       "      <td>0</td>\n",
       "      <td>1</td>\n",
       "      <td>38</td>\n",
       "      <td>0</td>\n",
       "    </tr>\n",
       "    <tr>\n",
       "      <th>7701</th>\n",
       "      <td>4</td>\n",
       "      <td>3</td>\n",
       "      <td>12</td>\n",
       "      <td>14</td>\n",
       "      <td>2</td>\n",
       "      <td>3</td>\n",
       "      <td>0</td>\n",
       "      <td>4</td>\n",
       "      <td>1</td>\n",
       "      <td>0</td>\n",
       "      <td>0</td>\n",
       "      <td>3</td>\n",
       "      <td>38</td>\n",
       "      <td>1</td>\n",
       "    </tr>\n",
       "    <tr>\n",
       "      <th>...</th>\n",
       "      <td>...</td>\n",
       "      <td>...</td>\n",
       "      <td>...</td>\n",
       "      <td>...</td>\n",
       "      <td>...</td>\n",
       "      <td>...</td>\n",
       "      <td>...</td>\n",
       "      <td>...</td>\n",
       "      <td>...</td>\n",
       "      <td>...</td>\n",
       "      <td>...</td>\n",
       "      <td>...</td>\n",
       "      <td>...</td>\n",
       "      <td>...</td>\n",
       "    </tr>\n",
       "    <tr>\n",
       "      <th>48597</th>\n",
       "      <td>2</td>\n",
       "      <td>3</td>\n",
       "      <td>15</td>\n",
       "      <td>10</td>\n",
       "      <td>2</td>\n",
       "      <td>0</td>\n",
       "      <td>0</td>\n",
       "      <td>4</td>\n",
       "      <td>1</td>\n",
       "      <td>0</td>\n",
       "      <td>0</td>\n",
       "      <td>3</td>\n",
       "      <td>38</td>\n",
       "      <td>0</td>\n",
       "    </tr>\n",
       "    <tr>\n",
       "      <th>41281</th>\n",
       "      <td>2</td>\n",
       "      <td>5</td>\n",
       "      <td>15</td>\n",
       "      <td>10</td>\n",
       "      <td>2</td>\n",
       "      <td>11</td>\n",
       "      <td>0</td>\n",
       "      <td>4</td>\n",
       "      <td>1</td>\n",
       "      <td>0</td>\n",
       "      <td>0</td>\n",
       "      <td>3</td>\n",
       "      <td>38</td>\n",
       "      <td>0</td>\n",
       "    </tr>\n",
       "    <tr>\n",
       "      <th>20450</th>\n",
       "      <td>2</td>\n",
       "      <td>5</td>\n",
       "      <td>11</td>\n",
       "      <td>9</td>\n",
       "      <td>2</td>\n",
       "      <td>2</td>\n",
       "      <td>0</td>\n",
       "      <td>2</td>\n",
       "      <td>1</td>\n",
       "      <td>0</td>\n",
       "      <td>0</td>\n",
       "      <td>1</td>\n",
       "      <td>22</td>\n",
       "      <td>0</td>\n",
       "    </tr>\n",
       "    <tr>\n",
       "      <th>931</th>\n",
       "      <td>0</td>\n",
       "      <td>3</td>\n",
       "      <td>15</td>\n",
       "      <td>10</td>\n",
       "      <td>4</td>\n",
       "      <td>9</td>\n",
       "      <td>3</td>\n",
       "      <td>4</td>\n",
       "      <td>0</td>\n",
       "      <td>0</td>\n",
       "      <td>0</td>\n",
       "      <td>0</td>\n",
       "      <td>38</td>\n",
       "      <td>0</td>\n",
       "    </tr>\n",
       "    <tr>\n",
       "      <th>34752</th>\n",
       "      <td>0</td>\n",
       "      <td>1</td>\n",
       "      <td>11</td>\n",
       "      <td>9</td>\n",
       "      <td>4</td>\n",
       "      <td>9</td>\n",
       "      <td>1</td>\n",
       "      <td>4</td>\n",
       "      <td>1</td>\n",
       "      <td>0</td>\n",
       "      <td>0</td>\n",
       "      <td>2</td>\n",
       "      <td>38</td>\n",
       "      <td>0</td>\n",
       "    </tr>\n",
       "  </tbody>\n",
       "</table>\n",
       "<p>31747 rows × 14 columns</p>\n",
       "</div>"
      ],
      "text/plain": [
       "      age workclass education education-num marital-status occupation  \\\n",
       "7567    0         3         0             6              4          2   \n",
       "3749    4         3        12            14              2          0   \n",
       "7496    0         3        11             9              0         13   \n",
       "36662   0         3        15            10              4          7   \n",
       "7701    4         3        12            14              2          3   \n",
       "...    ..       ...       ...           ...            ...        ...   \n",
       "48597   2         3        15            10              2          0   \n",
       "41281   2         5        15            10              2         11   \n",
       "20450   2         5        11             9              2          2   \n",
       "931     0         3        15            10              4          9   \n",
       "34752   0         1        11             9              4          9   \n",
       "\n",
       "      relationship race sex capitalgain capitalloss hoursperweek  \\\n",
       "7567             4    4   1           0           0            2   \n",
       "3749             0    4   1           0           0            4   \n",
       "7496             1    4   1           0           0            2   \n",
       "36662            3    4   0           0           0            1   \n",
       "7701             0    4   1           0           0            3   \n",
       "...            ...  ...  ..         ...         ...          ...   \n",
       "48597            0    4   1           0           0            3   \n",
       "41281            0    4   1           0           0            3   \n",
       "20450            0    2   1           0           0            1   \n",
       "931              3    4   0           0           0            0   \n",
       "34752            1    4   1           0           0            2   \n",
       "\n",
       "      native-country  income  \n",
       "7567              38       0  \n",
       "3749              38       1  \n",
       "7496              38       0  \n",
       "36662             38       0  \n",
       "7701              38       1  \n",
       "...              ...     ...  \n",
       "48597             38       0  \n",
       "41281             38       0  \n",
       "20450             22       0  \n",
       "931               38       0  \n",
       "34752             38       0  \n",
       "\n",
       "[31747 rows x 14 columns]"
      ]
     },
     "execution_count": 85,
     "metadata": {},
     "output_type": "execute_result"
    }
   ],
   "source": [
    "X_train"
   ]
  },
  {
   "cell_type": "code",
   "execution_count": 86,
   "metadata": {},
   "outputs": [],
   "source": [
    "fauci_train_dataset = fl.DataFrame(X_train)\n",
    "X_train.drop(columns=[\"income\"], inplace=True)\n",
    "num_features = X_train.shape[1]"
   ]
  },
  {
   "cell_type": "code",
   "execution_count": 87,
   "metadata": {},
   "outputs": [],
   "source": [
    "fauci_train_dataset.targets = \"income\"\n",
    "fauci_train_dataset.sensitive = 'sex' # fauci currently supports only one sensitive attribute"
   ]
  },
  {
   "cell_type": "code",
   "execution_count": 88,
   "metadata": {},
   "outputs": [],
   "source": [
    "def create_model(input_shape):\n",
    "    return nn.Sequential(\n",
    "        nn.Linear(input_shape, 64),\n",
    "        nn.LeakyReLU(),\n",
    "        nn.Linear(64, 32),\n",
    "        nn.LeakyReLU(),\n",
    "        nn.Linear(32, 16),\n",
    "        nn.LeakyReLU(),\n",
    "        nn.Linear(16, 8),\n",
    "        nn.LeakyReLU(),\n",
    "        nn.Linear(8, 1),\n",
    "        nn.Sigmoid()\n",
    "    )"
   ]
  },
  {
   "cell_type": "code",
   "execution_count": 117,
   "metadata": {},
   "outputs": [],
   "source": [
    "unprocessed = Fauci(create_model(num_features), loss=nn.BCELoss(), fairness_regularization=None, regularization_weight=0.0)"
   ]
  },
  {
   "cell_type": "code",
   "execution_count": 118,
   "metadata": {},
   "outputs": [],
   "source": [
    "inprocessing_spd = Fauci(create_model(num_features), loss=nn.BCELoss(), fairness_regularization='spd', regularization_weight=0.3)"
   ]
  },
  {
   "cell_type": "code",
   "execution_count": 119,
   "metadata": {},
   "outputs": [],
   "source": [
    "inprocessing_di = Fauci(create_model(num_features), loss=nn.BCELoss(), fairness_regularization='di', regularization_weight=0.3)"
   ]
  },
  {
   "cell_type": "code",
   "execution_count": 120,
   "metadata": {},
   "outputs": [],
   "source": [
    "EPOCHS = 25\n",
    "BATCH_SIZE = 120"
   ]
  },
  {
   "cell_type": "code",
   "execution_count": 121,
   "metadata": {},
   "outputs": [
    {
     "name": "stdout",
     "output_type": "stream",
     "text": [
      "Epoch [1/25], Loss: 0.4529\n",
      "Epoch [2/25], Loss: 0.3849\n",
      "Epoch [3/25], Loss: 0.3617\n",
      "Epoch [4/25], Loss: 0.3498\n",
      "Epoch [5/25], Loss: 0.3429\n",
      "Epoch [6/25], Loss: 0.3392\n",
      "Epoch [7/25], Loss: 0.3397\n",
      "Epoch [8/25], Loss: 0.3365\n",
      "Epoch [9/25], Loss: 0.3345\n",
      "Epoch [10/25], Loss: 0.3378\n",
      "Epoch [11/25], Loss: 0.3332\n",
      "Epoch [12/25], Loss: 0.3323\n",
      "Epoch [13/25], Loss: 0.3330\n",
      "Epoch [14/25], Loss: 0.3291\n",
      "Epoch [15/25], Loss: 0.3285\n",
      "Epoch [16/25], Loss: 0.3269\n",
      "Epoch [17/25], Loss: 0.3269\n",
      "Epoch [18/25], Loss: 0.3262\n",
      "Epoch [19/25], Loss: 0.3257\n",
      "Epoch [20/25], Loss: 0.3237\n",
      "Epoch [21/25], Loss: 0.3236\n",
      "Epoch [22/25], Loss: 0.3226\n",
      "Epoch [23/25], Loss: 0.3220\n",
      "Epoch [24/25], Loss: 0.3212\n",
      "Epoch [25/25], Loss: 0.3223\n"
     ]
    },
    {
     "data": {
      "text/plain": [
       "<fairlib.inprocessing.fauci.Fauci at 0x174a6e180>"
      ]
     },
     "execution_count": 121,
     "metadata": {},
     "output_type": "execute_result"
    }
   ],
   "source": [
    "unprocessed.fit(fauci_train_dataset, epochs=EPOCHS, batch_size=BATCH_SIZE)"
   ]
  },
  {
   "cell_type": "code",
   "execution_count": 122,
   "metadata": {},
   "outputs": [
    {
     "name": "stdout",
     "output_type": "stream",
     "text": [
      "Epoch [1/25], Loss: 0.3329\n",
      "Epoch [2/25], Loss: 0.2764\n",
      "Epoch [3/25], Loss: 0.2686\n",
      "Epoch [4/25], Loss: 0.2576\n",
      "Epoch [5/25], Loss: 0.2449\n",
      "Epoch [6/25], Loss: 0.2398\n",
      "Epoch [7/25], Loss: 0.2394\n",
      "Epoch [8/25], Loss: 0.2365\n",
      "Epoch [9/25], Loss: 0.2353\n",
      "Epoch [10/25], Loss: 0.2356\n",
      "Epoch [11/25], Loss: 0.2343\n",
      "Epoch [12/25], Loss: 0.2331\n",
      "Epoch [13/25], Loss: 0.2320\n",
      "Epoch [14/25], Loss: 0.2309\n",
      "Epoch [15/25], Loss: 0.2307\n",
      "Epoch [16/25], Loss: 0.2310\n",
      "Epoch [17/25], Loss: 0.2287\n",
      "Epoch [18/25], Loss: 0.2288\n",
      "Epoch [19/25], Loss: 0.2282\n",
      "Epoch [20/25], Loss: 0.2274\n",
      "Epoch [21/25], Loss: 0.2268\n",
      "Epoch [22/25], Loss: 0.2265\n",
      "Epoch [23/25], Loss: 0.2279\n",
      "Epoch [24/25], Loss: 0.2257\n",
      "Epoch [25/25], Loss: 0.2250\n"
     ]
    },
    {
     "data": {
      "text/plain": [
       "<fairlib.inprocessing.fauci.Fauci at 0x174acdc40>"
      ]
     },
     "execution_count": 122,
     "metadata": {},
     "output_type": "execute_result"
    }
   ],
   "source": [
    "inprocessing_spd.fit(fauci_train_dataset, epochs=EPOCHS, batch_size=BATCH_SIZE)"
   ]
  },
  {
   "cell_type": "code",
   "execution_count": 123,
   "metadata": {},
   "outputs": [
    {
     "name": "stdout",
     "output_type": "stream",
     "text": [
      "Epoch [1/25], Loss: 0.6281\n",
      "Epoch [2/25], Loss: 0.5765\n",
      "Epoch [3/25], Loss: 0.5665\n",
      "Epoch [4/25], Loss: 0.5553\n",
      "Epoch [5/25], Loss: 0.5456\n",
      "Epoch [6/25], Loss: 0.5403\n",
      "Epoch [7/25], Loss: 0.5372\n",
      "Epoch [8/25], Loss: 0.5378\n",
      "Epoch [9/25], Loss: 0.5350\n",
      "Epoch [10/25], Loss: 0.5340\n",
      "Epoch [11/25], Loss: 0.5311\n",
      "Epoch [12/25], Loss: 0.5317\n",
      "Epoch [13/25], Loss: 0.5308\n",
      "Epoch [14/25], Loss: 0.5294\n",
      "Epoch [15/25], Loss: 0.5297\n",
      "Epoch [16/25], Loss: 0.5289\n",
      "Epoch [17/25], Loss: 0.5281\n",
      "Epoch [18/25], Loss: 0.5283\n",
      "Epoch [19/25], Loss: 0.5287\n",
      "Epoch [20/25], Loss: 0.5264\n",
      "Epoch [21/25], Loss: 0.5263\n",
      "Epoch [22/25], Loss: 0.5260\n",
      "Epoch [23/25], Loss: 0.5254\n",
      "Epoch [24/25], Loss: 0.5247\n",
      "Epoch [25/25], Loss: 0.5245\n"
     ]
    },
    {
     "data": {
      "text/plain": [
       "<fairlib.inprocessing.fauci.Fauci at 0x174accb90>"
      ]
     },
     "execution_count": 123,
     "metadata": {},
     "output_type": "execute_result"
    }
   ],
   "source": [
    "inprocessing_di.fit(fauci_train_dataset, epochs=EPOCHS, batch_size=BATCH_SIZE)"
   ]
  },
  {
   "cell_type": "code",
   "execution_count": 124,
   "metadata": {
    "scrolled": true
   },
   "outputs": [],
   "source": [
    "X_test_tensor = torch.tensor(X_test.to_numpy().astype(float)).float()\n",
    "\n",
    "y_pred_unprocessed = unprocessed.predict(X_test_tensor).detach().numpy()\n",
    "y_pred_spd = inprocessing_spd.predict(X_test_tensor).detach().numpy()\n",
    "y_pred_di = inprocessing_di.predict(X_test_tensor).detach().numpy()"
   ]
  },
  {
   "cell_type": "code",
   "execution_count": 125,
   "metadata": {},
   "outputs": [],
   "source": [
    "y_pred_unprocessed = (y_pred_unprocessed > 0.5).astype(int)\n",
    "y_pred_spd = (y_pred_spd > 0.5).astype(int)\n",
    "y_pred_di = (y_pred_di > 0.5).astype(int)"
   ]
  },
  {
   "cell_type": "code",
   "execution_count": 130,
   "metadata": {},
   "outputs": [],
   "source": [
    "def evaluate_model(X_test, y_test, y_pred, targets='income', sensitive='sex'):\n",
    "    print(\"Accuracy: \", accuracy_score(y_test, y_pred), \"\\n\")\n",
    "    X = X_test.copy()\n",
    "    X[targets] = y_pred\n",
    "    dataset = fl.DataFrame(X)\n",
    "    dataset.targets = targets\n",
    "    dataset.sensitive = sensitive\n",
    "    print(\"SPD: \", dataset.statistical_parity_difference(), \"\\n\")\n",
    "    print(\"DI: \", dataset.disparate_impact(), \"\\n\")"
   ]
  },
  {
   "cell_type": "code",
   "execution_count": 131,
   "metadata": {},
   "outputs": [
    {
     "name": "stdout",
     "output_type": "stream",
     "text": [
      "Accuracy:  0.8473237788827143 \n",
      "\n",
      "SPD:  {(income=0, sex=0): 0.1273392199712875, (income=0, sex=1): -0.1273392199712875, (income=1, sex=0): -0.12733921997128747, (income=1, sex=1): 0.12733921997128747} \n",
      "\n",
      "DI:  {(income=0, sex=0): 0.863310360394182, (income=0, sex=1): 1.158331981031024, (income=1, sex=0): 2.8615156074153156, (income=1, sex=1): 0.34946515664936634} \n",
      "\n"
     ]
    }
   ],
   "source": [
    "evaluate_model(X_test, y_test, y_pred_unprocessed)"
   ]
  },
  {
   "cell_type": "code",
   "execution_count": 132,
   "metadata": {},
   "outputs": [
    {
     "name": "stdout",
     "output_type": "stream",
     "text": [
      "Accuracy:  0.8506580871599883 \n",
      "\n",
      "SPD:  {(income=0, sex=0): 0.14901444417129373, (income=0, sex=1): -0.14901444417129373, (income=1, sex=0): -0.14901444417129373, (income=1, sex=1): 0.14901444417129373} \n",
      "\n",
      "DI:  {(income=0, sex=0): 0.8391608130657321, (income=0, sex=1): 1.191666703723532, (income=1, sex=0): 3.02688231975918, (income=1, sex=1): 0.330372936361649} \n",
      "\n"
     ]
    }
   ],
   "source": [
    "evaluate_model(X_test, y_test, y_pred_spd)"
   ]
  },
  {
   "cell_type": "code",
   "execution_count": 133,
   "metadata": {},
   "outputs": [
    {
     "name": "stdout",
     "output_type": "stream",
     "text": [
      "Accuracy:  0.8491956712489032 \n",
      "\n",
      "SPD:  {(income=0, sex=0): 0.13853052948996702, (income=0, sex=1): -0.13853052948996702, (income=1, sex=0): -0.13853052948996697, (income=1, sex=1): 0.13853052948996697} \n",
      "\n",
      "DI:  {(income=0, sex=0): 0.8446222734294853, (income=0, sex=1): 1.1839611995307944, (income=1, sex=0): 2.2776344118164107, (income=1, sex=1): 0.4390520246849015} \n",
      "\n"
     ]
    }
   ],
   "source": [
    "evaluate_model(X_test, y_test, y_pred_di)"
   ]
  },
  {
   "cell_type": "code",
   "execution_count": null,
   "metadata": {},
   "outputs": [],
   "source": []
  },
  {
   "cell_type": "code",
   "execution_count": null,
   "metadata": {},
   "outputs": [],
   "source": []
  }
 ],
 "metadata": {
  "colab": {
   "provenance": []
  },
  "kernelspec": {
   "display_name": "Python 3 (ipykernel)",
   "language": "python",
   "name": "python3"
  },
  "language_info": {
   "codemirror_mode": {
    "name": "ipython",
    "version": 3
   },
   "file_extension": ".py",
   "mimetype": "text/x-python",
   "name": "python",
   "nbconvert_exporter": "python",
   "pygments_lexer": "ipython3",
   "version": "3.12.8"
  }
 },
 "nbformat": 4,
 "nbformat_minor": 4
}
