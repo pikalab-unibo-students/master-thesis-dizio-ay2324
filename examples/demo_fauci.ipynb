{
 "cells": [
  {
   "cell_type": "code",
   "execution_count": 18,
   "metadata": {},
   "outputs": [],
   "source": [
    "import openml, fairlib\n",
    "import fairlib as fl\n",
    "from fairlib.inprocessing import Fauci\n",
    "from sklearn.metrics import accuracy_score\n",
    "from sklearn.model_selection import train_test_split\n",
    "from sklearn.preprocessing import LabelEncoder, StandardScaler\n",
    "from sklearn.impute import SimpleImputer\n",
    "from sklearn.preprocessing import KBinsDiscretizer\n",
    "from keras.models import Sequential\n",
    "from keras.layers import Dense\n",
    "\n",
    "from fairlib import keras\n",
    "keras.utils.set_random_seed(423)\n"
   ]
  },
  {
   "cell_type": "code",
   "execution_count": 19,
   "metadata": {},
   "outputs": [
    {
     "name": "stderr",
     "output_type": "stream",
     "text": [
      "INFO:openml.datasets.dataset:pickle write adult\n"
     ]
    }
   ],
   "source": [
    "dataset = openml.datasets.get_dataset(179)\n",
    "X, y, _, names = dataset.get_data(target=dataset.default_target_attribute)"
   ]
  },
  {
   "cell_type": "code",
   "execution_count": 20,
   "metadata": {},
   "outputs": [],
   "source": [
    "imputer = SimpleImputer(strategy='most_frequent')\n",
    "X_imputed = imputer.fit_transform(X)"
   ]
  },
  {
   "cell_type": "code",
   "execution_count": 21,
   "metadata": {},
   "outputs": [],
   "source": [
    "X_discretized = X_imputed.copy()\n",
    "for col in X.columns:\n",
    "    if X[col].dtype == 'category':\n",
    "        le = LabelEncoder()\n",
    "        X_discretized[:, X.columns.get_loc(col)] = le.fit_transform(X_discretized[:, X.columns.get_loc(col)])\n"
   ]
  },
  {
   "cell_type": "code",
   "execution_count": 22,
   "metadata": {
    "scrolled": true
   },
   "outputs": [],
   "source": [
    "X = fairlib.DataFrame(X_discretized, columns=names)\n",
    "y = y.apply(lambda x: x == \">50K\").astype(int)"
   ]
  },
  {
   "cell_type": "code",
   "execution_count": 23,
   "metadata": {},
   "outputs": [],
   "source": [
    "X_train, X_test, y_train, y_test = train_test_split(X, y, test_size=0.35, random_state=41)"
   ]
  },
  {
   "cell_type": "code",
   "execution_count": 24,
   "metadata": {},
   "outputs": [],
   "source": [
    "X_train['income'] = y_train"
   ]
  },
  {
   "cell_type": "code",
   "execution_count": 25,
   "metadata": {
    "scrolled": true
   },
   "outputs": [
    {
     "data": {
      "text/html": [
       "<div>\n",
       "<style scoped>\n",
       "    .dataframe tbody tr th:only-of-type {\n",
       "        vertical-align: middle;\n",
       "    }\n",
       "\n",
       "    .dataframe tbody tr th {\n",
       "        vertical-align: top;\n",
       "    }\n",
       "\n",
       "    .dataframe thead th {\n",
       "        text-align: right;\n",
       "    }\n",
       "</style>\n",
       "<table border=\"1\" class=\"dataframe\">\n",
       "  <thead>\n",
       "    <tr style=\"text-align: right;\">\n",
       "      <th></th>\n",
       "      <th>age</th>\n",
       "      <th>workclass</th>\n",
       "      <th>fnlwgt</th>\n",
       "      <th>education</th>\n",
       "      <th>education-num</th>\n",
       "      <th>marital-status</th>\n",
       "      <th>occupation</th>\n",
       "      <th>relationship</th>\n",
       "      <th>race</th>\n",
       "      <th>sex</th>\n",
       "      <th>capitalgain</th>\n",
       "      <th>capitalloss</th>\n",
       "      <th>hoursperweek</th>\n",
       "      <th>native-country</th>\n",
       "      <th>income</th>\n",
       "    </tr>\n",
       "  </thead>\n",
       "  <tbody>\n",
       "    <tr>\n",
       "      <th>7567</th>\n",
       "      <td>0</td>\n",
       "      <td>3</td>\n",
       "      <td>141698.0</td>\n",
       "      <td>0</td>\n",
       "      <td>6</td>\n",
       "      <td>4</td>\n",
       "      <td>2</td>\n",
       "      <td>4</td>\n",
       "      <td>4</td>\n",
       "      <td>1</td>\n",
       "      <td>0</td>\n",
       "      <td>0</td>\n",
       "      <td>2</td>\n",
       "      <td>38</td>\n",
       "      <td>0</td>\n",
       "    </tr>\n",
       "    <tr>\n",
       "      <th>3749</th>\n",
       "      <td>4</td>\n",
       "      <td>3</td>\n",
       "      <td>318450.0</td>\n",
       "      <td>12</td>\n",
       "      <td>14</td>\n",
       "      <td>2</td>\n",
       "      <td>0</td>\n",
       "      <td>0</td>\n",
       "      <td>4</td>\n",
       "      <td>1</td>\n",
       "      <td>0</td>\n",
       "      <td>0</td>\n",
       "      <td>4</td>\n",
       "      <td>38</td>\n",
       "      <td>1</td>\n",
       "    </tr>\n",
       "    <tr>\n",
       "      <th>7496</th>\n",
       "      <td>0</td>\n",
       "      <td>3</td>\n",
       "      <td>227626.0</td>\n",
       "      <td>11</td>\n",
       "      <td>9</td>\n",
       "      <td>0</td>\n",
       "      <td>13</td>\n",
       "      <td>1</td>\n",
       "      <td>4</td>\n",
       "      <td>1</td>\n",
       "      <td>0</td>\n",
       "      <td>0</td>\n",
       "      <td>2</td>\n",
       "      <td>38</td>\n",
       "      <td>0</td>\n",
       "    </tr>\n",
       "    <tr>\n",
       "      <th>36662</th>\n",
       "      <td>0</td>\n",
       "      <td>3</td>\n",
       "      <td>91733.0</td>\n",
       "      <td>15</td>\n",
       "      <td>10</td>\n",
       "      <td>4</td>\n",
       "      <td>7</td>\n",
       "      <td>3</td>\n",
       "      <td>4</td>\n",
       "      <td>0</td>\n",
       "      <td>0</td>\n",
       "      <td>0</td>\n",
       "      <td>1</td>\n",
       "      <td>38</td>\n",
       "      <td>0</td>\n",
       "    </tr>\n",
       "    <tr>\n",
       "      <th>7701</th>\n",
       "      <td>4</td>\n",
       "      <td>3</td>\n",
       "      <td>245193.0</td>\n",
       "      <td>12</td>\n",
       "      <td>14</td>\n",
       "      <td>2</td>\n",
       "      <td>3</td>\n",
       "      <td>0</td>\n",
       "      <td>4</td>\n",
       "      <td>1</td>\n",
       "      <td>0</td>\n",
       "      <td>0</td>\n",
       "      <td>3</td>\n",
       "      <td>38</td>\n",
       "      <td>1</td>\n",
       "    </tr>\n",
       "    <tr>\n",
       "      <th>...</th>\n",
       "      <td>...</td>\n",
       "      <td>...</td>\n",
       "      <td>...</td>\n",
       "      <td>...</td>\n",
       "      <td>...</td>\n",
       "      <td>...</td>\n",
       "      <td>...</td>\n",
       "      <td>...</td>\n",
       "      <td>...</td>\n",
       "      <td>...</td>\n",
       "      <td>...</td>\n",
       "      <td>...</td>\n",
       "      <td>...</td>\n",
       "      <td>...</td>\n",
       "      <td>...</td>\n",
       "    </tr>\n",
       "    <tr>\n",
       "      <th>48597</th>\n",
       "      <td>2</td>\n",
       "      <td>3</td>\n",
       "      <td>36423.0</td>\n",
       "      <td>15</td>\n",
       "      <td>10</td>\n",
       "      <td>2</td>\n",
       "      <td>0</td>\n",
       "      <td>0</td>\n",
       "      <td>4</td>\n",
       "      <td>1</td>\n",
       "      <td>0</td>\n",
       "      <td>0</td>\n",
       "      <td>3</td>\n",
       "      <td>38</td>\n",
       "      <td>0</td>\n",
       "    </tr>\n",
       "    <tr>\n",
       "      <th>41281</th>\n",
       "      <td>2</td>\n",
       "      <td>5</td>\n",
       "      <td>186934.0</td>\n",
       "      <td>15</td>\n",
       "      <td>10</td>\n",
       "      <td>2</td>\n",
       "      <td>11</td>\n",
       "      <td>0</td>\n",
       "      <td>4</td>\n",
       "      <td>1</td>\n",
       "      <td>0</td>\n",
       "      <td>0</td>\n",
       "      <td>3</td>\n",
       "      <td>38</td>\n",
       "      <td>0</td>\n",
       "    </tr>\n",
       "    <tr>\n",
       "      <th>20450</th>\n",
       "      <td>2</td>\n",
       "      <td>5</td>\n",
       "      <td>217826.0</td>\n",
       "      <td>11</td>\n",
       "      <td>9</td>\n",
       "      <td>2</td>\n",
       "      <td>2</td>\n",
       "      <td>0</td>\n",
       "      <td>2</td>\n",
       "      <td>1</td>\n",
       "      <td>0</td>\n",
       "      <td>0</td>\n",
       "      <td>1</td>\n",
       "      <td>22</td>\n",
       "      <td>0</td>\n",
       "    </tr>\n",
       "    <tr>\n",
       "      <th>931</th>\n",
       "      <td>0</td>\n",
       "      <td>3</td>\n",
       "      <td>52114.0</td>\n",
       "      <td>15</td>\n",
       "      <td>10</td>\n",
       "      <td>4</td>\n",
       "      <td>9</td>\n",
       "      <td>3</td>\n",
       "      <td>4</td>\n",
       "      <td>0</td>\n",
       "      <td>0</td>\n",
       "      <td>0</td>\n",
       "      <td>0</td>\n",
       "      <td>38</td>\n",
       "      <td>0</td>\n",
       "    </tr>\n",
       "    <tr>\n",
       "      <th>34752</th>\n",
       "      <td>0</td>\n",
       "      <td>1</td>\n",
       "      <td>176998.0</td>\n",
       "      <td>11</td>\n",
       "      <td>9</td>\n",
       "      <td>4</td>\n",
       "      <td>9</td>\n",
       "      <td>1</td>\n",
       "      <td>4</td>\n",
       "      <td>1</td>\n",
       "      <td>0</td>\n",
       "      <td>0</td>\n",
       "      <td>2</td>\n",
       "      <td>38</td>\n",
       "      <td>0</td>\n",
       "    </tr>\n",
       "  </tbody>\n",
       "</table>\n",
       "<p>31747 rows × 15 columns</p>\n",
       "</div>"
      ],
      "text/plain": [
       "      age workclass    fnlwgt education education-num marital-status  \\\n",
       "7567    0         3  141698.0         0             6              4   \n",
       "3749    4         3  318450.0        12            14              2   \n",
       "7496    0         3  227626.0        11             9              0   \n",
       "36662   0         3   91733.0        15            10              4   \n",
       "7701    4         3  245193.0        12            14              2   \n",
       "...    ..       ...       ...       ...           ...            ...   \n",
       "48597   2         3   36423.0        15            10              2   \n",
       "41281   2         5  186934.0        15            10              2   \n",
       "20450   2         5  217826.0        11             9              2   \n",
       "931     0         3   52114.0        15            10              4   \n",
       "34752   0         1  176998.0        11             9              4   \n",
       "\n",
       "      occupation relationship race sex capitalgain capitalloss hoursperweek  \\\n",
       "7567           2            4    4   1           0           0            2   \n",
       "3749           0            0    4   1           0           0            4   \n",
       "7496          13            1    4   1           0           0            2   \n",
       "36662          7            3    4   0           0           0            1   \n",
       "7701           3            0    4   1           0           0            3   \n",
       "...          ...          ...  ...  ..         ...         ...          ...   \n",
       "48597          0            0    4   1           0           0            3   \n",
       "41281         11            0    4   1           0           0            3   \n",
       "20450          2            0    2   1           0           0            1   \n",
       "931            9            3    4   0           0           0            0   \n",
       "34752          9            1    4   1           0           0            2   \n",
       "\n",
       "      native-country  income  \n",
       "7567              38       0  \n",
       "3749              38       1  \n",
       "7496              38       0  \n",
       "36662             38       0  \n",
       "7701              38       1  \n",
       "...              ...     ...  \n",
       "48597             38       0  \n",
       "41281             38       0  \n",
       "20450             22       0  \n",
       "931               38       0  \n",
       "34752             38       0  \n",
       "\n",
       "[31747 rows x 15 columns]"
      ]
     },
     "execution_count": 25,
     "metadata": {},
     "output_type": "execute_result"
    }
   ],
   "source": [
    "X_train"
   ]
  },
  {
   "cell_type": "code",
   "execution_count": 26,
   "metadata": {},
   "outputs": [],
   "source": [
    "fauci_train_dataset = fl.DataFrame(X_train)\n",
    "X_train.drop(columns=[\"income\"], inplace=True)"
   ]
  },
  {
   "cell_type": "code",
   "execution_count": 27,
   "metadata": {},
   "outputs": [],
   "source": [
    "fauci_train_dataset.targets = \"income\"\n",
    "fauci_train_dataset.sensitive = 'sex' # fauci currently supports only one sensitive attribute"
   ]
  },
  {
   "cell_type": "code",
   "execution_count": 28,
   "metadata": {},
   "outputs": [],
   "source": [
    "def create_model():\n",
    "    model = Sequential()\n",
    "    model.add(Dense(32, activation='relu'))\n",
    "    model.add(Dense(12, activation='relu'))\n",
    "    model.add(Dense(6, activation='relu'))\n",
    "    model.add(Dense(1, activation='sigmoid'))\n",
    "    return model"
   ]
  },
  {
   "cell_type": "code",
   "execution_count": 29,
   "metadata": {},
   "outputs": [],
   "source": [
    "unwrapped = create_model()\n",
    "unwrapped.compile(loss='binary_crossentropy', optimizer='adam', metrics=['accuracy'])"
   ]
  },
  {
   "cell_type": "code",
   "execution_count": 30,
   "metadata": {},
   "outputs": [],
   "source": [
    "unprocessed = Fauci(create_model(), loss='binary_crossentropy', regularizer=None, optimizer='adam', metrics=['accuracy'], regularization_weight=0.0)"
   ]
  },
  {
   "cell_type": "code",
   "execution_count": 31,
   "metadata": {},
   "outputs": [],
   "source": [
    "inprocessing_spd = Fauci(create_model(), loss='binary_crossentropy', regularizer='sp', optimizer='adam', metrics=['accuracy'])"
   ]
  },
  {
   "cell_type": "code",
   "execution_count": 32,
   "metadata": {},
   "outputs": [],
   "source": [
    "inprocessing_di = Fauci(create_model(), loss='binary_crossentropy', regularizer='di', optimizer='adam', metrics=['accuracy'])"
   ]
  },
  {
   "cell_type": "code",
   "execution_count": 33,
   "metadata": {},
   "outputs": [],
   "source": [
    "EPOCHS = 20\n",
    "BATCH_SIZE = 20\n",
    "VALIDATION_SPLIT=0.3"
   ]
  },
  {
   "cell_type": "code",
   "execution_count": 34,
   "metadata": {},
   "outputs": [
    {
     "name": "stdout",
     "output_type": "stream",
     "text": [
      "Epoch 1/20\n",
      "\u001b[1m1112/1112\u001b[0m \u001b[32m━━━━━━━━━━━━━━━━━━━━\u001b[0m\u001b[37m\u001b[0m \u001b[1m1s\u001b[0m 592us/step - accuracy: 0.6279 - loss: 610.7573 - val_accuracy: 0.7633 - val_loss: 11.4900\n",
      "Epoch 2/20\n",
      "\u001b[1m1112/1112\u001b[0m \u001b[32m━━━━━━━━━━━━━━━━━━━━\u001b[0m\u001b[37m\u001b[0m \u001b[1m1s\u001b[0m 505us/step - accuracy: 0.6421 - loss: 81.6073 - val_accuracy: 0.7624 - val_loss: 62.4201\n",
      "Epoch 3/20\n",
      "\u001b[1m1112/1112\u001b[0m \u001b[32m━━━━━━━━━━━━━━━━━━━━\u001b[0m\u001b[37m\u001b[0m \u001b[1m1s\u001b[0m 465us/step - accuracy: 0.6357 - loss: 57.6417 - val_accuracy: 0.2376 - val_loss: 27.3015\n",
      "Epoch 4/20\n",
      "\u001b[1m1112/1112\u001b[0m \u001b[32m━━━━━━━━━━━━━━━━━━━━\u001b[0m\u001b[37m\u001b[0m \u001b[1m1s\u001b[0m 466us/step - accuracy: 0.6328 - loss: 54.4031 - val_accuracy: 0.2377 - val_loss: 19.5554\n",
      "Epoch 5/20\n",
      "\u001b[1m1112/1112\u001b[0m \u001b[32m━━━━━━━━━━━━━━━━━━━━\u001b[0m\u001b[37m\u001b[0m \u001b[1m1s\u001b[0m 468us/step - accuracy: 0.6369 - loss: 54.5804 - val_accuracy: 0.2376 - val_loss: 78.9801\n",
      "Epoch 6/20\n",
      "\u001b[1m1112/1112\u001b[0m \u001b[32m━━━━━━━━━━━━━━━━━━━━\u001b[0m\u001b[37m\u001b[0m \u001b[1m1s\u001b[0m 467us/step - accuracy: 0.6437 - loss: 38.4397 - val_accuracy: 0.7631 - val_loss: 28.7646\n",
      "Epoch 7/20\n",
      "\u001b[1m1112/1112\u001b[0m \u001b[32m━━━━━━━━━━━━━━━━━━━━\u001b[0m\u001b[37m\u001b[0m \u001b[1m1s\u001b[0m 463us/step - accuracy: 0.6403 - loss: 31.8384 - val_accuracy: 0.7645 - val_loss: 19.5901\n",
      "Epoch 8/20\n",
      "\u001b[1m1112/1112\u001b[0m \u001b[32m━━━━━━━━━━━━━━━━━━━━\u001b[0m\u001b[37m\u001b[0m \u001b[1m1s\u001b[0m 463us/step - accuracy: 0.6458 - loss: 31.5035 - val_accuracy: 0.2387 - val_loss: 25.9286\n",
      "Epoch 9/20\n",
      "\u001b[1m1112/1112\u001b[0m \u001b[32m━━━━━━━━━━━━━━━━━━━━\u001b[0m\u001b[37m\u001b[0m \u001b[1m1s\u001b[0m 475us/step - accuracy: 0.6402 - loss: 25.6765 - val_accuracy: 0.7630 - val_loss: 28.8052\n",
      "Epoch 10/20\n",
      "\u001b[1m1112/1112\u001b[0m \u001b[32m━━━━━━━━━━━━━━━━━━━━\u001b[0m\u001b[37m\u001b[0m \u001b[1m1s\u001b[0m 492us/step - accuracy: 0.6443 - loss: 23.4149 - val_accuracy: 0.2377 - val_loss: 19.0923\n",
      "Epoch 11/20\n",
      "\u001b[1m1112/1112\u001b[0m \u001b[32m━━━━━━━━━━━━━━━━━━━━\u001b[0m\u001b[37m\u001b[0m \u001b[1m1s\u001b[0m 511us/step - accuracy: 0.6461 - loss: 11.6166 - val_accuracy: 0.7731 - val_loss: 0.6001\n",
      "Epoch 12/20\n",
      "\u001b[1m1112/1112\u001b[0m \u001b[32m━━━━━━━━━━━━━━━━━━━━\u001b[0m\u001b[37m\u001b[0m \u001b[1m1s\u001b[0m 479us/step - accuracy: 0.6598 - loss: 9.3576 - val_accuracy: 0.7625 - val_loss: 17.2696\n",
      "Epoch 13/20\n",
      "\u001b[1m1112/1112\u001b[0m \u001b[32m━━━━━━━━━━━━━━━━━━━━\u001b[0m\u001b[37m\u001b[0m \u001b[1m1s\u001b[0m 490us/step - accuracy: 0.6530 - loss: 10.6971 - val_accuracy: 0.3549 - val_loss: 1.9788\n",
      "Epoch 14/20\n",
      "\u001b[1m1112/1112\u001b[0m \u001b[32m━━━━━━━━━━━━━━━━━━━━\u001b[0m\u001b[37m\u001b[0m \u001b[1m1s\u001b[0m 490us/step - accuracy: 0.6540 - loss: 7.8165 - val_accuracy: 0.2511 - val_loss: 6.0662\n",
      "Epoch 15/20\n",
      "\u001b[1m1112/1112\u001b[0m \u001b[32m━━━━━━━━━━━━━━━━━━━━\u001b[0m\u001b[37m\u001b[0m \u001b[1m1s\u001b[0m 487us/step - accuracy: 0.6612 - loss: 5.8843 - val_accuracy: 0.7641 - val_loss: 8.5371\n",
      "Epoch 16/20\n",
      "\u001b[1m1112/1112\u001b[0m \u001b[32m━━━━━━━━━━━━━━━━━━━━\u001b[0m\u001b[37m\u001b[0m \u001b[1m1s\u001b[0m 531us/step - accuracy: 0.6556 - loss: 6.8476 - val_accuracy: 0.7877 - val_loss: 0.4874\n",
      "Epoch 17/20\n",
      "\u001b[1m1112/1112\u001b[0m \u001b[32m━━━━━━━━━━━━━━━━━━━━\u001b[0m\u001b[37m\u001b[0m \u001b[1m1s\u001b[0m 494us/step - accuracy: 0.6632 - loss: 7.0671 - val_accuracy: 0.6548 - val_loss: 0.6404\n",
      "Epoch 18/20\n",
      "\u001b[1m1112/1112\u001b[0m \u001b[32m━━━━━━━━━━━━━━━━━━━━\u001b[0m\u001b[37m\u001b[0m \u001b[1m1s\u001b[0m 500us/step - accuracy: 0.6712 - loss: 3.5046 - val_accuracy: 0.7636 - val_loss: 7.7163\n",
      "Epoch 19/20\n",
      "\u001b[1m1112/1112\u001b[0m \u001b[32m━━━━━━━━━━━━━━━━━━━━\u001b[0m\u001b[37m\u001b[0m \u001b[1m1s\u001b[0m 650us/step - accuracy: 0.6660 - loss: 3.6617 - val_accuracy: 0.4076 - val_loss: 1.3154\n",
      "Epoch 20/20\n",
      "\u001b[1m1112/1112\u001b[0m \u001b[32m━━━━━━━━━━━━━━━━━━━━\u001b[0m\u001b[37m\u001b[0m \u001b[1m1s\u001b[0m 502us/step - accuracy: 0.6775 - loss: 2.6128 - val_accuracy: 0.7765 - val_loss: 1.0306\n"
     ]
    },
    {
     "data": {
      "text/plain": [
       "<keras.src.callbacks.history.History at 0x1664e8860>"
      ]
     },
     "execution_count": 34,
     "metadata": {},
     "output_type": "execute_result"
    }
   ],
   "source": [
    "unwrapped.fit(X_train.astype(float), y_train.astype(float), epochs=EPOCHS, batch_size=BATCH_SIZE, validation_split=VALIDATION_SPLIT)"
   ]
  },
  {
   "cell_type": "code",
   "execution_count": 35,
   "metadata": {},
   "outputs": [
    {
     "name": "stdout",
     "output_type": "stream",
     "text": [
      "Epoch 1/20\n",
      "\u001b[1m1112/1112\u001b[0m \u001b[32m━━━━━━━━━━━━━━━━━━━━\u001b[0m\u001b[37m\u001b[0m \u001b[1m1s\u001b[0m 514us/step - accuracy: 0.6371 - loss: 169.4187 - val_accuracy: 0.2384 - val_loss: 15.6597\n",
      "Epoch 2/20\n",
      "\u001b[1m1112/1112\u001b[0m \u001b[32m━━━━━━━━━━━━━━━━━━━━\u001b[0m\u001b[37m\u001b[0m \u001b[1m1s\u001b[0m 461us/step - accuracy: 0.6386 - loss: 49.8933 - val_accuracy: 0.2377 - val_loss: 17.1107\n",
      "Epoch 3/20\n",
      "\u001b[1m1112/1112\u001b[0m \u001b[32m━━━━━━━━━━━━━━━━━━━━\u001b[0m\u001b[37m\u001b[0m \u001b[1m1s\u001b[0m 461us/step - accuracy: 0.6374 - loss: 39.7904 - val_accuracy: 0.2377 - val_loss: 17.4198\n",
      "Epoch 4/20\n",
      "\u001b[1m1112/1112\u001b[0m \u001b[32m━━━━━━━━━━━━━━━━━━━━\u001b[0m\u001b[37m\u001b[0m \u001b[1m1s\u001b[0m 474us/step - accuracy: 0.6359 - loss: 26.7904 - val_accuracy: 0.7624 - val_loss: 30.9669\n",
      "Epoch 5/20\n",
      "\u001b[1m1112/1112\u001b[0m \u001b[32m━━━━━━━━━━━━━━━━━━━━\u001b[0m\u001b[37m\u001b[0m \u001b[1m1s\u001b[0m 510us/step - accuracy: 0.6433 - loss: 27.5988 - val_accuracy: 0.7624 - val_loss: 33.3125\n",
      "Epoch 6/20\n",
      "\u001b[1m1112/1112\u001b[0m \u001b[32m━━━━━━━━━━━━━━━━━━━━\u001b[0m\u001b[37m\u001b[0m \u001b[1m1s\u001b[0m 487us/step - accuracy: 0.6430 - loss: 23.7227 - val_accuracy: 0.7666 - val_loss: 5.1795\n",
      "Epoch 7/20\n",
      "\u001b[1m1112/1112\u001b[0m \u001b[32m━━━━━━━━━━━━━━━━━━━━\u001b[0m\u001b[37m\u001b[0m \u001b[1m1s\u001b[0m 481us/step - accuracy: 0.6439 - loss: 14.4078 - val_accuracy: 0.7630 - val_loss: 14.3792\n",
      "Epoch 8/20\n",
      "\u001b[1m1112/1112\u001b[0m \u001b[32m━━━━━━━━━━━━━━━━━━━━\u001b[0m\u001b[37m\u001b[0m \u001b[1m1s\u001b[0m 466us/step - accuracy: 0.6497 - loss: 9.8071 - val_accuracy: 0.7624 - val_loss: 20.1575\n",
      "Epoch 9/20\n",
      "\u001b[1m1112/1112\u001b[0m \u001b[32m━━━━━━━━━━━━━━━━━━━━\u001b[0m\u001b[37m\u001b[0m \u001b[1m1s\u001b[0m 517us/step - accuracy: 0.6528 - loss: 6.6561 - val_accuracy: 0.7655 - val_loss: 3.3398\n",
      "Epoch 10/20\n",
      "\u001b[1m1112/1112\u001b[0m \u001b[32m━━━━━━━━━━━━━━━━━━━━\u001b[0m\u001b[37m\u001b[0m \u001b[1m1s\u001b[0m 489us/step - accuracy: 0.6574 - loss: 3.5027 - val_accuracy: 0.7650 - val_loss: 2.5882\n",
      "Epoch 11/20\n",
      "\u001b[1m1112/1112\u001b[0m \u001b[32m━━━━━━━━━━━━━━━━━━━━\u001b[0m\u001b[37m\u001b[0m \u001b[1m1s\u001b[0m 493us/step - accuracy: 0.6664 - loss: 2.3661 - val_accuracy: 0.7688 - val_loss: 1.1358\n",
      "Epoch 12/20\n",
      "\u001b[1m1112/1112\u001b[0m \u001b[32m━━━━━━━━━━━━━━━━━━━━\u001b[0m\u001b[37m\u001b[0m \u001b[1m1s\u001b[0m 530us/step - accuracy: 0.6591 - loss: 2.1752 - val_accuracy: 0.6253 - val_loss: 0.6309\n",
      "Epoch 13/20\n",
      "\u001b[1m1112/1112\u001b[0m \u001b[32m━━━━━━━━━━━━━━━━━━━━\u001b[0m\u001b[37m\u001b[0m \u001b[1m1s\u001b[0m 489us/step - accuracy: 0.6827 - loss: 1.2191 - val_accuracy: 0.5793 - val_loss: 0.6644\n",
      "Epoch 14/20\n",
      "\u001b[1m1112/1112\u001b[0m \u001b[32m━━━━━━━━━━━━━━━━━━━━\u001b[0m\u001b[37m\u001b[0m \u001b[1m1s\u001b[0m 494us/step - accuracy: 0.7086 - loss: 0.8813 - val_accuracy: 0.7722 - val_loss: 0.5043\n",
      "Epoch 15/20\n",
      "\u001b[1m1112/1112\u001b[0m \u001b[32m━━━━━━━━━━━━━━━━━━━━\u001b[0m\u001b[37m\u001b[0m \u001b[1m1s\u001b[0m 488us/step - accuracy: 0.6995 - loss: 1.2309 - val_accuracy: 0.8049 - val_loss: 0.5883\n",
      "Epoch 16/20\n",
      "\u001b[1m1112/1112\u001b[0m \u001b[32m━━━━━━━━━━━━━━━━━━━━\u001b[0m\u001b[37m\u001b[0m \u001b[1m1s\u001b[0m 476us/step - accuracy: 0.7522 - loss: 0.5760 - val_accuracy: 0.7624 - val_loss: 0.6140\n",
      "Epoch 17/20\n",
      "\u001b[1m1112/1112\u001b[0m \u001b[32m━━━━━━━━━━━━━━━━━━━━\u001b[0m\u001b[37m\u001b[0m \u001b[1m1s\u001b[0m 523us/step - accuracy: 0.7415 - loss: 0.5929 - val_accuracy: 0.7624 - val_loss: 0.5415\n",
      "Epoch 18/20\n",
      "\u001b[1m1112/1112\u001b[0m \u001b[32m━━━━━━━━━━━━━━━━━━━━\u001b[0m\u001b[37m\u001b[0m \u001b[1m1s\u001b[0m 556us/step - accuracy: 0.7565 - loss: 0.5665 - val_accuracy: 0.7624 - val_loss: 0.5489\n",
      "Epoch 19/20\n",
      "\u001b[1m1112/1112\u001b[0m \u001b[32m━━━━━━━━━━━━━━━━━━━━\u001b[0m\u001b[37m\u001b[0m \u001b[1m1s\u001b[0m 509us/step - accuracy: 0.7598 - loss: 0.5530 - val_accuracy: 0.7624 - val_loss: 0.5507\n",
      "Epoch 20/20\n",
      "\u001b[1m1112/1112\u001b[0m \u001b[32m━━━━━━━━━━━━━━━━━━━━\u001b[0m\u001b[37m\u001b[0m \u001b[1m1s\u001b[0m 502us/step - accuracy: 0.7606 - loss: 0.5516 - val_accuracy: 0.7624 - val_loss: 0.5486\n"
     ]
    },
    {
     "data": {
      "text/plain": [
       "<keras.src.callbacks.history.History at 0x166623380>"
      ]
     },
     "execution_count": 35,
     "metadata": {},
     "output_type": "execute_result"
    }
   ],
   "source": [
    "unprocessed.fit(fauci_train_dataset, converting_to_type=float, epochs=EPOCHS, batch_size=BATCH_SIZE, validation_split=VALIDATION_SPLIT)"
   ]
  },
  {
   "cell_type": "code",
   "execution_count": 36,
   "metadata": {},
   "outputs": [
    {
     "name": "stdout",
     "output_type": "stream",
     "text": [
      "Epoch 1/20\n",
      "\u001b[1m1112/1112\u001b[0m \u001b[32m━━━━━━━━━━━━━━━━━━━━\u001b[0m\u001b[37m\u001b[0m \u001b[1m3s\u001b[0m 2ms/step - accuracy: 0.6383 - loss: 43.8218 - val_accuracy: 0.7625 - val_loss: 6.9632\n",
      "Epoch 2/20\n",
      "\u001b[1m1112/1112\u001b[0m \u001b[32m━━━━━━━━━━━━━━━━━━━━\u001b[0m\u001b[37m\u001b[0m \u001b[1m2s\u001b[0m 2ms/step - accuracy: 0.6368 - loss: 30.4221 - val_accuracy: 0.2376 - val_loss: 58.6720\n",
      "Epoch 3/20\n",
      "\u001b[1m1112/1112\u001b[0m \u001b[32m━━━━━━━━━━━━━━━━━━━━\u001b[0m\u001b[37m\u001b[0m \u001b[1m2s\u001b[0m 2ms/step - accuracy: 0.6342 - loss: 25.0636 - val_accuracy: 0.7586 - val_loss: 2.1601\n",
      "Epoch 4/20\n",
      "\u001b[1m1112/1112\u001b[0m \u001b[32m━━━━━━━━━━━━━━━━━━━━\u001b[0m\u001b[37m\u001b[0m \u001b[1m2s\u001b[0m 2ms/step - accuracy: 0.6368 - loss: 18.0474 - val_accuracy: 0.7646 - val_loss: 2.9687\n",
      "Epoch 5/20\n",
      "\u001b[1m1112/1112\u001b[0m \u001b[32m━━━━━━━━━━━━━━━━━━━━\u001b[0m\u001b[37m\u001b[0m \u001b[1m2s\u001b[0m 2ms/step - accuracy: 0.6465 - loss: 16.8739 - val_accuracy: 0.7628 - val_loss: 13.2569\n",
      "Epoch 6/20\n",
      "\u001b[1m1112/1112\u001b[0m \u001b[32m━━━━━━━━━━━━━━━━━━━━\u001b[0m\u001b[37m\u001b[0m \u001b[1m2s\u001b[0m 2ms/step - accuracy: 0.6402 - loss: 14.3061 - val_accuracy: 0.7665 - val_loss: 4.8530\n",
      "Epoch 7/20\n",
      "\u001b[1m1112/1112\u001b[0m \u001b[32m━━━━━━━━━━━━━━━━━━━━\u001b[0m\u001b[37m\u001b[0m \u001b[1m2s\u001b[0m 2ms/step - accuracy: 0.6558 - loss: 9.1621 - val_accuracy: 0.2438 - val_loss: 7.9578\n",
      "Epoch 8/20\n",
      "\u001b[1m1112/1112\u001b[0m \u001b[32m━━━━━━━━━━━━━━━━━━━━\u001b[0m\u001b[37m\u001b[0m \u001b[1m2s\u001b[0m 2ms/step - accuracy: 0.6527 - loss: 8.0845 - val_accuracy: 0.7624 - val_loss: 16.1959\n",
      "Epoch 9/20\n",
      "\u001b[1m1112/1112\u001b[0m \u001b[32m━━━━━━━━━━━━━━━━━━━━\u001b[0m\u001b[37m\u001b[0m \u001b[1m2s\u001b[0m 2ms/step - accuracy: 0.6462 - loss: 7.7260 - val_accuracy: 0.2665 - val_loss: 3.1782\n",
      "Epoch 10/20\n",
      "\u001b[1m1112/1112\u001b[0m \u001b[32m━━━━━━━━━━━━━━━━━━━━\u001b[0m\u001b[37m\u001b[0m \u001b[1m2s\u001b[0m 2ms/step - accuracy: 0.6673 - loss: 3.4079 - val_accuracy: 0.7656 - val_loss: 3.2095\n",
      "Epoch 11/20\n",
      "\u001b[1m1112/1112\u001b[0m \u001b[32m━━━━━━━━━━━━━━━━━━━━\u001b[0m\u001b[37m\u001b[0m \u001b[1m2s\u001b[0m 2ms/step - accuracy: 0.6675 - loss: 2.5812 - val_accuracy: 0.6020 - val_loss: 0.3991\n",
      "Epoch 12/20\n",
      "\u001b[1m1112/1112\u001b[0m \u001b[32m━━━━━━━━━━━━━━━━━━━━\u001b[0m\u001b[37m\u001b[0m \u001b[1m2s\u001b[0m 2ms/step - accuracy: 0.7476 - loss: 0.7384 - val_accuracy: 0.7624 - val_loss: 0.2785\n",
      "Epoch 13/20\n",
      "\u001b[1m1112/1112\u001b[0m \u001b[32m━━━━━━━━━━━━━━━━━━━━\u001b[0m\u001b[37m\u001b[0m \u001b[1m2s\u001b[0m 2ms/step - accuracy: 0.7606 - loss: 0.2776 - val_accuracy: 0.7624 - val_loss: 0.2745\n",
      "Epoch 14/20\n",
      "\u001b[1m1112/1112\u001b[0m \u001b[32m━━━━━━━━━━━━━━━━━━━━\u001b[0m\u001b[37m\u001b[0m \u001b[1m2s\u001b[0m 2ms/step - accuracy: 0.7606 - loss: 0.2754 - val_accuracy: 0.7624 - val_loss: 0.2743\n",
      "Epoch 15/20\n",
      "\u001b[1m1112/1112\u001b[0m \u001b[32m━━━━━━━━━━━━━━━━━━━━\u001b[0m\u001b[37m\u001b[0m \u001b[1m2s\u001b[0m 2ms/step - accuracy: 0.7606 - loss: 0.2753 - val_accuracy: 0.7624 - val_loss: 0.2743\n",
      "Epoch 16/20\n",
      "\u001b[1m1112/1112\u001b[0m \u001b[32m━━━━━━━━━━━━━━━━━━━━\u001b[0m\u001b[37m\u001b[0m \u001b[1m2s\u001b[0m 2ms/step - accuracy: 0.7606 - loss: 0.2753 - val_accuracy: 0.7624 - val_loss: 0.2743\n",
      "Epoch 17/20\n",
      "\u001b[1m1112/1112\u001b[0m \u001b[32m━━━━━━━━━━━━━━━━━━━━\u001b[0m\u001b[37m\u001b[0m \u001b[1m2s\u001b[0m 2ms/step - accuracy: 0.7606 - loss: 0.2753 - val_accuracy: 0.7624 - val_loss: 0.2743\n",
      "Epoch 18/20\n",
      "\u001b[1m1112/1112\u001b[0m \u001b[32m━━━━━━━━━━━━━━━━━━━━\u001b[0m\u001b[37m\u001b[0m \u001b[1m2s\u001b[0m 2ms/step - accuracy: 0.7606 - loss: 0.2753 - val_accuracy: 0.7624 - val_loss: 0.2743\n",
      "Epoch 19/20\n",
      "\u001b[1m1112/1112\u001b[0m \u001b[32m━━━━━━━━━━━━━━━━━━━━\u001b[0m\u001b[37m\u001b[0m \u001b[1m2s\u001b[0m 2ms/step - accuracy: 0.7606 - loss: 0.2753 - val_accuracy: 0.7624 - val_loss: 0.2743\n",
      "Epoch 20/20\n",
      "\u001b[1m1112/1112\u001b[0m \u001b[32m━━━━━━━━━━━━━━━━━━━━\u001b[0m\u001b[37m\u001b[0m \u001b[1m2s\u001b[0m 2ms/step - accuracy: 0.7606 - loss: 0.2753 - val_accuracy: 0.7624 - val_loss: 0.2744\n"
     ]
    },
    {
     "data": {
      "text/plain": [
       "<keras.src.callbacks.history.History at 0x167468770>"
      ]
     },
     "execution_count": 36,
     "metadata": {},
     "output_type": "execute_result"
    }
   ],
   "source": [
    "inprocessing_spd.fit(fauci_train_dataset, converting_to_type=float, epochs=EPOCHS, batch_size=BATCH_SIZE, validation_split=VALIDATION_SPLIT)"
   ]
  },
  {
   "cell_type": "code",
   "execution_count": 37,
   "metadata": {},
   "outputs": [
    {
     "name": "stdout",
     "output_type": "stream",
     "text": [
      "Epoch 1/20\n",
      "\u001b[1m1112/1112\u001b[0m \u001b[32m━━━━━━━━━━━━━━━━━━━━\u001b[0m\u001b[37m\u001b[0m \u001b[1m3s\u001b[0m 2ms/step - accuracy: 0.6149 - loss: 428.6197 - val_accuracy: 0.2393 - val_loss: 4.3902\n",
      "Epoch 2/20\n",
      "\u001b[1m1112/1112\u001b[0m \u001b[32m━━━━━━━━━━━━━━━━━━━━\u001b[0m\u001b[37m\u001b[0m \u001b[1m2s\u001b[0m 2ms/step - accuracy: 0.6311 - loss: 57.6394 - val_accuracy: 0.2376 - val_loss: 69.8339\n",
      "Epoch 3/20\n",
      "\u001b[1m1112/1112\u001b[0m \u001b[32m━━━━━━━━━━━━━━━━━━━━\u001b[0m\u001b[37m\u001b[0m \u001b[1m2s\u001b[0m 2ms/step - accuracy: 0.6376 - loss: 57.9088 - val_accuracy: 0.7624 - val_loss: 37.5443\n",
      "Epoch 4/20\n",
      "\u001b[1m1112/1112\u001b[0m \u001b[32m━━━━━━━━━━━━━━━━━━━━\u001b[0m\u001b[37m\u001b[0m \u001b[1m2s\u001b[0m 2ms/step - accuracy: 0.6373 - loss: 44.4796 - val_accuracy: 0.2376 - val_loss: 119.5534\n",
      "Epoch 5/20\n",
      "\u001b[1m1112/1112\u001b[0m \u001b[32m━━━━━━━━━━━━━━━━━━━━\u001b[0m\u001b[37m\u001b[0m \u001b[1m2s\u001b[0m 2ms/step - accuracy: 0.6403 - loss: 45.6724 - val_accuracy: 0.7637 - val_loss: 29.9249\n",
      "Epoch 6/20\n",
      "\u001b[1m1112/1112\u001b[0m \u001b[32m━━━━━━━━━━━━━━━━━━━━\u001b[0m\u001b[37m\u001b[0m \u001b[1m2s\u001b[0m 2ms/step - accuracy: 0.6435 - loss: 31.9301 - val_accuracy: 0.2376 - val_loss: 73.7830\n",
      "Epoch 7/20\n",
      "\u001b[1m1112/1112\u001b[0m \u001b[32m━━━━━━━━━━━━━━━━━━━━\u001b[0m\u001b[37m\u001b[0m \u001b[1m2s\u001b[0m 2ms/step - accuracy: 0.6401 - loss: 43.5380 - val_accuracy: 0.7624 - val_loss: 87.9550\n",
      "Epoch 8/20\n",
      "\u001b[1m1112/1112\u001b[0m \u001b[32m━━━━━━━━━━━━━━━━━━━━\u001b[0m\u001b[37m\u001b[0m \u001b[1m2s\u001b[0m 2ms/step - accuracy: 0.6451 - loss: 30.2005 - val_accuracy: 0.7663 - val_loss: 2.0039\n",
      "Epoch 9/20\n",
      "\u001b[1m1112/1112\u001b[0m \u001b[32m━━━━━━━━━━━━━━━━━━━━\u001b[0m\u001b[37m\u001b[0m \u001b[1m2s\u001b[0m 2ms/step - accuracy: 0.6475 - loss: 32.1282 - val_accuracy: 0.7666 - val_loss: 7.1096\n",
      "Epoch 10/20\n",
      "\u001b[1m1112/1112\u001b[0m \u001b[32m━━━━━━━━━━━━━━━━━━━━\u001b[0m\u001b[37m\u001b[0m \u001b[1m2s\u001b[0m 2ms/step - accuracy: 0.6483 - loss: 23.4189 - val_accuracy: 0.7656 - val_loss: 18.2027\n",
      "Epoch 11/20\n",
      "\u001b[1m1112/1112\u001b[0m \u001b[32m━━━━━━━━━━━━━━━━━━━━\u001b[0m\u001b[37m\u001b[0m \u001b[1m2s\u001b[0m 2ms/step - accuracy: 0.6544 - loss: 24.6762 - val_accuracy: 0.7711 - val_loss: 5.6828\n",
      "Epoch 12/20\n",
      "\u001b[1m1112/1112\u001b[0m \u001b[32m━━━━━━━━━━━━━━━━━━━━\u001b[0m\u001b[37m\u001b[0m \u001b[1m2s\u001b[0m 2ms/step - accuracy: 0.6546 - loss: 22.5999 - val_accuracy: 0.2601 - val_loss: 17.5589\n",
      "Epoch 13/20\n",
      "\u001b[1m1112/1112\u001b[0m \u001b[32m━━━━━━━━━━━━━━━━━━━━\u001b[0m\u001b[37m\u001b[0m \u001b[1m2s\u001b[0m 2ms/step - accuracy: 0.6496 - loss: 19.4245 - val_accuracy: 0.7650 - val_loss: 21.8048\n",
      "Epoch 14/20\n",
      "\u001b[1m1112/1112\u001b[0m \u001b[32m━━━━━━━━━━━━━━━━━━━━\u001b[0m\u001b[37m\u001b[0m \u001b[1m2s\u001b[0m 2ms/step - accuracy: 0.6605 - loss: 19.7680 - val_accuracy: 0.7635 - val_loss: 35.6874\n",
      "Epoch 15/20\n",
      "\u001b[1m1112/1112\u001b[0m \u001b[32m━━━━━━━━━━━━━━━━━━━━\u001b[0m\u001b[37m\u001b[0m \u001b[1m2s\u001b[0m 2ms/step - accuracy: 0.6577 - loss: 20.8526 - val_accuracy: 0.7709 - val_loss: 7.3480\n",
      "Epoch 16/20\n",
      "\u001b[1m1112/1112\u001b[0m \u001b[32m━━━━━━━━━━━━━━━━━━━━\u001b[0m\u001b[37m\u001b[0m \u001b[1m2s\u001b[0m 2ms/step - accuracy: 0.6714 - loss: 13.5831 - val_accuracy: 0.7649 - val_loss: 19.9302\n",
      "Epoch 17/20\n",
      "\u001b[1m1112/1112\u001b[0m \u001b[32m━━━━━━━━━━━━━━━━━━━━\u001b[0m\u001b[37m\u001b[0m \u001b[1m2s\u001b[0m 2ms/step - accuracy: 0.6548 - loss: 17.7882 - val_accuracy: 0.7880 - val_loss: 1.4908\n",
      "Epoch 18/20\n",
      "\u001b[1m1112/1112\u001b[0m \u001b[32m━━━━━━━━━━━━━━━━━━━━\u001b[0m\u001b[37m\u001b[0m \u001b[1m2s\u001b[0m 2ms/step - accuracy: 0.6633 - loss: 15.6441 - val_accuracy: 0.7661 - val_loss: 15.7775\n",
      "Epoch 19/20\n",
      "\u001b[1m1112/1112\u001b[0m \u001b[32m━━━━━━━━━━━━━━━━━━━━\u001b[0m\u001b[37m\u001b[0m \u001b[1m2s\u001b[0m 2ms/step - accuracy: 0.6823 - loss: 8.8201 - val_accuracy: 0.7628 - val_loss: 37.5981\n",
      "Epoch 20/20\n",
      "\u001b[1m1112/1112\u001b[0m \u001b[32m━━━━━━━━━━━━━━━━━━━━\u001b[0m\u001b[37m\u001b[0m \u001b[1m2s\u001b[0m 2ms/step - accuracy: 0.6667 - loss: 14.0266 - val_accuracy: 0.7643 - val_loss: 21.7357\n"
     ]
    },
    {
     "data": {
      "text/plain": [
       "<keras.src.callbacks.history.History at 0x1674e6000>"
      ]
     },
     "execution_count": 37,
     "metadata": {},
     "output_type": "execute_result"
    }
   ],
   "source": [
    "inprocessing_di.fit(fauci_train_dataset, converting_to_type=float, epochs=EPOCHS, batch_size=BATCH_SIZE, validation_split=VALIDATION_SPLIT)"
   ]
  },
  {
   "cell_type": "code",
   "execution_count": 38,
   "metadata": {
    "scrolled": true
   },
   "outputs": [
    {
     "name": "stdout",
     "output_type": "stream",
     "text": [
      "\u001b[1m535/535\u001b[0m \u001b[32m━━━━━━━━━━━━━━━━━━━━\u001b[0m\u001b[37m\u001b[0m \u001b[1m0s\u001b[0m 283us/step\n",
      "\u001b[1m535/535\u001b[0m \u001b[32m━━━━━━━━━━━━━━━━━━━━\u001b[0m\u001b[37m\u001b[0m \u001b[1m0s\u001b[0m 263us/step\n",
      "\u001b[1m535/535\u001b[0m \u001b[32m━━━━━━━━━━━━━━━━━━━━\u001b[0m\u001b[37m\u001b[0m \u001b[1m0s\u001b[0m 265us/step\n",
      "\u001b[1m535/535\u001b[0m \u001b[32m━━━━━━━━━━━━━━━━━━━━\u001b[0m\u001b[37m\u001b[0m \u001b[1m0s\u001b[0m 260us/step\n"
     ]
    }
   ],
   "source": [
    "y_pred_unwrapped = unwrapped.predict(X_test.astype(float))\n",
    "y_pred_unprocessed = unprocessed.predict(X_test.astype(float))\n",
    "y_pred_spd = inprocessing_spd.predict(X_test.astype(float))\n",
    "y_pred_di = inprocessing_di.predict(X_test.astype(float))"
   ]
  },
  {
   "cell_type": "code",
   "execution_count": 39,
   "metadata": {},
   "outputs": [],
   "source": [
    "y_pred_unwrapped = (y_pred_unwrapped > 0.5).astype(int)\n",
    "y_pred_unprocessed = (y_pred_unprocessed > 0.5).astype(int)\n",
    "y_pred_spd = (y_pred_spd > 0.5).astype(int)\n",
    "y_pred_di = (y_pred_di > 0.5).astype(int)"
   ]
  },
  {
   "cell_type": "code",
   "execution_count": 40,
   "metadata": {},
   "outputs": [],
   "source": [
    "def evaluate_model(X_test, y_test, y_pred, targets='income', sensitive='sex'):\n",
    "    print(\"Accuracy: \", accuracy_score(y_test, y_pred))\n",
    "    X = X_test.copy()\n",
    "    X[targets] = y_pred\n",
    "    dataset = fl.DataFrame(X)\n",
    "    dataset.targets = targets\n",
    "    dataset.sensitive = sensitive\n",
    "    print(\"SPD: \", dataset.statistical_parity_difference())\n",
    "    print(\"DI: \", dataset.disparate_impact())"
   ]
  },
  {
   "cell_type": "code",
   "execution_count": 41,
   "metadata": {},
   "outputs": [
    {
     "name": "stdout",
     "output_type": "stream",
     "text": [
      "Accuracy:  0.7776542848786194\n",
      "SPD:  {(income=1, sex=1): np.float64(0.03794840772958623), (income=1, sex=0): np.float64(-0.03794840772958623)}\n",
      "DI:  {(income=1, sex=1): np.float64(0.146683737214442), (income=1, sex=0): np.float64(6.817388341681434)}\n"
     ]
    }
   ],
   "source": [
    "evaluate_model(X_test, y_test, y_pred_unwrapped)"
   ]
  },
  {
   "cell_type": "code",
   "execution_count": 42,
   "metadata": {},
   "outputs": [
    {
     "name": "stdout",
     "output_type": "stream",
     "text": [
      "Accuracy:  0.7640245685873063\n",
      "SPD:  {(income=0, sex=1): np.float64(0.0), (income=0, sex=0): np.float64(0.0)}\n",
      "DI:  {(income=0, sex=1): np.float64(nan), (income=0, sex=0): np.float64(nan)}\n"
     ]
    },
    {
     "name": "stderr",
     "output_type": "stream",
     "text": [
      "/Users/valerio/Desktop/UNIVERSITÀ/TESI/master-thesis-dizio-ay2324/fairlib/metrics/__init__.py:111: RuntimeWarning: invalid value encountered in scalar divide\n",
      "  di = unprivileged_rate / privileged_rate\n"
     ]
    }
   ],
   "source": [
    "evaluate_model(X_test, y_test, y_pred_unprocessed)"
   ]
  },
  {
   "cell_type": "code",
   "execution_count": 43,
   "metadata": {},
   "outputs": [
    {
     "name": "stdout",
     "output_type": "stream",
     "text": [
      "Accuracy:  0.7640245685873063\n",
      "SPD:  {(income=0, sex=1): np.float64(0.0), (income=0, sex=0): np.float64(0.0)}\n",
      "DI:  {(income=0, sex=1): np.float64(nan), (income=0, sex=0): np.float64(nan)}\n"
     ]
    },
    {
     "name": "stderr",
     "output_type": "stream",
     "text": [
      "/Users/valerio/Desktop/UNIVERSITÀ/TESI/master-thesis-dizio-ay2324/fairlib/metrics/__init__.py:111: RuntimeWarning: invalid value encountered in scalar divide\n",
      "  di = unprivileged_rate / privileged_rate\n"
     ]
    }
   ],
   "source": [
    "evaluate_model(X_test, y_test, y_pred_spd)"
   ]
  },
  {
   "cell_type": "code",
   "execution_count": 44,
   "metadata": {},
   "outputs": [
    {
     "name": "stdout",
     "output_type": "stream",
     "text": [
      "Accuracy:  0.7656039777712782\n",
      "SPD:  {(income=1, sex=1): np.float64(0.0022748903030989243), (income=1, sex=0): np.float64(-0.0022748903030989243)}\n",
      "DI:  {(income=1, sex=1): np.float64(0.0719260024178924), (income=1, sex=0): np.float64(13.903177799177099)}\n"
     ]
    }
   ],
   "source": [
    "evaluate_model(X_test, y_test, y_pred_di)"
   ]
  },
  {
   "cell_type": "code",
   "execution_count": null,
   "metadata": {},
   "outputs": [],
   "source": []
  },
  {
   "cell_type": "code",
   "execution_count": null,
   "metadata": {},
   "outputs": [],
   "source": []
  }
 ],
 "metadata": {
  "colab": {
   "provenance": []
  },
  "kernelspec": {
   "display_name": "Python 3 (ipykernel)",
   "language": "python",
   "name": "python3"
  },
  "language_info": {
   "codemirror_mode": {
    "name": "ipython",
    "version": 3
   },
   "file_extension": ".py",
   "mimetype": "text/x-python",
   "name": "python",
   "nbconvert_exporter": "python",
   "pygments_lexer": "ipython3",
   "version": "3.12.6"
  }
 },
 "nbformat": 4,
 "nbformat_minor": 4
}
