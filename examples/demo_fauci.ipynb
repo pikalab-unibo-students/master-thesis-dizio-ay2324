{
 "cells": [
  {
   "cell_type": "markdown",
   "metadata": {},
   "source": [
    "# FaUCI: Fairness Under Constrained Injection.\n",
    "FaUCI (Fairness Under Constrained Injection) is an in-processing fairness algorithm that incorporates fairness constraints directly into the model training process through regularization.\n",
    "\n",
    "This algorithm works by adding fairness-specific regularization terms to the loss function, which penalize the model when it produces unfair predictions. The model learns to balance between predictive accuracy and fairness during training.\n",
    "\n",
    "The key idea is to use regularization to impose fairness constraints:\n",
    "- The model is trained with a standard loss function (e.g., BCE loss by classification).\n",
    "- A regularization term for fairness is added to the loss function to penalize unfair predictions\n",
    "- The strength of the fairness constraint is controlled by a regularization weight parameter\n",
    "\n",
    "FaUCI supports several fairness metrics as regularization targets:\n",
    "- Statistical Parity Difference (SPD): Ensures similar prediction rates across demographic groups\n",
    "- Disparate Impact (DI): Ensures that the ratio of positive prediction rates across groups is close to 1\n",
    "\n",
    "The regularization weight controls the trade-off between fairness and accuracy:\n",
    "- weight = 0: No fairness constraint (standard model)\n",
    "- weight > 0: Increasing values impose stronger fairness constraints"
   ],
   "id": "bb32c4779199debc"
  },
  {
   "metadata": {
    "ExecuteTime": {
     "end_time": "2025-05-14T15:24:02.569022Z",
     "start_time": "2025-05-14T15:24:02.565928Z"
    }
   },
   "cell_type": "code",
   "source": [
    "import sys\n",
    "import os\n",
    "\n",
    "# Add the root directory of the project to PYTHONPATH\n",
    "sys.path.append(os.path.abspath(os.path.join('..')))\n"
   ],
   "id": "663ec38e4aecd14f",
   "outputs": [],
   "execution_count": 1
  },
  {
   "metadata": {
    "ExecuteTime": {
     "end_time": "2025-05-14T15:24:05.391614Z",
     "start_time": "2025-05-14T15:24:02.588230Z"
    }
   },
   "cell_type": "code",
   "source": [
    "import numpy as np\n",
    "import pandas as pd\n",
    "import matplotlib.pyplot as plt\n",
    "import torch\n",
    "import torch.nn as nn\n",
    "from sklearn.model_selection import train_test_split\n",
    "from sklearn.preprocessing import StandardScaler\n",
    "from sklearn.metrics import accuracy_score\n",
    "import openml\n",
    "\n",
    "from fairlib import DataFrame\n",
    "from fairlib.inprocessing import Fauci\n",
    "from fairlib.metrics import statistical_parity_difference, disparate_impact\n",
    "\n",
    "# Set random seed for reproducibility\n",
    "np.random.seed(42)\n",
    "torch.manual_seed(42)"
   ],
   "id": "587cad625e544f04",
   "outputs": [
    {
     "data": {
      "text/plain": [
       "<torch._C.Generator at 0x1178e39d0>"
      ]
     },
     "execution_count": 2,
     "metadata": {},
     "output_type": "execute_result"
    }
   ],
   "execution_count": 2
  },
  {
   "cell_type": "markdown",
   "metadata": {},
   "source": [
    "## Loading and Preparing the Adult Dataset.\n",
    "We will use the Adult dataset from OpenML, which contains demographic information and predicts whether an individual earns more than $50K per year."
   ],
   "id": "3e16f171e5a0ffd6"
  },
  {
   "metadata": {
    "ExecuteTime": {
     "end_time": "2025-05-14T15:24:05.638049Z",
     "start_time": "2025-05-14T15:24:05.495707Z"
    }
   },
   "cell_type": "code",
   "source": [
    "adult_dataset = openml.datasets.get_dataset(179)\n",
    "adult_X, _, _, _ = adult_dataset.get_data(dataset_format=\"dataframe\")\n",
    "\n",
    "adult_X.rename(columns={'class': 'income'}, inplace=True)\n",
    "\n",
    "adult = DataFrame(adult_X)\n",
    "\n",
    "adult.targets = 'income'\n",
    "adult.sensitive = ['sex']\n",
    "\n",
    "adult.drop(columns=[\"fnlwgt\"], inplace=True)\n",
    "\n",
    "label_maps = {}\n",
    "\n",
    "for col in adult.columns:\n",
    "    if adult[col].dtype == 'object' or adult[col].dtype == 'category':\n",
    "        adult[col], uniques = pd.factorize(adult[col])\n",
    "        label_maps[col] = uniques\n",
    "\n",
    "print(f\"Forma del dataset: {adult.shape}\")\n",
    "print(f\"Colonna target: {adult.targets}\")\n",
    "print(f\"Attributi sensibili: {adult.sensitive}\")\n",
    "\n",
    "adult.head()"
   ],
   "id": "a9f76e8fd68a095f",
   "outputs": [
    {
     "name": "stdout",
     "output_type": "stream",
     "text": [
      "Forma del dataset: (48842, 14)\n",
      "Colonna target: {'income'}\n",
      "Attributi sensibili: {'sex'}\n"
     ]
    },
    {
     "data": {
      "text/plain": [
       "   age  workclass  education  education-num  marital-status  occupation  \\\n",
       "0    0          0          0             13               0           0   \n",
       "1    1          1          0             13               1           1   \n",
       "2    0          2          1              9               2           2   \n",
       "3    1          2          2              7               1           2   \n",
       "4    2          2          0             13               1           3   \n",
       "\n",
       "   relationship  race  sex  capitalgain  capitalloss  hoursperweek  \\\n",
       "0             0     0    0            0            0             0   \n",
       "1             1     0    0            1            0             1   \n",
       "2             0     0    0            1            0             0   \n",
       "3             1     1    0            1            0             0   \n",
       "4             2     1    1            1            0             0   \n",
       "\n",
       "   native-country  income  \n",
       "0               0       0  \n",
       "1               0       0  \n",
       "2               0       0  \n",
       "3               0       0  \n",
       "4               1       0  "
      ],
      "text/html": [
       "<div>\n",
       "<style scoped>\n",
       "    .dataframe tbody tr th:only-of-type {\n",
       "        vertical-align: middle;\n",
       "    }\n",
       "\n",
       "    .dataframe tbody tr th {\n",
       "        vertical-align: top;\n",
       "    }\n",
       "\n",
       "    .dataframe thead th {\n",
       "        text-align: right;\n",
       "    }\n",
       "</style>\n",
       "<table border=\"1\" class=\"dataframe\">\n",
       "  <thead>\n",
       "    <tr style=\"text-align: right;\">\n",
       "      <th></th>\n",
       "      <th>age</th>\n",
       "      <th>workclass</th>\n",
       "      <th>education</th>\n",
       "      <th>education-num</th>\n",
       "      <th>marital-status</th>\n",
       "      <th>occupation</th>\n",
       "      <th>relationship</th>\n",
       "      <th>race</th>\n",
       "      <th>sex</th>\n",
       "      <th>capitalgain</th>\n",
       "      <th>capitalloss</th>\n",
       "      <th>hoursperweek</th>\n",
       "      <th>native-country</th>\n",
       "      <th>income</th>\n",
       "    </tr>\n",
       "  </thead>\n",
       "  <tbody>\n",
       "    <tr>\n",
       "      <th>0</th>\n",
       "      <td>0</td>\n",
       "      <td>0</td>\n",
       "      <td>0</td>\n",
       "      <td>13</td>\n",
       "      <td>0</td>\n",
       "      <td>0</td>\n",
       "      <td>0</td>\n",
       "      <td>0</td>\n",
       "      <td>0</td>\n",
       "      <td>0</td>\n",
       "      <td>0</td>\n",
       "      <td>0</td>\n",
       "      <td>0</td>\n",
       "      <td>0</td>\n",
       "    </tr>\n",
       "    <tr>\n",
       "      <th>1</th>\n",
       "      <td>1</td>\n",
       "      <td>1</td>\n",
       "      <td>0</td>\n",
       "      <td>13</td>\n",
       "      <td>1</td>\n",
       "      <td>1</td>\n",
       "      <td>1</td>\n",
       "      <td>0</td>\n",
       "      <td>0</td>\n",
       "      <td>1</td>\n",
       "      <td>0</td>\n",
       "      <td>1</td>\n",
       "      <td>0</td>\n",
       "      <td>0</td>\n",
       "    </tr>\n",
       "    <tr>\n",
       "      <th>2</th>\n",
       "      <td>0</td>\n",
       "      <td>2</td>\n",
       "      <td>1</td>\n",
       "      <td>9</td>\n",
       "      <td>2</td>\n",
       "      <td>2</td>\n",
       "      <td>0</td>\n",
       "      <td>0</td>\n",
       "      <td>0</td>\n",
       "      <td>1</td>\n",
       "      <td>0</td>\n",
       "      <td>0</td>\n",
       "      <td>0</td>\n",
       "      <td>0</td>\n",
       "    </tr>\n",
       "    <tr>\n",
       "      <th>3</th>\n",
       "      <td>1</td>\n",
       "      <td>2</td>\n",
       "      <td>2</td>\n",
       "      <td>7</td>\n",
       "      <td>1</td>\n",
       "      <td>2</td>\n",
       "      <td>1</td>\n",
       "      <td>1</td>\n",
       "      <td>0</td>\n",
       "      <td>1</td>\n",
       "      <td>0</td>\n",
       "      <td>0</td>\n",
       "      <td>0</td>\n",
       "      <td>0</td>\n",
       "    </tr>\n",
       "    <tr>\n",
       "      <th>4</th>\n",
       "      <td>2</td>\n",
       "      <td>2</td>\n",
       "      <td>0</td>\n",
       "      <td>13</td>\n",
       "      <td>1</td>\n",
       "      <td>3</td>\n",
       "      <td>2</td>\n",
       "      <td>1</td>\n",
       "      <td>1</td>\n",
       "      <td>1</td>\n",
       "      <td>0</td>\n",
       "      <td>0</td>\n",
       "      <td>1</td>\n",
       "      <td>0</td>\n",
       "    </tr>\n",
       "  </tbody>\n",
       "</table>\n",
       "</div>"
      ]
     },
     "execution_count": 3,
     "metadata": {},
     "output_type": "execute_result"
    }
   ],
   "execution_count": 3
  },
  {
   "cell_type": "markdown",
   "metadata": {},
   "source": [
    "## Exploratory Data Analysis.\n",
    "We examine the distribution of income versus sex to understand potential inequalities in the dataset."
   ],
   "id": "666de89504904b7b"
  },
  {
   "metadata": {
    "ExecuteTime": {
     "end_time": "2025-05-14T15:24:05.743711Z",
     "start_time": "2025-05-14T15:24:05.650402Z"
    }
   },
   "cell_type": "code",
   "source": [
    "sex_labels = label_maps['sex'].tolist()\n",
    "income_labels = label_maps['income'].tolist()\n",
    "\n",
    "# Calculate the sex/income cross distribution.\n",
    "counts = adult.groupby('sex')['income'].value_counts().unstack()\n",
    "\n",
    "# Rename indexes and columns to make them readable\n",
    "counts.index = [sex_labels[i] for i in counts.index]\n",
    "counts.columns = [income_labels[i] for i in counts.columns]\n",
    "\n",
    "# Plot\n",
    "plt.figure(figsize=(10, 6))\n",
    "counts.plot(kind='bar', stacked=True)\n",
    "plt.title('Distribution of income by gender')\n",
    "plt.xlabel('Sex')\n",
    "plt.ylabel('Count')\n",
    "plt.legend(title='Income')\n",
    "plt.xticks(rotation=0)\n",
    "plt.tight_layout()\n",
    "plt.show()"
   ],
   "id": "db3d10fa8e167c36",
   "outputs": [
    {
     "data": {
      "text/plain": [
       "<Figure size 1000x600 with 0 Axes>"
      ]
     },
     "metadata": {},
     "output_type": "display_data"
    },
    {
     "data": {
      "text/plain": [
       "<Figure size 640x480 with 1 Axes>"
      ],
      "image/png": "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"
     },
     "metadata": {},
     "output_type": "display_data"
    }
   ],
   "execution_count": 4
  },
  {
   "metadata": {},
   "cell_type": "markdown",
   "source": [
    "## Preparing the Data for the Model.\n",
    "We divide the dataset into training and test sets, and standardize the numerical characteristics."
   ],
   "id": "5470d8d29778def3"
  },
  {
   "metadata": {
    "ExecuteTime": {
     "end_time": "2025-05-14T15:24:05.792326Z",
     "start_time": "2025-05-14T15:24:05.762825Z"
    }
   },
   "cell_type": "code",
   "source": [
    "X = adult.drop(columns=['income'])\n",
    "y = adult['income']\n",
    "\n",
    "X_train, X_test, y_train, y_test = train_test_split(X, y, test_size=0.2, random_state=42)\n",
    "\n",
    "scaler = StandardScaler()\n",
    "numeric_cols = ['age', 'education-num', 'capitalgain', 'capitalloss', 'hoursperweek']\n",
    "\n",
    "X_train_scaled = X_train.copy()\n",
    "X_test_scaled = X_test.copy()\n",
    "\n",
    "X_train_scaled[numeric_cols] = scaler.fit_transform(X_train[numeric_cols])\n",
    "X_test_scaled[numeric_cols] = scaler.transform(X_test[numeric_cols])\n",
    "\n",
    "X_train_tensor = torch.tensor(X_train_scaled.values, dtype=torch.float32)\n",
    "X_test_tensor = torch.tensor(X_test_scaled.values, dtype=torch.float32)\n",
    "y_train_tensor = torch.tensor(y_train.values, dtype=torch.float32).reshape(-1, 1)\n",
    "y_test_tensor = torch.tensor(y_test.values, dtype=torch.float32).reshape(-1, 1)\n",
    "\n",
    "sensitive_idx = X_train.columns.get_loc('sex')\n",
    "sensitive_train = X_train.iloc[:, sensitive_idx].values\n",
    "sensitive_test = X_test.iloc[:, sensitive_idx].values\n",
    "\n",
    "print(f\"Size of the training set: {X_train_tensor.shape}\")\n",
    "print(f\"Size of the test set: {X_test_tensor.shape}\")"
   ],
   "id": "5eb5c887dbdd21f1",
   "outputs": [
    {
     "name": "stdout",
     "output_type": "stream",
     "text": [
      "Size of the training set: torch.Size([39073, 13])\n",
      "Size of the test set: torch.Size([9769, 13])\n"
     ]
    }
   ],
   "execution_count": 5
  },
  {
   "cell_type": "markdown",
   "metadata": {},
   "source": [
    "## Implementing the Baseline Model.\n",
    "Before implementing FaUCI, we train a baseline model to establish a baseline."
   ],
   "id": "4c827bd707f33a7b"
  },
  {
   "metadata": {
    "ExecuteTime": {
     "end_time": "2025-05-14T15:24:14.528785Z",
     "start_time": "2025-05-14T15:24:05.855355Z"
    }
   },
   "cell_type": "code",
   "source": [
    "input_dim = X_train_tensor.shape[1]\n",
    "\n",
    "class BaseModel(nn.Module):\n",
    "    def __init__(self):\n",
    "        super(BaseModel, self).__init__()\n",
    "        self.layer1 = nn.Linear(input_dim, 64)\n",
    "        self.layer2 = nn.Linear(64, 32)\n",
    "        self.layer3 = nn.Linear(32, 1)\n",
    "        self.relu = nn.ReLU()\n",
    "        self.sigmoid = nn.Sigmoid()\n",
    "\n",
    "    def forward(self, x):\n",
    "        x = self.relu(self.layer1(x))\n",
    "        x = self.relu(self.layer2(x))\n",
    "        x = self.sigmoid(self.layer3(x))\n",
    "        return x\n",
    "\n",
    "base_model = BaseModel()\n",
    "criterion = nn.BCELoss()\n",
    "optimizer = torch.optim.Adam(base_model.parameters(), lr=0.001)\n",
    "\n",
    "epochs = 100\n",
    "batch_size = 128\n",
    "\n",
    "for epoch in range(epochs):\n",
    "    base_model.train()\n",
    "    epoch_loss = 0.0\n",
    "    correct = 0\n",
    "    total = 0\n",
    "\n",
    "    for i in range(0, len(X_train_tensor), batch_size):\n",
    "        batch_X = X_train_tensor[i:i+batch_size]\n",
    "        batch_y = y_train_tensor[i:i+batch_size]\n",
    "\n",
    "        outputs = base_model(batch_X)\n",
    "        loss = criterion(outputs, batch_y)\n",
    "\n",
    "        optimizer.zero_grad()\n",
    "        loss.backward()\n",
    "        optimizer.step()\n",
    "\n",
    "        epoch_loss += loss.item()\n",
    "\n",
    "        predictions = (outputs > 0.5).float()\n",
    "        correct += (predictions == batch_y).sum().item()\n",
    "        total += batch_y.size(0)\n",
    "\n",
    "    if (epoch + 1) % 10 == 0:\n",
    "        accuracy = 100 * correct / total\n",
    "        avg_loss = epoch_loss / (len(X_train_tensor) // batch_size)\n",
    "        print(f\"Epoch [{epoch+1}/{epochs}], Loss: {avg_loss:.4f}, Accuracy: {accuracy:.2f}%\\n\")\n"
   ],
   "id": "a23604ca28b7b66",
   "outputs": [
    {
     "name": "stdout",
     "output_type": "stream",
     "text": [
      "Epoch [10/100], Loss: 0.3399, Accuracy: 84.29%\n",
      "\n",
      "Epoch [20/100], Loss: 0.3267, Accuracy: 84.81%\n",
      "\n",
      "Epoch [30/100], Loss: 0.3184, Accuracy: 85.20%\n",
      "\n",
      "Epoch [40/100], Loss: 0.3133, Accuracy: 85.36%\n",
      "\n",
      "Epoch [50/100], Loss: 0.3105, Accuracy: 85.46%\n",
      "\n",
      "Epoch [60/100], Loss: 0.3085, Accuracy: 85.57%\n",
      "\n",
      "Epoch [70/100], Loss: 0.3069, Accuracy: 85.65%\n",
      "\n",
      "Epoch [80/100], Loss: 0.3056, Accuracy: 85.74%\n",
      "\n",
      "Epoch [90/100], Loss: 0.3046, Accuracy: 85.81%\n",
      "\n",
      "Epoch [100/100], Loss: 0.3036, Accuracy: 85.78%\n",
      "\n"
     ]
    }
   ],
   "execution_count": 6
  },
  {
   "metadata": {},
   "cell_type": "markdown",
   "source": [
    "## Evaluation of the Base Model.\n",
    "We evaluate the performance of the base model in terms of both accuracy and fairness."
   ],
   "id": "17a2b5a2eb448ec4"
  },
  {
   "metadata": {
    "ExecuteTime": {
     "end_time": "2025-05-14T15:24:14.544764Z",
     "start_time": "2025-05-14T15:24:14.535872Z"
    }
   },
   "cell_type": "code",
   "source": [
    "SENSITIVE_COL_NAME=\"sex\"\n",
    "base_model.eval()\n",
    "with torch.no_grad():\n",
    "    y_pred_base = base_model(X_test_tensor)\n",
    "    y_pred_base_binary = (y_pred_base > 0.5).float()\n",
    "\n",
    "    X_test_baseline = X_test_tensor.detach().cpu().numpy()\n",
    "    y_pred_baseline = y_pred_base_binary.detach().cpu().numpy()\n",
    "\n",
    "    baseline_accuracy = accuracy_score(y_test, y_pred_baseline)\n",
    "    print(f\"Baseline model accuracy: {baseline_accuracy:.4f}\")\n",
    "\n",
    "    baseline_spd = statistical_parity_difference(y_pred_baseline, X_test[SENSITIVE_COL_NAME])\n",
    "    baseline_di = disparate_impact(y_pred_baseline, X_test[SENSITIVE_COL_NAME])\n",
    "\n",
    "    print(f\"Statistical Parity Difference (SPD): {baseline_spd}\")\n",
    "    print(f\"Disparate Impact (DI): {baseline_di}\")"
   ],
   "id": "a7379e7a3c6873db",
   "outputs": [
    {
     "name": "stdout",
     "output_type": "stream",
     "text": [
      "Baseline model accuracy: 0.8448\n",
      "Statistical Parity Difference (SPD): [[-0.16785267  0.16785267]\n",
      " [ 0.16785267 -0.16785267]]\n",
      "Disparate Impact (DI): [[1.2202982  0.29493248]\n",
      " [0.81947183 3.39060655]]\n"
     ]
    }
   ],
   "execution_count": 7
  },
  {
   "cell_type": "markdown",
   "metadata": {},
   "source": [
    "## Implementation of FaUCI.\n",
    "We now implement FaUCI with different regularization weights to explore the trade-off between accuracy and fairness."
   ],
   "id": "a9cb531b6d3f0b27"
  },
  {
   "metadata": {
    "ExecuteTime": {
     "end_time": "2025-05-14T15:26:34.680203Z",
     "start_time": "2025-05-14T15:24:14.576389Z"
    }
   },
   "cell_type": "code",
   "source": [
    "reg_weights = [0.0, 0.1, 0.3, 0.5, 0.6, 0.8]\n",
    "\n",
    "accuracies = {}\n",
    "spd_values = {}\n",
    "di_values = {}\n",
    "\n",
    "for weight in reg_weights:\n",
    "    print(f\" FaUCI training with regularization weight: {weight}\")\n",
    "\n",
    "    model = BaseModel()\n",
    "    optimizer = torch.optim.Adam(model.parameters(), lr=0.001)\n",
    "\n",
    "    fauci_model = Fauci(\n",
    "        torchModel=model,\n",
    "        optimizer=optimizer,\n",
    "        loss=nn.BCELoss(),\n",
    "        fairness_regularization=\"spd\",  # Statistical Parity Difference\n",
    "        regularization_weight=weight\n",
    "    )\n",
    "\n",
    "    train_data = DataFrame(X_train_scaled)\n",
    "    train_data['income'] = y_train.values\n",
    "    train_data.targets = 'income'\n",
    "    train_data.sensitive = ['sex']\n",
    "\n",
    "    fauci_model.fit(train_data, epochs=epochs, batch_size=batch_size, verbose=False)\n",
    "\n",
    "    base_model.eval()\n",
    "    with torch.no_grad():\n",
    "        y_pred_base = fauci_model.predict(X_test_tensor)\n",
    "        y_pred_base_binary = (y_pred_base > 0.5).float()\n",
    "\n",
    "        y_pred_baseline = y_pred_base_binary.detach().cpu().numpy()\n",
    "\n",
    "        baseline_accuracy = accuracy_score(y_test, y_pred_baseline)\n",
    "        print(f\"Baseline model accuracy: {baseline_accuracy:.4f}\")\n",
    "\n",
    "        baseline_spd = statistical_parity_difference(y_pred_baseline, X_test[SENSITIVE_COL_NAME])\n",
    "        baseline_di = disparate_impact(y_pred_baseline, X_test[SENSITIVE_COL_NAME])\n",
    "\n",
    "        print(f\"Statistical Parity Difference (SPD): {baseline_spd}\")\n",
    "        print(f\"Disparate Impact (DI): {baseline_di}\")"
   ],
   "id": "1a0ae7062776efbc",
   "outputs": [
    {
     "name": "stdout",
     "output_type": "stream",
     "text": [
      " FaUCI training with regularization weight: 0.0\n",
      "Baseline model accuracy: 0.8464\n",
      "Statistical Parity Difference (SPD): [[-0.18350284  0.18350284]\n",
      " [ 0.18350284 -0.18350284]]\n",
      "Disparate Impact (DI): [[1.2542125  0.34027801]\n",
      " [0.79731306 2.93877349]]\n",
      " FaUCI training with regularization weight: 0.1\n",
      "Baseline model accuracy: 0.8456\n",
      "Statistical Parity Difference (SPD): [[-0.15141224  0.15141224]\n",
      " [ 0.15141224 -0.15141224]]\n",
      "Disparate Impact (DI): [[1.19616063 0.336264  ]\n",
      " [0.83600812 2.97385387]]\n",
      " FaUCI training with regularization weight: 0.3\n",
      "Baseline model accuracy: 0.8450\n",
      "Statistical Parity Difference (SPD): [[-0.15919861  0.15919861]\n",
      " [ 0.15919861 -0.15919861]]\n",
      "Disparate Impact (DI): [[1.2087725  0.32956049]\n",
      " [0.82728553 3.03434429]]\n",
      " FaUCI training with regularization weight: 0.5\n",
      "Baseline model accuracy: 0.8469\n",
      "Statistical Parity Difference (SPD): [[-0.15082012  0.15082012]\n",
      " [ 0.15082012 -0.15082012]]\n",
      "Disparate Impact (DI): [[1.19477579 0.33168794]\n",
      " [0.83697712 3.01488198]]\n",
      " FaUCI training with regularization weight: 0.6\n",
      "Baseline model accuracy: 0.8446\n",
      "Statistical Parity Difference (SPD): [[-0.16819572  0.16819572]\n",
      " [ 0.16819572 -0.16819572]]\n",
      "Disparate Impact (DI): [[1.22403245 0.32515209]\n",
      " [0.8169718  3.07548387]]\n",
      " FaUCI training with regularization weight: 0.8\n",
      "Baseline model accuracy: 0.8439\n",
      "Statistical Parity Difference (SPD): [[-0.20081759  0.20081759]\n",
      " [ 0.20081759 -0.20081759]]\n",
      "Disparate Impact (DI): [[1.27843525 0.27961374]\n",
      " [0.78220622 3.57636217]]\n"
     ]
    }
   ],
   "execution_count": 8
  },
  {
   "metadata": {
    "ExecuteTime": {
     "end_time": "2025-05-14T15:26:34.726069Z",
     "start_time": "2025-05-14T15:26:34.724096Z"
    }
   },
   "cell_type": "code",
   "source": "",
   "id": "7ff633b885679847",
   "outputs": [],
   "execution_count": null
  },
  {
   "metadata": {
    "ExecuteTime": {
     "end_time": "2025-05-14T15:26:34.749353Z",
     "start_time": "2025-05-14T15:26:34.747725Z"
    }
   },
   "cell_type": "code",
   "source": "",
   "id": "66d4c64ca4f1c05b",
   "outputs": [],
   "execution_count": null
  }
 ],
 "metadata": {
  "kernelspec": {
   "name": "python3",
   "language": "python",
   "display_name": "Python 3 (ipykernel)"
  }
 }
}
