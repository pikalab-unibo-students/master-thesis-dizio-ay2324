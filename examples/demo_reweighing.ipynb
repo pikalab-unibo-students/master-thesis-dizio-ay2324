{
 "cells": [
  {
   "metadata": {},
   "cell_type": "markdown",
   "source": [
    "## Reweighihg\n",
    "In this example, we will demonstrate how to use the Reweighing and ReweighingWithMean methods from the FairLib library to preprocess a dataset for fairness."
   ]
  },
  {
   "cell_type": "code",
   "metadata": {
    "ExecuteTime": {
     "end_time": "2025-05-09T13:37:46.963543Z",
     "start_time": "2025-05-09T13:37:43.967135Z"
    }
   },
   "source": [
    "import openml\n",
    "from fairlib import DataFrame\n",
    "from fairlib.preprocessing import Reweighing, ReweighingWithMean\n",
    "from sklearn.metrics import accuracy_score\n",
    "from sklearn.model_selection import train_test_split\n",
    "from sklearn.preprocessing import LabelEncoder\n",
    "from sklearn.linear_model import LogisticRegression\n",
    "import numpy as np\n",
    "import pandas as pd\n",
    "import matplotlib.pyplot as plt"
   ],
   "outputs": [],
   "execution_count": 1
  },
  {
   "cell_type": "code",
   "metadata": {
    "ExecuteTime": {
     "end_time": "2025-05-09T13:37:46.971315Z",
     "start_time": "2025-05-09T13:37:46.968646Z"
    }
   },
   "source": [
    "def prepare_dataset():\n",
    "    \"\"\"\n",
    "    Load and preprocess the dataset.\n",
    "    \"\"\"\n",
    "    dataset = openml.datasets.get_dataset(179)  # Adult dataset\n",
    "    X, y, _, names = dataset.get_data(target=dataset.default_target_attribute)\n",
    "\n",
    "    for col in X.columns:\n",
    "        if X[col].dtype.name == 'category':\n",
    "            X[col] = X[col].astype(object)\n",
    "\n",
    "        # Fill missing values\n",
    "        if X[col].isna().any():\n",
    "            X[col] = X[col].fillna(\"missing\")\n",
    "\n",
    "        le = LabelEncoder()\n",
    "        X[col] = le.fit_transform(X[col])\n",
    "\n",
    "    X = DataFrame(X)\n",
    "    X = X.drop(columns=[\"fnlwgt\"])  # Drop unnecessary column\n",
    "    y = y.apply(lambda x: x == \">50K\").astype(int)  # Convert to binary target\n",
    "\n",
    "    return X, y"
   ],
   "outputs": [],
   "execution_count": 2
  },
  {
   "cell_type": "code",
   "metadata": {
    "ExecuteTime": {
     "end_time": "2025-05-09T13:37:47.088563Z",
     "start_time": "2025-05-09T13:37:47.086101Z"
    }
   },
   "source": [
    "def evaluate_fairness(X_test, y_pred):\n",
    "    \"\"\"\n",
    "    Evaluate the fairness metrics (SPD and DI) of the predictions.\n",
    "    \"\"\"\n",
    "    X_test = X_test.copy()\n",
    "    X_test[\"income\"] = y_pred\n",
    "    dataset = DataFrame(X_test)\n",
    "    dataset.targets = \"income\"\n",
    "    dataset.sensitive = \"sex\"\n",
    "\n",
    "    spd = dataset.statistical_parity_difference()\n",
    "    di = dataset.disparate_impact()\n",
    "    return spd, di"
   ],
   "outputs": [],
   "execution_count": 3
  },
  {
   "cell_type": "code",
   "metadata": {
    "ExecuteTime": {
     "end_time": "2025-05-09T13:37:47.103236Z",
     "start_time": "2025-05-09T13:37:47.101399Z"
    }
   },
   "source": [
    "def train_classifier(X_train, y_train, sample_weight=None):\n",
    "    \"\"\"\n",
    "    Train a logistic regression classifier with optional sample weights.\n",
    "    \"\"\"\n",
    "    clf = LogisticRegression(random_state=42, max_iter=1000)\n",
    "    clf.fit(X_train, y_train, sample_weight=sample_weight)\n",
    "    return clf"
   ],
   "outputs": [],
   "execution_count": 4
  },
  {
   "cell_type": "code",
   "metadata": {
    "ExecuteTime": {
     "end_time": "2025-05-09T13:37:47.373210Z",
     "start_time": "2025-05-09T13:37:47.119431Z"
    }
   },
   "source": [
    "np.random.seed(42)\n",
    "\n",
    "TARGET = \"income\"\n",
    "SENSITIVE = \"sex\"\n",
    "\n",
    "# Prepare dataset\n",
    "X, y = prepare_dataset()\n",
    "X_train, X_test, y_train, y_test = train_test_split(\n",
    "    X, y, test_size=0.35, random_state=42\n",
    ")"
   ],
   "outputs": [],
   "execution_count": 5
  },
  {
   "cell_type": "markdown",
   "metadata": {},
   "source": [
    "## Training a baseline model without fairness preprocessing"
   ]
  },
  {
   "cell_type": "code",
   "metadata": {
    "ExecuteTime": {
     "end_time": "2025-05-09T13:37:47.951472Z",
     "start_time": "2025-05-09T13:37:47.757785Z"
    }
   },
   "source": [
    "# Train a baseline classifier without fairness preprocessing\n",
    "baseline_clf = train_classifier(X_train, y_train)\n",
    "\n",
    "# Evaluate the baseline model\n",
    "baseline_pred = baseline_clf.predict(X_test)\n",
    "baseline_accuracy = accuracy_score(y_test, baseline_pred)\n",
    "baseline_spd, baseline_di = evaluate_fairness(X_test, baseline_pred)\n",
    "\n",
    "print(f\"Baseline Model Accuracy: {baseline_accuracy:.4f}\")\n",
    "print(f\"Baseline Statistical Parity Difference: {baseline_spd}\")\n",
    "print(f\"Baseline Disparate Impact: {baseline_di}\")"
   ],
   "outputs": [
    {
     "name": "stdout",
     "output_type": "stream",
     "text": [
      "Baseline Model Accuracy: 0.8240\n",
      "Baseline Statistical Parity Difference: {(income=0, sex=0): 0.1681490872919421, (income=0, sex=1): -0.1681490872919421, (income=1, sex=0): -0.1681490872919421, (income=1, sex=1): 0.1681490872919421}\n",
      "Baseline Disparate Impact: {(income=0, sex=0): 0.8250140816862976, (income=0, sex=1): 1.2121005231280875, (income=1, sex=0): 5.303707720688356, (income=1, sex=1): 0.18854734322920272}\n"
     ]
    }
   ],
   "execution_count": 6
  },
  {
   "cell_type": "markdown",
   "metadata": {},
   "source": [
    "## Applying Reweighing for fairness preprocessing"
   ]
  },
  {
   "cell_type": "code",
   "metadata": {
    "ExecuteTime": {
     "end_time": "2025-05-09T13:37:50.109552Z",
     "start_time": "2025-05-09T13:37:49.774089Z"
    }
   },
   "source": [
    "# Prepare data for Reweighing\n",
    "X_train_with_target = X_train.copy()\n",
    "X_train_with_target[TARGET] = y_train\n",
    "train_dataset = DataFrame(X_train_with_target)\n",
    "train_dataset.targets = TARGET\n",
    "train_dataset.sensitive = SENSITIVE\n",
    "\n",
    "# Apply Reweighing\n",
    "reweighing = Reweighing()\n",
    "reweighed_df = reweighing.fit_transform(train_dataset)\n",
    "\n",
    "# Extract weights and features for training\n",
    "weights = reweighed_df['weights'].values\n",
    "X_train_reweighed = X_train.copy()\n",
    "\n",
    "# Train a classifier with the reweighed data\n",
    "reweighed_clf = train_classifier(X_train_reweighed, y_train, sample_weight=weights)\n",
    "\n",
    "# Evaluate the reweighed model\n",
    "reweighed_pred = reweighed_clf.predict(X_test)\n",
    "reweighed_accuracy = accuracy_score(y_test, reweighed_pred)\n",
    "reweighed_spd, reweighed_di = evaluate_fairness(X_test, reweighed_pred)\n",
    "\n",
    "print(f\"Reweighed Model Accuracy: {reweighed_accuracy:.4f}\")\n",
    "print(f\"Reweighed Statistical Parity Difference: {reweighed_spd}\")\n",
    "print(f\"Reweighed Disparate Impact: {reweighed_di}\")"
   ],
   "outputs": [
    {
     "name": "stdout",
     "output_type": "stream",
     "text": [
      "Reweighed Model Accuracy: 0.8164\n",
      "Reweighed Statistical Parity Difference: {(income=0, sex=0): 0.09104925920912543, (income=0, sex=1): -0.09104925920912543, (income=1, sex=0): -0.09104925920912545, (income=1, sex=1): 0.09104925920912545}\n",
      "Reweighed Disparate Impact: {(income=0, sex=0): 0.9011763341306112, (income=0, sex=1): 1.1096607424391882, (income=1, sex=0): 2.1573644090072723, (income=1, sex=1): 0.46352855170173013}\n"
     ]
    }
   ],
   "execution_count": 7
  },
  {
   "cell_type": "markdown",
   "metadata": {},
   "source": [
    "## Applying ReweighingWithMean for fairness preprocessing"
   ]
  },
  {
   "cell_type": "code",
   "metadata": {
    "ExecuteTime": {
     "end_time": "2025-05-09T13:37:51.459957Z",
     "start_time": "2025-05-09T13:37:51.297692Z"
    }
   },
   "source": [
    "# Apply ReweighingWithMean\n",
    "reweighing_mean = ReweighingWithMean()\n",
    "reweighed_mean_df = reweighing_mean.fit_transform(train_dataset)\n",
    "\n",
    "# Extract weights and features for training\n",
    "weights_mean = reweighed_mean_df['weights'].values\n",
    "X_train_reweighed_mean = X_train.copy()\n",
    "\n",
    "# Train a classifier with the reweighed data\n",
    "reweighed_mean_clf = train_classifier(X_train_reweighed_mean, y_train, sample_weight=weights_mean)\n",
    "\n",
    "# Evaluate the reweighed model\n",
    "reweighed_mean_pred = reweighed_mean_clf.predict(X_test)\n",
    "reweighed_mean_accuracy = accuracy_score(y_test, reweighed_mean_pred)\n",
    "reweighed_mean_spd, reweighed_mean_di = evaluate_fairness(X_test, reweighed_mean_pred)\n",
    "\n",
    "print(f\"ReweighingWithMean Model Accuracy: {reweighed_mean_accuracy:.4f}\")\n",
    "print(f\"ReweighingWithMean Statistical Parity Difference: {reweighed_mean_spd}\")\n",
    "print(f\"ReweighingWithMean Disparate Impact: {reweighed_mean_di}\")"
   ],
   "outputs": [
    {
     "name": "stdout",
     "output_type": "stream",
     "text": [
      "ReweighingWithMean Model Accuracy: 0.8119\n",
      "ReweighingWithMean Statistical Parity Difference: {(income=0, sex=0): 0.056612544658975694, (income=0, sex=1): -0.056612544658975694, (income=1, sex=0): -0.05661254465897572, (income=1, sex=1): 0.05661254465897572}\n",
      "ReweighingWithMean Disparate Impact: {(income=0, sex=0): 0.9371242222923574, (income=0, sex=1): 1.067094389635814, (income=1, sex=0): 1.568325934191343, (income=1, sex=1): 0.6376225618660181}\n"
     ]
    }
   ],
   "execution_count": 8
  },
  {
   "cell_type": "markdown",
   "metadata": {},
   "source": [
    "## Comparing Results"
   ]
  },
  {
   "cell_type": "code",
   "metadata": {
    "ExecuteTime": {
     "end_time": "2025-05-09T13:37:52.636085Z",
     "start_time": "2025-05-09T13:37:52.491195Z"
    }
   },
   "source": [
    "# Create a comparison table\n",
    "results = pd.DataFrame({\n",
    "    'Model': ['Baseline', 'Reweighing', 'ReweighingWithMean'],\n",
    "    'Accuracy': [baseline_accuracy, reweighed_accuracy, reweighed_mean_accuracy],\n",
    "    'SPD': [abs(list(baseline_spd.values())[0]), abs(list(reweighed_spd.values())[0]), abs(list(reweighed_mean_spd.values())[0])],\n",
    "    'DI': [abs(list(baseline_di.values())[0] - 1), abs(list(reweighed_di.values())[0] - 1), abs(list(reweighed_mean_di.values())[0] - 1)]\n",
    "})\n",
    "\n",
    "print(\"Comparison of Models:\")\n",
    "print(results)\n",
    "\n",
    "# Visualize the results\n",
    "fig, (ax1, ax2, ax3) = plt.subplots(1, 3, figsize=(18, 5))\n",
    "\n",
    "# Accuracy comparison\n",
    "ax1.bar(results['Model'], results['Accuracy'])\n",
    "ax1.set_title('Accuracy')\n",
    "ax1.set_ylim(0.7, 0.9)  # Adjust as needed\n",
    "\n",
    "# SPD comparison (lower is better)\n",
    "ax2.bar(results['Model'], results['SPD'])\n",
    "ax2.set_title('Statistical Parity Difference (lower is better)')\n",
    "ax2.set_ylim(0, 0.3)  # Adjust as needed\n",
    "\n",
    "# DI comparison (lower is better)\n",
    "ax3.bar(results['Model'], results['DI'])\n",
    "ax3.set_title('Disparate Impact (lower is better)')\n",
    "ax3.set_ylim(0, 0.3)  # Adjust as needed\n",
    "\n",
    "plt.tight_layout()\n",
    "plt.show()"
   ],
   "outputs": [
    {
     "name": "stdout",
     "output_type": "stream",
     "text": [
      "Comparison of Models:\n",
      "                Model  Accuracy       SPD        DI\n",
      "0            Baseline  0.823984  0.168149  0.174986\n",
      "1          Reweighing  0.816438  0.091049  0.098824\n",
      "2  ReweighingWithMean  0.811933  0.056613  0.062876\n"
     ]
    },
    {
     "data": {
      "text/plain": [
       "<Figure size 1800x500 with 3 Axes>"
      ],
      "image/png": "[encoded data removed]"
     },
     "metadata": {},
     "output_type": "display_data"
    }
   ],
   "execution_count": 9
  }
 ],
 "metadata": {
  "kernelspec": {
   "display_name": "Python 3",
   "language": "python",
   "name": "python3"
  },
  "language_info": {
   "codemirror_mode": {
    "name": "ipython",
    "version": 3
   },
   "file_extension": ".py",
   "mimetype": "text/x-python",
   "name": "python",
   "nbconvert_exporter": "python",
   "pygments_lexer": "ipython3",
   "version": "3.8.10"
  }
 },
 "nbformat": 4,
 "nbformat_minor": 4
}
