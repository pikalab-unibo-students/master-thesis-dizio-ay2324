{
 "cells": [
  {
   "cell_type": "markdown",
   "metadata": {},
   "source": [
    "# Prejudice Remover: Fairness through Regularization\n",
    "\n",
    "The Prejudice Remover is an in-processing fairness algorithm that learns a classifier while removing direct and indirect prejudice by adding a regularization term to the objective function.\n",
    "\n",
    "This algorithm works by penalizing the mutual information between the sensitive attribute and the prediction, effectively reducing the influence of protected attributes on the model's decisions.\n",
    "\n",
    "Key features of the Prejudice Remover algorithm:\n",
    "- **Regularization-based approach**: Adds a fairness term to the loss function\n",
    "- **Tunable fairness parameter (eta)**: Controls the trade-off between accuracy and fairness\n",
    "- **Handles both direct and indirect discrimination**: Addresses both explicit and implicit biases\n",
    "- **Works with any differentiable model**: Can be applied to various neural network architectures\n",
    "\n",
    "In this demo, we'll explore how different values of the regularization parameter (eta) affect the fairness-accuracy trade-off."
   ],
   "id": "bb32c4779199debc"
  },
  {
   "cell_type": "code",
   "metadata": {
    "ExecuteTime": {
     "end_time": "2025-05-09T14:28:24.489331Z",
     "start_time": "2025-05-09T14:28:24.482573Z"
    }
   },
   "source": [
    "import sys\n",
    "import os\n",
    "\n",
    "# Add the root directory of the project to PYTHONPATH\n",
    "sys.path.append(os.path.abspath(os.path.join('..')))\n"
   ],
   "id": "663ec38e4aecd14f",
   "outputs": [],
   "execution_count": 18
  },
  {
   "cell_type": "code",
   "metadata": {
    "ExecuteTime": {
     "end_time": "2025-05-09T14:28:24.655397Z",
     "start_time": "2025-05-09T14:28:24.641482Z"
    }
   },
   "source": [
    "import numpy as np\n",
    "import pandas as pd\n",
    "import matplotlib.pyplot as plt\n",
    "import torch\n",
    "import torch.nn as nn\n",
    "import torch.optim as optim\n",
    "from sklearn.model_selection import train_test_split\n",
    "from sklearn.preprocessing import StandardScaler\n",
    "from sklearn.metrics import accuracy_score\n",
    "import openml\n",
    "\n",
    "from fairlib import DataFrame\n",
    "from fairlib.inprocessing import PrejudiceRemover\n",
    "from fairlib.metrics import statistical_parity_difference, disparate_impact\n",
    "\n",
    "# Set random seed for reproducibility\n",
    "np.random.seed(42)\n",
    "torch.manual_seed(42)"
   ],
   "id": "587cad625e544f04",
   "outputs": [
    {
     "data": {
      "text/plain": [
       "<torch._C.Generator at 0x10d1e39d0>"
      ]
     },
     "execution_count": 19,
     "metadata": {},
     "output_type": "execute_result"
    }
   ],
   "execution_count": 19
  },
  {
   "cell_type": "markdown",
   "metadata": {},
   "source": [
    "## Loading and Preparing the Adult Dataset\n",
    "We will use the Adult dataset from OpenML, which contains demographic information and predicts whether an individual earns more than $50K per year. We'll use 'sex' as our sensitive attribute."
   ],
   "id": "3e16f171e5a0ffd6"
  },
  {
   "cell_type": "code",
   "metadata": {
    "ExecuteTime": {
     "end_time": "2025-05-09T14:28:24.969381Z",
     "start_time": "2025-05-09T14:28:24.882898Z"
    }
   },
   "source": [
    "# Load the Adult dataset from OpenML\n",
    "adult_dataset = openml.datasets.get_dataset(179)\n",
    "adult_X, _, _, _ = adult_dataset.get_data(dataset_format=\"dataframe\")\n",
    "\n",
    "# Rename the target column for clarity\n",
    "adult_X.rename(columns={'class': 'income'}, inplace=True)\n",
    "\n",
    "# Create a DataFrame object and specify target and sensitive attributes\n",
    "adult = DataFrame(adult_X)\n",
    "adult.targets = 'income'\n",
    "adult.sensitive = ['sex']\n",
    "\n",
    "# Drop unnecessary columns\n",
    "adult.drop(columns=[\"fnlwgt\"], inplace=True)\n",
    "\n",
    "# Encode categorical features\n",
    "label_maps = {}\n",
    "for col in adult.columns:\n",
    "    if adult[col].dtype == 'object' or adult[col].dtype == 'category':\n",
    "        adult[col], uniques = pd.factorize(adult[col])\n",
    "        label_maps[col] = uniques\n",
    "\n",
    "print(f\"Dataset shape: {adult.shape}\")\n",
    "print(f\"Target column: {adult.targets}\")\n",
    "print(f\"Sensitive attributes: {adult.sensitive}\")\n",
    "\n",
    "adult.head()"
   ],
   "id": "a9f76e8fd68a095f",
   "outputs": [
    {
     "name": "stdout",
     "output_type": "stream",
     "text": [
      "Dataset shape: (48842, 14)\n",
      "Target column: {'income'}\n",
      "Sensitive attributes: {'sex'}\n"
     ]
    },
    {
     "data": {
      "text/plain": [
       "   age  workclass  education  education-num  marital-status  occupation  \\\n",
       "0    0          0          0             13               0           0   \n",
       "1    1          1          0             13               1           1   \n",
       "2    0          2          1              9               2           2   \n",
       "3    1          2          2              7               1           2   \n",
       "4    2          2          0             13               1           3   \n",
       "\n",
       "   relationship  race  sex  capitalgain  capitalloss  hoursperweek  \\\n",
       "0             0     0    0            0            0             0   \n",
       "1             1     0    0            1            0             1   \n",
       "2             0     0    0            1            0             0   \n",
       "3             1     1    0            1            0             0   \n",
       "4             2     1    1            1            0             0   \n",
       "\n",
       "   native-country  income  \n",
       "0               0       0  \n",
       "1               0       0  \n",
       "2               0       0  \n",
       "3               0       0  \n",
       "4               1       0  "
      ],
      "text/html": [
       "<div>\n",
       "<style scoped>\n",
       "    .dataframe tbody tr th:only-of-type {\n",
       "        vertical-align: middle;\n",
       "    }\n",
       "\n",
       "    .dataframe tbody tr th {\n",
       "        vertical-align: top;\n",
       "    }\n",
       "\n",
       "    .dataframe thead th {\n",
       "        text-align: right;\n",
       "    }\n",
       "</style>\n",
       "<table border=\"1\" class=\"dataframe\">\n",
       "  <thead>\n",
       "    <tr style=\"text-align: right;\">\n",
       "      <th></th>\n",
       "      <th>age</th>\n",
       "      <th>workclass</th>\n",
       "      <th>education</th>\n",
       "      <th>education-num</th>\n",
       "      <th>marital-status</th>\n",
       "      <th>occupation</th>\n",
       "      <th>relationship</th>\n",
       "      <th>race</th>\n",
       "      <th>sex</th>\n",
       "      <th>capitalgain</th>\n",
       "      <th>capitalloss</th>\n",
       "      <th>hoursperweek</th>\n",
       "      <th>native-country</th>\n",
       "      <th>income</th>\n",
       "    </tr>\n",
       "  </thead>\n",
       "  <tbody>\n",
       "    <tr>\n",
       "      <th>0</th>\n",
       "      <td>0</td>\n",
       "      <td>0</td>\n",
       "      <td>0</td>\n",
       "      <td>13</td>\n",
       "      <td>0</td>\n",
       "      <td>0</td>\n",
       "      <td>0</td>\n",
       "      <td>0</td>\n",
       "      <td>0</td>\n",
       "      <td>0</td>\n",
       "      <td>0</td>\n",
       "      <td>0</td>\n",
       "      <td>0</td>\n",
       "      <td>0</td>\n",
       "    </tr>\n",
       "    <tr>\n",
       "      <th>1</th>\n",
       "      <td>1</td>\n",
       "      <td>1</td>\n",
       "      <td>0</td>\n",
       "      <td>13</td>\n",
       "      <td>1</td>\n",
       "      <td>1</td>\n",
       "      <td>1</td>\n",
       "      <td>0</td>\n",
       "      <td>0</td>\n",
       "      <td>1</td>\n",
       "      <td>0</td>\n",
       "      <td>1</td>\n",
       "      <td>0</td>\n",
       "      <td>0</td>\n",
       "    </tr>\n",
       "    <tr>\n",
       "      <th>2</th>\n",
       "      <td>0</td>\n",
       "      <td>2</td>\n",
       "      <td>1</td>\n",
       "      <td>9</td>\n",
       "      <td>2</td>\n",
       "      <td>2</td>\n",
       "      <td>0</td>\n",
       "      <td>0</td>\n",
       "      <td>0</td>\n",
       "      <td>1</td>\n",
       "      <td>0</td>\n",
       "      <td>0</td>\n",
       "      <td>0</td>\n",
       "      <td>0</td>\n",
       "    </tr>\n",
       "    <tr>\n",
       "      <th>3</th>\n",
       "      <td>1</td>\n",
       "      <td>2</td>\n",
       "      <td>2</td>\n",
       "      <td>7</td>\n",
       "      <td>1</td>\n",
       "      <td>2</td>\n",
       "      <td>1</td>\n",
       "      <td>1</td>\n",
       "      <td>0</td>\n",
       "      <td>1</td>\n",
       "      <td>0</td>\n",
       "      <td>0</td>\n",
       "      <td>0</td>\n",
       "      <td>0</td>\n",
       "    </tr>\n",
       "    <tr>\n",
       "      <th>4</th>\n",
       "      <td>2</td>\n",
       "      <td>2</td>\n",
       "      <td>0</td>\n",
       "      <td>13</td>\n",
       "      <td>1</td>\n",
       "      <td>3</td>\n",
       "      <td>2</td>\n",
       "      <td>1</td>\n",
       "      <td>1</td>\n",
       "      <td>1</td>\n",
       "      <td>0</td>\n",
       "      <td>0</td>\n",
       "      <td>1</td>\n",
       "      <td>0</td>\n",
       "    </tr>\n",
       "  </tbody>\n",
       "</table>\n",
       "</div>"
      ]
     },
     "execution_count": 20,
     "metadata": {},
     "output_type": "execute_result"
    }
   ],
   "execution_count": 20
  },
  {
   "cell_type": "markdown",
   "metadata": {},
   "source": [
    "## Splitting the Dataset\n",
    "We'll split our data into training and testing sets to evaluate our models."
   ],
   "id": "split_dataset_markdown"
  },
  {
   "cell_type": "code",
   "metadata": {
    "ExecuteTime": {
     "end_time": "2025-05-09T14:28:25.230609Z",
     "start_time": "2025-05-09T14:28:25.205360Z"
    }
   },
   "source": [
    "# Split the data into features and target\n",
    "X = adult.drop(columns=adult.targets)\n",
    "y = adult[adult.targets.pop()]\n",
    "\n",
    "# Split into training and testing sets\n",
    "X_train, X_test, y_train, y_test = train_test_split(X, y, test_size=0.2, random_state=42)\n",
    "\n",
    "# Create DataFrames for training and testing\n",
    "train_df = DataFrame(pd.concat([X_train, y_train], axis=1))\n",
    "train_df.targets = adult.targets\n",
    "train_df.sensitive = adult.sensitive\n",
    "\n",
    "test_df = DataFrame(pd.concat([X_test, y_test], axis=1))\n",
    "test_df.targets = adult.targets\n",
    "test_df.sensitive = adult.sensitive\n",
    "\n",
    "print(f\"Training set shape: {train_df.shape}\")\n",
    "print(f\"Testing set shape: {test_df.shape}\")"
   ],
   "id": "split_dataset_code",
   "outputs": [
    {
     "name": "stdout",
     "output_type": "stream",
     "text": [
      "Training set shape: (39073, 14)\n",
      "Testing set shape: (9769, 14)\n"
     ]
    }
   ],
   "execution_count": 21
  },
  {
   "cell_type": "markdown",
   "metadata": {},
   "source": [
    "## Creating a Neural Network Model\n",
    "We'll define a simple neural network model to use with the Prejudice Remover algorithm."
   ],
   "id": "model_definition_markdown"
  },
  {
   "cell_type": "code",
   "metadata": {
    "ExecuteTime": {
     "end_time": "2025-05-09T14:28:25.413781Z",
     "start_time": "2025-05-09T14:28:25.408601Z"
    }
   },
   "source": [
    "class SimpleNN(nn.Module):\n",
    "    def __init__(self, input_size):\n",
    "        super(SimpleNN, self).__init__()\n",
    "        self.layer1 = nn.Linear(input_size, 64)\n",
    "        self.layer2 = nn.Linear(64, 32)\n",
    "        self.layer3 = nn.Linear(32, 1)\n",
    "        self.relu = nn.ReLU()\n",
    "        self.sigmoid = nn.Sigmoid()\n",
    "        \n",
    "    def forward(self, x):\n",
    "        x = self.relu(self.layer1(x))\n",
    "        x = self.relu(self.layer2(x))\n",
    "        x = self.sigmoid(self.layer3(x))\n",
    "        return x\n",
    "\n",
    "# Get the number of features in our dataset\n",
    "input_size = X_train.shape[1]\n",
    "\n",
    "# Create a model instance\n",
    "model = SimpleNN(input_size)\n",
    "print(f\"Model created with input size: {input_size}\")"
   ],
   "id": "model_definition_code",
   "outputs": [
    {
     "name": "stdout",
     "output_type": "stream",
     "text": [
      "Model created with input size: 13\n"
     ]
    }
   ],
   "execution_count": 22
  },
  {
   "cell_type": "markdown",
   "metadata": {},
   "source": [
    "## Training and Evaluating Models with Different Eta Values\n",
    "Now we'll train multiple Prejudice Remover models with different eta values to see how this parameter affects the fairness-accuracy trade-off.\n",
    "- eta = 0: No fairness regularization (standard model)\n",
    "- eta > 0: Increasing values impose stronger fairness constraints"
   ],
   "id": "training_models_markdown"
  },
  {
   "cell_type": "code",
   "metadata": {
    "ExecuteTime": {
     "end_time": "2025-05-09T14:34:05.218362Z",
     "start_time": "2025-05-09T14:28:25.671877Z"
    }
   },
   "source": [
    "def train_and_evaluate(train_data, test_data, eta, epochs=200, batch_size=128):\n",
    "    model_copy = SimpleNN(input_size)\n",
    "    prejudice_remover = PrejudiceRemover(\n",
    "        model_copy,\n",
    "        loss=nn.BCELoss(),\n",
    "        eta=eta\n",
    "    )\n",
    "\n",
    "    prejudice_remover.fit(\n",
    "        train_data,\n",
    "        epochs=epochs,\n",
    "        batch_size=batch_size\n",
    "    )\n",
    "\n",
    "    # Convert from set to list before indexing\n",
    "    target_col = list(test_data.targets)[0]\n",
    "    sensitive_col = list(test_data.sensitive)[0]\n",
    "\n",
    "    # Prepare test data\n",
    "    X_test = test_data.drop(columns=target_col)\n",
    "    y_true = test_data[target_col].to_numpy()\n",
    "    sensitive = test_data[sensitive_col].to_numpy()\n",
    "\n",
    "    # Predictions\n",
    "    y_pred = prejudice_remover.predict(X_test)\n",
    "    y_pred_binary = (y_pred > 0.5).float().numpy()\n",
    "\n",
    "    # Accuracy\n",
    "    accuracy = accuracy_score(y_true, y_pred_binary)\n",
    "\n",
    "    # Fairness metrics - use predictions as targets\n",
    "    spd = statistical_parity_difference(y_pred_binary, sensitive)\n",
    "    di  = disparate_impact(y_pred_binary, sensitive)\n",
    "\n",
    "    return {\n",
    "        'eta': eta,\n",
    "        'accuracy': accuracy,\n",
    "        'statistical_parity_difference': spd,\n",
    "        'disparate_impact': di\n",
    "    }\n",
    "\n",
    "\n",
    "# Define eta values to test\n",
    "eta_values = [0.0, 0.1, 0.3 ,0.5, 0.8]\n",
    "\n",
    "# Train and evaluate models with different eta values\n",
    "results = []\n",
    "for eta in eta_values:\n",
    "    print(f\"Training model with eta = {eta}...\")\n",
    "    result = train_and_evaluate(train_df, test_df, eta)\n",
    "    results.append(result)\n",
    "    print(f\"  Accuracy: {result['accuracy']:.4f}\")\n",
    "    print(f\"  Statistical Parity Difference: {result['statistical_parity_difference']}\")\n",
    "    print(f\"  Disparate Impact: {result['disparate_impact']}\")\n",
    "    print()\n",
    "\n",
    "# Convert results to DataFrame for easier analysis\n",
    "results_df = pd.DataFrame(results)\n",
    "results_df"
   ],
   "id": "training_models_code",
   "outputs": [
    {
     "name": "stdout",
     "output_type": "stream",
     "text": [
      "Training model with eta = 0.0...\n",
      "  Accuracy: 0.8396\n",
      "  Statistical Parity Difference: [[-0.20984906  0.20984906]\n",
      " [ 0.20984906 -0.20984906]]\n",
      "  Disparate Impact: [[1.30677107 0.33579978]\n",
      " [0.76524498 2.97796505]]\n",
      "\n",
      "Training model with eta = 0.1...\n",
      "  Accuracy: 0.8404\n",
      "  Statistical Parity Difference: [[-0.17647815  0.17647815]\n",
      " [ 0.17647815 -0.17647815]]\n",
      "  Disparate Impact: [[1.24171441 0.34611044]\n",
      " [0.80533816 2.88925118]]\n",
      "\n",
      "Training model with eta = 0.3...\n",
      "  Accuracy: 0.8450\n",
      "  Statistical Parity Difference: [[-0.17701002  0.17701002]\n",
      " [ 0.17701002 -0.17701002]]\n",
      "  Disparate Impact: [[1.24037763 0.32853307]\n",
      " [0.80620609 3.0438336 ]]\n",
      "\n",
      "Training model with eta = 0.5...\n",
      "  Accuracy: 0.8410\n",
      "  Statistical Parity Difference: [[-0.16196253  0.16196253]\n",
      " [ 0.16196253 -0.16196253]]\n",
      "  Disparate Impact: [[1.21290971 0.32315405]\n",
      " [0.82446368 3.09449939]]\n",
      "\n",
      "Training model with eta = 0.8...\n",
      "  Accuracy: 0.8403\n",
      "  Statistical Parity Difference: [[-0.16649617  0.16649617]\n",
      " [ 0.16649617 -0.16649617]]\n",
      "  Disparate Impact: [[1.22172351 0.33156082]\n",
      " [0.8185158  3.01603794]]\n",
      "\n"
     ]
    },
    {
     "data": {
      "text/plain": [
       "   eta  accuracy                      statistical_parity_difference  \\\n",
       "0  0.0  0.839595  [[-0.20984906076829335, 0.20984906076829335], ...   \n",
       "1  0.1  0.840414  [[-0.17647814895427016, 0.17647814895427016], ...   \n",
       "2  0.3  0.845020  [[-0.17701002437758417, 0.17701002437758412], ...   \n",
       "3  0.5  0.841028  [[-0.16196252613709372, 0.16196252613709372], ...   \n",
       "4  0.8  0.840311  [[-0.16649617375284942, 0.1664961737528494], [...   \n",
       "\n",
       "                                    disparate_impact  \n",
       "0  [[1.3067710716129648, 0.3357997766675229], [0....  \n",
       "1  [[1.2417144135719007, 0.3461104412896203], [0....  \n",
       "2  [[1.2403776271206919, 0.3285330706141092], [0....  \n",
       "3  [[1.2129097085342004, 0.3231540467825802], [0....  \n",
       "4  [[1.2217235109308524, 0.3315608159406489], [0....  "
      ],
      "text/html": [
       "<div>\n",
       "<style scoped>\n",
       "    .dataframe tbody tr th:only-of-type {\n",
       "        vertical-align: middle;\n",
       "    }\n",
       "\n",
       "    .dataframe tbody tr th {\n",
       "        vertical-align: top;\n",
       "    }\n",
       "\n",
       "    .dataframe thead th {\n",
       "        text-align: right;\n",
       "    }\n",
       "</style>\n",
       "<table border=\"1\" class=\"dataframe\">\n",
       "  <thead>\n",
       "    <tr style=\"text-align: right;\">\n",
       "      <th></th>\n",
       "      <th>eta</th>\n",
       "      <th>accuracy</th>\n",
       "      <th>statistical_parity_difference</th>\n",
       "      <th>disparate_impact</th>\n",
       "    </tr>\n",
       "  </thead>\n",
       "  <tbody>\n",
       "    <tr>\n",
       "      <th>0</th>\n",
       "      <td>0.0</td>\n",
       "      <td>0.839595</td>\n",
       "      <td>[[-0.20984906076829335, 0.20984906076829335], ...</td>\n",
       "      <td>[[1.3067710716129648, 0.3357997766675229], [0....</td>\n",
       "    </tr>\n",
       "    <tr>\n",
       "      <th>1</th>\n",
       "      <td>0.1</td>\n",
       "      <td>0.840414</td>\n",
       "      <td>[[-0.17647814895427016, 0.17647814895427016], ...</td>\n",
       "      <td>[[1.2417144135719007, 0.3461104412896203], [0....</td>\n",
       "    </tr>\n",
       "    <tr>\n",
       "      <th>2</th>\n",
       "      <td>0.3</td>\n",
       "      <td>0.845020</td>\n",
       "      <td>[[-0.17701002437758417, 0.17701002437758412], ...</td>\n",
       "      <td>[[1.2403776271206919, 0.3285330706141092], [0....</td>\n",
       "    </tr>\n",
       "    <tr>\n",
       "      <th>3</th>\n",
       "      <td>0.5</td>\n",
       "      <td>0.841028</td>\n",
       "      <td>[[-0.16196252613709372, 0.16196252613709372], ...</td>\n",
       "      <td>[[1.2129097085342004, 0.3231540467825802], [0....</td>\n",
       "    </tr>\n",
       "    <tr>\n",
       "      <th>4</th>\n",
       "      <td>0.8</td>\n",
       "      <td>0.840311</td>\n",
       "      <td>[[-0.16649617375284942, 0.1664961737528494], [...</td>\n",
       "      <td>[[1.2217235109308524, 0.3315608159406489], [0....</td>\n",
       "    </tr>\n",
       "  </tbody>\n",
       "</table>\n",
       "</div>"
      ]
     },
     "execution_count": 23,
     "metadata": {},
     "output_type": "execute_result"
    }
   ],
   "execution_count": 23
  }
 ],
 "metadata": {
  "kernelspec": {
   "display_name": "Python 3",
   "language": "python",
   "name": "python3"
  },
  "language_info": {
   "codemirror_mode": {
    "name": "ipython",
    "version": 3
   },
   "file_extension": ".py",
   "mimetype": "text/x-python",
   "name": "python",
   "nbconvert_exporter": "python",
   "pygments_lexer": "ipython3",
   "version": "3.8.10"
  }
 }
}
